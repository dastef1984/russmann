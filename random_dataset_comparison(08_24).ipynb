{
 "cells": [
  {
   "cell_type": "markdown",
   "metadata": {
    "id": "gy88JsWl26Ew"
   },
   "source": [
    "The primary issue encountered in this project was that the custom dataset, derived from medical reviews, did not yield meaningful results when used with the RecBole framework, unlike the MovieLens dataset, which provided consistent and valuable outcomes. To identify the root cause, I conducted a detailed comparison between the custom dataset and two random datasets—one with a similar structure and another larger one mimicking the custom dataset's size.\n",
    "\n",
    "**Key Findings:**\n",
    "\n",
    "1. **Dataset Structure:** Both datasets had the same columns and data types (`user_id:token`, `item_id:token`, `rating:float`, `timestamp:float`), indicating that structural differences were not the issue.\n",
    "   \n",
    "2. **Dataset Size:** The custom dataset and the large randomly generated dataset had the same number of entries (215,063), while the smaller random dataset had only 10,000 entries.\n",
    "\n",
    "3. **Statistical Properties:**\n",
    "   - The **Custom Dataset** had a higher mean rating (6.99) compared to the random datasets (~3.0). The timestamp range and distribution were also different, with the custom dataset having more recent timestamps.\n",
    "   - The **Large Random Dataset** showed similar statistical properties to the smaller random dataset but differed from the custom dataset in terms of rating distribution and timestamp.\n",
    "\n",
    "These differences suggest that the custom dataset's inherent characteristics, such as higher ratings and more recent timestamps, could be influencing the model's performance. Further investigation, possibly focusing on the impact of these properties on model training, is necessary to understand why the custom dataset isn't producing meaningful results."
   ]
  },
  {
   "cell_type": "markdown",
   "metadata": {
    "id": "kOT6xVekuk-Q"
   },
   "source": [
    "Step 1: Create random dataset in the structure needed in recbole (user_id:token, item_id:token, rating:float, timestamp:float)"
   ]
  },
  {
   "cell_type": "code",
   "execution_count": 1,
   "metadata": {
    "colab": {
     "base_uri": "https://localhost:8080/"
    },
    "id": "NIlswklCkq6n",
    "outputId": "6be00a42-da54-4c7b-d2d3-950dfd8d6868"
   },
   "outputs": [
    {
     "name": "stderr",
     "output_type": "stream",
     "text": [
      "/home/stef/.local/lib/python3.10/site-packages/pandas/core/computation/expressions.py:21: UserWarning: Pandas requires version '2.8.4' or newer of 'numexpr' (version '2.8.1' currently installed).\n",
      "  from pandas.core.computation.check import NUMEXPR_INSTALLED\n",
      "/home/stef/.local/lib/python3.10/site-packages/pandas/core/arrays/masked.py:60: UserWarning: Pandas requires version '1.3.6' or newer of 'bottleneck' (version '1.3.2' currently installed).\n",
      "  from pandas.core import (\n"
     ]
    },
    {
     "name": "stdout",
     "output_type": "stream",
     "text": [
      "Dataset saved to dataset/random_ml1m_structure/random_ml1m_structure.inter\n",
      "First few rows of the dataset:\n",
      "   user_id:token  item_id:token  rating:float  timestamp:float\n",
      "0            103            954             3       1229343492\n",
      "1            436            279             2       1325078740\n",
      "2            861            251             5       1033486648\n",
      "3            271            310             1       1398289623\n",
      "4            107            720             4       1369596254\n"
     ]
    }
   ],
   "source": [
    "import pandas as pd\n",
    "import numpy as np\n",
    "import os\n",
    "\n",
    "# Step 1: Create random dataset\n",
    "def create_random_dataset(num_users, num_items, num_interactions):\n",
    "    np.random.seed(42)\n",
    "\n",
    "    user_ids = np.random.randint(1, num_users + 1, size=num_interactions)\n",
    "    item_ids = np.random.randint(1, num_items + 1, size=num_interactions)\n",
    "    ratings = np.random.randint(1, 6, size=num_interactions)  # Ratings between 1 and 5\n",
    "    timestamps = np.random.randint(1_000_000_000, 1_500_000_000, size=num_interactions)  # Random timestamps\n",
    "\n",
    "    data = {\n",
    "        'user_id:token': user_ids,\n",
    "        'item_id:token': item_ids,\n",
    "        'rating:float': ratings,\n",
    "        'timestamp:float': timestamps\n",
    "    }\n",
    "\n",
    "    df = pd.DataFrame(data)\n",
    "    return df\n",
    "\n",
    "# Step 2: Save dataset in the correct directory structure\n",
    "def save_dataset(df, dataset_name):\n",
    "    dataset_dir = f'dataset/{dataset_name}'\n",
    "\n",
    "    # Ensure the directory exists\n",
    "    os.makedirs(dataset_dir, exist_ok=True)\n",
    "\n",
    "    # Save the interaction file\n",
    "    interaction_file_path = os.path.join(dataset_dir, f'{dataset_name}.inter')\n",
    "    df.to_csv(interaction_file_path, sep='\\t', index=False)\n",
    "    print(f'Dataset saved to {interaction_file_path}')\n",
    "\n",
    "# Step 3: Run the process\n",
    "dataset_name = 'random_ml1m_structure'\n",
    "random_df = create_random_dataset(num_users=1000, num_items=1000, num_interactions=10000)\n",
    "save_dataset(random_df, dataset_name)\n",
    "\n",
    "# Check the first few rows of the dataset\n",
    "print(\"First few rows of the dataset:\")\n",
    "print(random_df.head())"
   ]
  },
  {
   "cell_type": "markdown",
   "metadata": {
    "id": "vaZp_BM0u0PL"
   },
   "source": [
    "Step 2: Train BPR model with random generated dataset"
   ]
  },
  {
   "cell_type": "code",
   "execution_count": 2,
   "metadata": {
    "colab": {
     "base_uri": "https://localhost:8080/"
    },
    "id": "z8Ewnn1NktAi",
    "outputId": "fef28bd4-d73a-4ce1-92ee-b85917058096"
   },
   "outputs": [
    {
     "name": "stderr",
     "output_type": "stream",
     "text": [
      "/usr/lib/python3/dist-packages/scipy/__init__.py:146: UserWarning: A NumPy version >=1.17.3 and <1.25.0 is required for this version of SciPy (detected version 1.26.2\n",
      "  warnings.warn(f\"A NumPy version >={np_minversion} and <{np_maxversion}\"\n",
      "21 Aug 17:11    INFO  ['/home/stef/.local/lib/python3.10/site-packages/ipykernel_launcher.py', '-f', '/home/stef/.local/share/jupyter/runtime/kernel-ff343df6-b497-4e3f-ba9f-447e555ce260.json']\n",
      "21 Aug 17:11    INFO  \n",
      "General Hyper Parameters:\n",
      "gpu_id = 0\n",
      "use_gpu = True\n",
      "seed = 2020\n",
      "state = INFO\n",
      "reproducibility = True\n",
      "data_path = dataset/random_ml1m_structure\n",
      "checkpoint_dir = saved\n",
      "show_progress = True\n",
      "save_dataset = False\n",
      "dataset_save_path = None\n",
      "save_dataloaders = False\n",
      "dataloaders_save_path = None\n",
      "log_wandb = False\n",
      "\n",
      "Training Hyper Parameters:\n",
      "epochs = 10\n",
      "train_batch_size = 4096\n",
      "learner = adam\n",
      "learning_rate = 0.001\n",
      "train_neg_sample_args = {'distribution': 'uniform', 'sample_num': 1, 'alpha': 1.0, 'dynamic': False, 'candidate_num': 0}\n",
      "eval_step = 1\n",
      "stopping_step = 10\n",
      "clip_grad_norm = None\n",
      "weight_decay = 0.0\n",
      "loss_decimal_place = 4\n",
      "\n",
      "Evaluation Hyper Parameters:\n",
      "eval_args = {'split': {'RS': [0.8, 0.1, 0.1]}, 'order': 'RO', 'group_by': 'user', 'mode': {'valid': 'full', 'test': 'full'}}\n",
      "repeatable = False\n",
      "metrics = ['Recall', 'MRR', 'NDCG', 'Hit', 'Precision']\n",
      "topk = [10]\n",
      "valid_metric = MRR@10\n",
      "valid_metric_bigger = True\n",
      "eval_batch_size = 4096\n",
      "metric_decimal_place = 4\n",
      "\n",
      "Dataset Hyper Parameters:\n",
      "field_separator = \t\n",
      "seq_separator =  \n",
      "USER_ID_FIELD = user_id\n",
      "ITEM_ID_FIELD = item_id\n",
      "RATING_FIELD = rating\n",
      "TIME_FIELD = timestamp\n",
      "seq_len = None\n",
      "LABEL_FIELD = label\n",
      "threshold = None\n",
      "NEG_PREFIX = neg_\n",
      "load_col = {'inter': ['user_id', 'item_id']}\n",
      "unload_col = None\n",
      "unused_col = None\n",
      "additional_feat_suffix = None\n",
      "rm_dup_inter = None\n",
      "val_interval = None\n",
      "filter_inter_by_user_or_item = True\n",
      "user_inter_num_interval = [0,inf)\n",
      "item_inter_num_interval = [0,inf)\n",
      "alias_of_user_id = None\n",
      "alias_of_item_id = None\n",
      "alias_of_entity_id = None\n",
      "alias_of_relation_id = None\n",
      "preload_weight = None\n",
      "normalize_field = None\n",
      "normalize_all = None\n",
      "ITEM_LIST_LENGTH_FIELD = item_length\n",
      "LIST_SUFFIX = _list\n",
      "MAX_ITEM_LIST_LENGTH = 50\n",
      "POSITION_FIELD = position_id\n",
      "HEAD_ENTITY_ID_FIELD = head_id\n",
      "TAIL_ENTITY_ID_FIELD = tail_id\n",
      "RELATION_ID_FIELD = relation_id\n",
      "ENTITY_ID_FIELD = entity_id\n",
      "benchmark_filename = None\n",
      "\n",
      "Other Hyper Parameters: \n",
      "worker = 0\n",
      "wandb_project = recbole\n",
      "shuffle = True\n",
      "require_pow = False\n",
      "enable_amp = False\n",
      "enable_scaler = False\n",
      "transform = None\n",
      "embedding_size = 64\n",
      "numerical_features = []\n",
      "discretization = None\n",
      "kg_reverse_r = False\n",
      "entity_kg_num_interval = [0,inf)\n",
      "relation_kg_num_interval = [0,inf)\n",
      "MODEL_TYPE = ModelType.GENERAL\n",
      "MODEL_INPUT_TYPE = InputType.PAIRWISE\n",
      "eval_type = EvaluatorType.RANKING\n",
      "single_spec = True\n",
      "local_rank = 0\n",
      "device = cpu\n",
      "valid_neg_sample_args = {'distribution': 'uniform', 'sample_num': 'none'}\n",
      "test_neg_sample_args = {'distribution': 'uniform', 'sample_num': 'none'}\n",
      "\n",
      "\n",
      "/home/stef/.local/lib/python3.10/site-packages/recbole/data/dataset/dataset.py:648: FutureWarning: A value is trying to be set on a copy of a DataFrame or Series through chained assignment using an inplace method.\n",
      "The behavior will change in pandas 3.0. This inplace method will never work because the intermediate object on which we are setting values always behaves as a copy.\n",
      "\n",
      "For example, when doing 'df[col].method(value, inplace=True)', try using 'df.method({col: value}, inplace=True)' or df[col] = df[col].method(value) instead, to perform the operation inplace on the original object.\n",
      "\n",
      "\n",
      "  feat[field].fillna(value=0, inplace=True)\n",
      "21 Aug 17:11    INFO  random_ml1m_structure\n",
      "The number of users: 1001\n",
      "Average actions of users: 10.0\n",
      "The number of items: 1001\n",
      "Average actions of items: 10.0\n",
      "The number of inters: 10000\n",
      "The sparsity of the dataset: 99.001997003995%\n",
      "Remain Fields: ['user_id', 'item_id']\n",
      "21 Aug 17:11    INFO  [Training]: train_batch_size = [4096] train_neg_sample_args: [{'distribution': 'uniform', 'sample_num': 1, 'alpha': 1.0, 'dynamic': False, 'candidate_num': 0}]\n",
      "21 Aug 17:11    INFO  [Evaluation]: eval_batch_size = [4096] eval_args: [{'split': {'RS': [0.8, 0.1, 0.1]}, 'order': 'RO', 'group_by': 'user', 'mode': {'valid': 'full', 'test': 'full'}}]\n",
      "21 Aug 17:11    INFO  BPR(\n",
      "  (user_embedding): Embedding(1001, 64)\n",
      "  (item_embedding): Embedding(1001, 64)\n",
      "  (loss): BPRLoss()\n",
      ")\n",
      "Trainable parameters: 128128\n",
      "21 Aug 17:11    INFO  FLOPs: 128.0\n",
      "Train     0:   0%|                                                            | 0/2 [00:00<?, ?it/s]: 100%|████████████████████████████████████████████████████| 2/2 [00:00<00:00, 52.93it/s]\n",
      "21 Aug 17:11    INFO  epoch 0 training [time: 0.04s, train loss: 1.3869]\n",
      "Evaluate   :   0%|                                                          | 0/249 [00:00<?, ?it/s]: 100%|██████████████████████████████████████████████| 249/249 [00:00<00:00, 3185.52it/s]\n",
      "21 Aug 17:11    INFO  epoch 0 evaluating [time: 0.09s, valid_score: 0.004700]\n",
      "21 Aug 17:11    INFO  valid result: \n",
      "recall@10 : 0.0161    mrr@10 : 0.0047    ndcg@10 : 0.0073    hit@10 : 0.0161    precision@10 : 0.0016\n",
      "21 Aug 17:11    INFO  Saving current: saved/BPR-Aug-21-2024_17-11-45.pth\n",
      "Train     1:   0%|                                                            | 0/2 [00:00<?, ?it/s]: 100%|███████████████████████████████████████████████████| 2/2 [00:00<00:00, 155.77it/s]\n",
      "21 Aug 17:11    INFO  epoch 1 training [time: 0.02s, train loss: 1.3848]\n",
      "Evaluate   :   0%|                                                          | 0/249 [00:00<?, ?it/s]: 100%|██████████████████████████████████████████████| 249/249 [00:00<00:00, 3523.94it/s]\n",
      "21 Aug 17:11    INFO  epoch 1 evaluating [time: 0.08s, valid_score: 0.004800]\n",
      "21 Aug 17:11    INFO  valid result: \n",
      "recall@10 : 0.0161    mrr@10 : 0.0048    ndcg@10 : 0.0074    hit@10 : 0.0161    precision@10 : 0.0016\n",
      "21 Aug 17:11    INFO  Saving current: saved/BPR-Aug-21-2024_17-11-45.pth\n",
      "Train     2:   0%|                                                            | 0/2 [00:00<?, ?it/s]: 100%|███████████████████████████████████████████████████| 2/2 [00:00<00:00, 186.81it/s]\n",
      "21 Aug 17:11    INFO  epoch 2 training [time: 0.01s, train loss: 1.3830]\n",
      "Evaluate   :   0%|                                                          | 0/249 [00:00<?, ?it/s]: 100%|██████████████████████████████████████████████| 249/249 [00:00<00:00, 3535.94it/s]\n",
      "21 Aug 17:11    INFO  epoch 2 evaluating [time: 0.08s, valid_score: 0.004900]\n",
      "21 Aug 17:11    INFO  valid result: \n",
      "recall@10 : 0.0171    mrr@10 : 0.0049    ndcg@10 : 0.0077    hit@10 : 0.0171    precision@10 : 0.0017\n",
      "21 Aug 17:11    INFO  Saving current: saved/BPR-Aug-21-2024_17-11-45.pth\n",
      "Train     3:   0%|                                                            | 0/2 [00:00<?, ?it/s]: 100%|███████████████████████████████████████████████████| 2/2 [00:00<00:00, 180.68it/s]\n",
      "21 Aug 17:11    INFO  epoch 3 training [time: 0.01s, train loss: 1.3816]\n",
      "Evaluate   :   0%|                                                          | 0/249 [00:00<?, ?it/s]: 100%|██████████████████████████████████████████████| 249/249 [00:00<00:00, 3447.85it/s]\n",
      "21 Aug 17:11    INFO  epoch 3 evaluating [time: 0.08s, valid_score: 0.005100]\n",
      "21 Aug 17:11    INFO  valid result: \n",
      "recall@10 : 0.0171    mrr@10 : 0.0051    ndcg@10 : 0.0078    hit@10 : 0.0171    precision@10 : 0.0017\n",
      "21 Aug 17:11    INFO  Saving current: saved/BPR-Aug-21-2024_17-11-45.pth\n",
      "Train     4:   0%|                                                            | 0/2 [00:00<?, ?it/s]: 100%|███████████████████████████████████████████████████| 2/2 [00:00<00:00, 188.40it/s]\n",
      "21 Aug 17:11    INFO  epoch 4 training [time: 0.01s, train loss: 1.3797]\n",
      "Evaluate   :   0%|                                                          | 0/249 [00:00<?, ?it/s]: 100%|██████████████████████████████████████████████| 249/249 [00:00<00:00, 3530.71it/s]\n",
      "21 Aug 17:11    INFO  epoch 4 evaluating [time: 0.08s, valid_score: 0.004800]\n",
      "21 Aug 17:11    INFO  valid result: \n",
      "recall@10 : 0.0171    mrr@10 : 0.0048    ndcg@10 : 0.0076    hit@10 : 0.0171    precision@10 : 0.0017\n"
     ]
    },
    {
     "name": "stderr",
     "output_type": "stream",
     "text": [
      "Train     5:   0%|                                                            | 0/2 [00:00<?, ?it/s]: 100%|███████████████████████████████████████████████████| 2/2 [00:00<00:00, 181.27it/s]\n",
      "21 Aug 17:11    INFO  epoch 5 training [time: 0.01s, train loss: 1.3778]\n",
      "Evaluate   :   0%|                                                          | 0/249 [00:00<?, ?it/s]: 100%|██████████████████████████████████████████████| 249/249 [00:00<00:00, 3532.88it/s]\n",
      "21 Aug 17:11    INFO  epoch 5 evaluating [time: 0.08s, valid_score: 0.005000]\n",
      "21 Aug 17:11    INFO  valid result: \n",
      "recall@10 : 0.0181    mrr@10 : 0.005    ndcg@10 : 0.008    hit@10 : 0.0181    precision@10 : 0.0018\n",
      "Train     6:   0%|                                                            | 0/2 [00:00<?, ?it/s]: 100%|███████████████████████████████████████████████████| 2/2 [00:00<00:00, 185.65it/s]\n",
      "21 Aug 17:11    INFO  epoch 6 training [time: 0.01s, train loss: 1.3761]\n",
      "Evaluate   :   0%|                                                          | 0/249 [00:00<?, ?it/s]: 100%|██████████████████████████████████████████████| 249/249 [00:00<00:00, 3487.24it/s]\n",
      "21 Aug 17:11    INFO  epoch 6 evaluating [time: 0.08s, valid_score: 0.005200]\n",
      "21 Aug 17:11    INFO  valid result: \n",
      "recall@10 : 0.0171    mrr@10 : 0.0052    ndcg@10 : 0.008    hit@10 : 0.0171    precision@10 : 0.0017\n",
      "21 Aug 17:11    INFO  Saving current: saved/BPR-Aug-21-2024_17-11-45.pth\n",
      "Train     7:   0%|                                                            | 0/2 [00:00<?, ?it/s]: 100%|███████████████████████████████████████████████████| 2/2 [00:00<00:00, 182.34it/s]\n",
      "21 Aug 17:11    INFO  epoch 7 training [time: 0.01s, train loss: 1.3742]\n",
      "Evaluate   :   0%|                                                          | 0/249 [00:00<?, ?it/s]: 100%|██████████████████████████████████████████████| 249/249 [00:00<00:00, 3582.54it/s]\n",
      "21 Aug 17:11    INFO  epoch 7 evaluating [time: 0.08s, valid_score: 0.005400]\n",
      "21 Aug 17:11    INFO  valid result: \n",
      "recall@10 : 0.0161    mrr@10 : 0.0054    ndcg@10 : 0.0078    hit@10 : 0.0161    precision@10 : 0.0016\n",
      "21 Aug 17:11    INFO  Saving current: saved/BPR-Aug-21-2024_17-11-45.pth\n",
      "Train     8:   0%|                                                            | 0/2 [00:00<?, ?it/s]: 100%|███████████████████████████████████████████████████| 2/2 [00:00<00:00, 194.89it/s]\n",
      "21 Aug 17:11    INFO  epoch 8 training [time: 0.01s, train loss: 1.3730]\n",
      "Evaluate   :   0%|                                                          | 0/249 [00:00<?, ?it/s]: 100%|██████████████████████████████████████████████| 249/249 [00:00<00:00, 3435.49it/s]\n",
      "21 Aug 17:11    INFO  epoch 8 evaluating [time: 0.08s, valid_score: 0.005500]\n",
      "21 Aug 17:11    INFO  valid result: \n",
      "recall@10 : 0.0161    mrr@10 : 0.0055    ndcg@10 : 0.0079    hit@10 : 0.0161    precision@10 : 0.0016\n",
      "21 Aug 17:11    INFO  Saving current: saved/BPR-Aug-21-2024_17-11-45.pth\n",
      "Train     9:   0%|                                                            | 0/2 [00:00<?, ?it/s]: 100%|███████████████████████████████████████████████████| 2/2 [00:00<00:00, 197.24it/s]\n",
      "21 Aug 17:11    INFO  epoch 9 training [time: 0.01s, train loss: 1.3713]\n",
      "Evaluate   :   0%|                                                          | 0/249 [00:00<?, ?it/s]: 100%|██████████████████████████████████████████████| 249/249 [00:00<00:00, 3445.69it/s]\n",
      "21 Aug 17:11    INFO  epoch 9 evaluating [time: 0.08s, valid_score: 0.005900]\n",
      "21 Aug 17:11    INFO  valid result: \n",
      "recall@10 : 0.0191    mrr@10 : 0.0059    ndcg@10 : 0.009    hit@10 : 0.0191    precision@10 : 0.0019\n",
      "21 Aug 17:11    INFO  Saving current: saved/BPR-Aug-21-2024_17-11-45.pth\n",
      "21 Aug 17:11    INFO  Loading model structure and parameters from saved/BPR-Aug-21-2024_17-11-45.pth\n",
      "Evaluate   :   0%|                                                          | 0/250 [00:00<?, ?it/s]: 100%|██████████████████████████████████████████████| 250/250 [00:00<00:00, 3562.36it/s]\n",
      "21 Aug 17:11    INFO  The running environment of this training is as follows:\n",
      "+-------------+----------------+\n",
      "| Environment |     Usage      |\n",
      "+=============+================+\n",
      "| CPU         |     2.90 %     |\n",
      "+-------------+----------------+\n",
      "| GPU         |   0.0 / 0.0    |\n",
      "+-------------+----------------+\n",
      "| Memory      | 0.48 G/13.86 G |\n",
      "+-------------+----------------+\n",
      "21 Aug 17:11    INFO  best valid : OrderedDict([('recall@10', 0.0191), ('mrr@10', 0.0059), ('ndcg@10', 0.009), ('hit@10', 0.0191), ('precision@10', 0.0019)])\n",
      "21 Aug 17:11    INFO  test result: OrderedDict([('recall@10', 0.014), ('mrr@10', 0.0039), ('ndcg@10', 0.0061), ('hit@10', 0.014), ('precision@10', 0.0014)])\n"
     ]
    },
    {
     "data": {
      "text/plain": [
       "{'best_valid_score': 0.0059,\n",
       " 'valid_score_bigger': True,\n",
       " 'best_valid_result': OrderedDict([('recall@10', 0.0191),\n",
       "              ('mrr@10', 0.0059),\n",
       "              ('ndcg@10', 0.009),\n",
       "              ('hit@10', 0.0191),\n",
       "              ('precision@10', 0.0019)]),\n",
       " 'test_result': OrderedDict([('recall@10', 0.014),\n",
       "              ('mrr@10', 0.0039),\n",
       "              ('ndcg@10', 0.0061),\n",
       "              ('hit@10', 0.014),\n",
       "              ('precision@10', 0.0014)])}"
      ]
     },
     "execution_count": 2,
     "metadata": {},
     "output_type": "execute_result"
    }
   ],
   "source": [
    "from recbole.quick_start import run_recbole\n",
    "\n",
    "# Configuration for running BPR Model\n",
    "config_dict = {\n",
    "    'model': 'BPR',\n",
    "    'dataset': 'random_ml1m_structure',\n",
    "    'train_batch_size': 4096,\n",
    "    'eval_batch_size': 4096,\n",
    "    'epochs': 10,\n",
    "    'show_progress': True,\n",
    "    'metrics': ['Recall', 'MRR', 'NDCG', 'Hit', 'Precision'],\n",
    "    'valid_metric': 'MRR@10',\n",
    "}\n",
    "\n",
    "# Run the BPR model\n",
    "run_recbole(model='BPR', dataset='random_ml1m_structure', config_dict=config_dict)"
   ]
  },
  {
   "cell_type": "markdown",
   "metadata": {
    "id": "zbBSlKV6vp9J"
   },
   "source": [
    "Step 3: Load custom (medical) dataset, concatenate train and test set and then structure the columns in the right way for recbole"
   ]
  },
  {
   "cell_type": "code",
   "execution_count": 4,
   "metadata": {
    "colab": {
     "base_uri": "https://localhost:8080/"
    },
    "id": "pJEkid3Mssoz",
    "outputId": "de7ede56-c26a-4035-8cc7-aecf0471fe52"
   },
   "outputs": [
    {
     "name": "stdout",
     "output_type": "stream",
     "text": [
      "Interaction File Sample:\n",
      "   user_id:token  item_id:token  rating:float  timestamp:float\n",
      "0         191228           3425             9     1.337472e+09\n",
      "1          88331           1539             8     1.272326e+09\n",
      "2          85964           1986             5     1.260749e+09\n",
      "3         127958           2450             8     1.446509e+09\n",
      "4          33057            554             9     1.480205e+09\n",
      "Dataset saved to dataset/custom/custom.inter\n"
     ]
    }
   ],
   "source": [
    "import pandas as pd\n",
    "from sklearn.preprocessing import LabelEncoder\n",
    "# Load the datasets\n",
    "train_df = pd.read_csv('drugsComTrain_raw.csv')\n",
    "test_df = pd.read_csv('drugsComTest_raw.csv')\n",
    "\n",
    "# Combine train and test datasets\n",
    "df = pd.concat([train_df, test_df])\n",
    "\n",
    "# Assign unique identifiers\n",
    "user_encoder = LabelEncoder()\n",
    "item_encoder = LabelEncoder()\n",
    "\n",
    "df['user_id'] = user_encoder.fit_transform(df['uniqueID'])\n",
    "df['item_id'] = item_encoder.fit_transform(df['drugName'])\n",
    "\n",
    "# Convert date to timestamp\n",
    "df['timestamp'] = pd.to_datetime(df['date'], format='%d-%b-%y').astype(int) / 10**9\n",
    "\n",
    "# Create the interaction file\n",
    "interaction_df = df[['user_id', 'item_id', 'rating', 'timestamp']]\n",
    "interaction_df.columns = ['user_id:token', 'item_id:token', 'rating:float', 'timestamp:float']\n",
    "\n",
    "# Verify the interaction file\n",
    "print(\"Interaction File Sample:\")\n",
    "print(interaction_df.head())\n",
    "\n",
    "# Safe the interaction file\n",
    "dataset_name_custom = 'custom'\n",
    "save_dataset(interaction_df, dataset_name_custom)"
   ]
  },
  {
   "cell_type": "markdown",
   "metadata": {
    "id": "6Ug-7AL2v7hB"
   },
   "source": [
    "Step 4: Train BPR model with custom (medical) dataset"
   ]
  },
  {
   "cell_type": "code",
   "execution_count": 21,
   "metadata": {
    "colab": {
     "base_uri": "https://localhost:8080/"
    },
    "id": "c4Ll1XCJoZ6d",
    "outputId": "49de550d-78a8-49cd-9f22-fb32f91b434c"
   },
   "outputs": [
    {
     "name": "stderr",
     "output_type": "stream",
     "text": [
      "WARNING:root:command line args [-f /root/.local/share/jupyter/runtime/kernel-c63df697-e5cf-48b8-9e0d-5a1accfd64c3.json] will not be used in RecBole\n",
      "Train     0: 100%|██████████████████████████████████████████████████| 53/53 [00:13<00:00,  3.85it/s]\n",
      "Train     1: 100%|██████████████████████████████████████████████████| 53/53 [00:11<00:00,  4.69it/s]\n",
      "Train     2: 100%|██████████████████████████████████████████████████| 53/53 [00:12<00:00,  4.25it/s]\n",
      "Train     3: 100%|██████████████████████████████████████████████████| 53/53 [00:12<00:00,  4.15it/s]\n",
      "Train     4: 100%|██████████████████████████████████████████████████| 53/53 [00:12<00:00,  4.40it/s]\n",
      "Train     5: 100%|██████████████████████████████████████████████████| 53/53 [00:11<00:00,  4.43it/s]\n",
      "Train     6: 100%|██████████████████████████████████████████████████| 53/53 [00:11<00:00,  4.70it/s]\n",
      "Train     7: 100%|██████████████████████████████████████████████████| 53/53 [00:11<00:00,  4.67it/s]\n",
      "Train     8: 100%|██████████████████████████████████████████████████| 53/53 [00:12<00:00,  4.38it/s]\n",
      "Train     9: 100%|██████████████████████████████████████████████████| 53/53 [00:14<00:00,  3.73it/s]\n"
     ]
    },
    {
     "data": {
      "text/plain": [
       "{'best_valid_score': -inf,\n",
       " 'valid_score_bigger': True,\n",
       " 'best_valid_result': None,\n",
       " 'test_result': None}"
      ]
     },
     "execution_count": 21,
     "metadata": {},
     "output_type": "execute_result"
    }
   ],
   "source": [
    "from recbole.quick_start import run_recbole\n",
    "\n",
    "# Configuration for running BPR Model\n",
    "config_dict = {\n",
    "    'model': 'BPR',\n",
    "    'dataset': 'custom',\n",
    "    'train_batch_size': 4096,\n",
    "    'eval_batch_size': 4096,\n",
    "    'epochs': 10,\n",
    "    'show_progress': True,\n",
    "    'metrics': ['Recall', 'MRR', 'NDCG', 'Hit', 'Precision'],\n",
    "    'valid_metric': 'MRR@10',\n",
    "}\n",
    "\n",
    "# Run the BPR model\n",
    "run_recbole(model='BPR', dataset='custom', config_dict=config_dict)"
   ]
  },
  {
   "cell_type": "markdown",
   "metadata": {
    "id": "HbiJkt9cxu1Q"
   },
   "source": [
    "Step 5: Generate another random dataset for comparison, this time with the same number of users as the custom (medical) dataset"
   ]
  },
  {
   "cell_type": "code",
   "execution_count": 5,
   "metadata": {
    "colab": {
     "base_uri": "https://localhost:8080/"
    },
    "id": "T_19dAcox512",
    "outputId": "899cfe97-3791-4998-bacc-38d48099bcda"
   },
   "outputs": [
    {
     "name": "stdout",
     "output_type": "stream",
     "text": [
      "Dataset saved to dataset/random_ml1m_structure_large/random_ml1m_structure_large.inter\n",
      "Large random ML1M structure dataset created and saved as 'random_ml1m_structure_large.inter'.\n",
      "   user_id:token  item_id:token  rating:float  timestamp:float\n",
      "0         121959           2679             4       1417338431\n",
      "1         146868           1508             3       1224557973\n",
      "2         131933           2803             1       1494229191\n",
      "3         103695            929             2       1245403329\n",
      "4         119880           1017             4       1065209478\n"
     ]
    }
   ],
   "source": [
    "import pandas as pd\n",
    "import numpy as np\n",
    "import os\n",
    "\n",
    "def generate_large_random_ml1m_structure():\n",
    "    np.random.seed(42)\n",
    "\n",
    "    # Parameters based on the 'custom.inter' dataset\n",
    "    num_users = 215063  # Same number of users as in 'custom.inter'\n",
    "    num_items = 3670    # Approximate number of items in 'custom.inter'\n",
    "    num_interactions = len(pd.read_csv('dataset/custom/custom.inter', sep='\\t'))  # Ensure the same number of interactions\n",
    "\n",
    "    # Generate random user IDs and item IDs\n",
    "    user_ids = np.random.randint(1, num_users + 1, num_interactions)\n",
    "    item_ids = np.random.randint(1, num_items + 1, num_interactions)\n",
    "\n",
    "    # Generate random ratings between 1 and 5\n",
    "    ratings = np.random.randint(1, 6, num_interactions)\n",
    "\n",
    "    # Generate random timestamps within a reasonable range\n",
    "    timestamps = np.random.randint(1_000_000_000, 1_500_000_000, num_interactions)\n",
    "\n",
    "    # Create a DataFrame\n",
    "    data = {\n",
    "        'user_id:token': user_ids,\n",
    "        'item_id:token': item_ids,\n",
    "        'rating:float': ratings,\n",
    "        'timestamp:float': timestamps\n",
    "    }\n",
    "    df = pd.DataFrame(data)\n",
    "\n",
    "    # Save the DataFrame to a .inter file\n",
    "    save_dataset(df, 'random_ml1m_structure_large')\n",
    "\n",
    "    print(\"Large random ML1M structure dataset created and saved as 'random_ml1m_structure_large.inter'.\")\n",
    "    print(df.head())\n",
    "\n",
    "# Reuse the previous save function\n",
    "def save_dataset(df, dataset_name):\n",
    "    dataset_dir = f'dataset/{dataset_name}'\n",
    "\n",
    "    # Ensure the directory exists\n",
    "    os.makedirs(dataset_dir, exist_ok=True)\n",
    "\n",
    "    # Save the interaction file\n",
    "    interaction_file_path = os.path.join(dataset_dir, f'{dataset_name}.inter')\n",
    "    df.to_csv(interaction_file_path, sep='\\t', index=False)\n",
    "    print(f'Dataset saved to {interaction_file_path}')\n",
    "\n",
    "# Run the function to generate the large dataset\n",
    "generate_large_random_ml1m_structure()\n"
   ]
  },
  {
   "cell_type": "markdown",
   "metadata": {
    "id": "sCmcy4HL2mKQ"
   },
   "source": [
    "Step 6: Train BPR model with random generated larger dataset"
   ]
  },
  {
   "cell_type": "code",
   "execution_count": 6,
   "metadata": {
    "colab": {
     "base_uri": "https://localhost:8080/"
    },
    "id": "0t47UQskyj1Z",
    "outputId": "a68e2962-32f2-465d-d9b7-4b2f4e5e9f65"
   },
   "outputs": [
    {
     "name": "stderr",
     "output_type": "stream",
     "text": [
      "21 Aug 17:13    INFO  ['/home/stef/.local/lib/python3.10/site-packages/ipykernel_launcher.py', '-f', '/home/stef/.local/share/jupyter/runtime/kernel-ff343df6-b497-4e3f-ba9f-447e555ce260.json']\n",
      "21 Aug 17:13    INFO  \n",
      "General Hyper Parameters:\n",
      "gpu_id = 0\n",
      "use_gpu = True\n",
      "seed = 2020\n",
      "state = INFO\n",
      "reproducibility = True\n",
      "data_path = dataset/random_ml1m_structure_large\n",
      "checkpoint_dir = saved\n",
      "show_progress = True\n",
      "save_dataset = False\n",
      "dataset_save_path = None\n",
      "save_dataloaders = False\n",
      "dataloaders_save_path = None\n",
      "log_wandb = False\n",
      "\n",
      "Training Hyper Parameters:\n",
      "epochs = 10\n",
      "train_batch_size = 4096\n",
      "learner = adam\n",
      "learning_rate = 0.001\n",
      "train_neg_sample_args = {'distribution': 'uniform', 'sample_num': 1, 'alpha': 1.0, 'dynamic': False, 'candidate_num': 0}\n",
      "eval_step = 1\n",
      "stopping_step = 10\n",
      "clip_grad_norm = None\n",
      "weight_decay = 0.0\n",
      "loss_decimal_place = 4\n",
      "\n",
      "Evaluation Hyper Parameters:\n",
      "eval_args = {'split': {'RS': [0.8, 0.1, 0.1]}, 'order': 'RO', 'group_by': 'user', 'mode': {'valid': 'full', 'test': 'full'}}\n",
      "repeatable = False\n",
      "metrics = ['Recall', 'MRR', 'NDCG', 'Hit', 'Precision']\n",
      "topk = [10]\n",
      "valid_metric = MRR@10\n",
      "valid_metric_bigger = True\n",
      "eval_batch_size = 4096\n",
      "metric_decimal_place = 4\n",
      "\n",
      "Dataset Hyper Parameters:\n",
      "field_separator = \t\n",
      "seq_separator =  \n",
      "USER_ID_FIELD = user_id\n",
      "ITEM_ID_FIELD = item_id\n",
      "RATING_FIELD = rating\n",
      "TIME_FIELD = timestamp\n",
      "seq_len = None\n",
      "LABEL_FIELD = label\n",
      "threshold = None\n",
      "NEG_PREFIX = neg_\n",
      "load_col = {'inter': ['user_id', 'item_id']}\n",
      "unload_col = None\n",
      "unused_col = None\n",
      "additional_feat_suffix = None\n",
      "rm_dup_inter = None\n",
      "val_interval = None\n",
      "filter_inter_by_user_or_item = True\n",
      "user_inter_num_interval = [0,inf)\n",
      "item_inter_num_interval = [0,inf)\n",
      "alias_of_user_id = None\n",
      "alias_of_item_id = None\n",
      "alias_of_entity_id = None\n",
      "alias_of_relation_id = None\n",
      "preload_weight = None\n",
      "normalize_field = None\n",
      "normalize_all = None\n",
      "ITEM_LIST_LENGTH_FIELD = item_length\n",
      "LIST_SUFFIX = _list\n",
      "MAX_ITEM_LIST_LENGTH = 50\n",
      "POSITION_FIELD = position_id\n",
      "HEAD_ENTITY_ID_FIELD = head_id\n",
      "TAIL_ENTITY_ID_FIELD = tail_id\n",
      "RELATION_ID_FIELD = relation_id\n",
      "ENTITY_ID_FIELD = entity_id\n",
      "benchmark_filename = None\n",
      "\n",
      "Other Hyper Parameters: \n",
      "worker = 0\n",
      "wandb_project = recbole\n",
      "shuffle = True\n",
      "require_pow = False\n",
      "enable_amp = False\n",
      "enable_scaler = False\n",
      "transform = None\n",
      "embedding_size = 64\n",
      "numerical_features = []\n",
      "discretization = None\n",
      "kg_reverse_r = False\n",
      "entity_kg_num_interval = [0,inf)\n",
      "relation_kg_num_interval = [0,inf)\n",
      "MODEL_TYPE = ModelType.GENERAL\n",
      "MODEL_INPUT_TYPE = InputType.PAIRWISE\n",
      "eval_type = EvaluatorType.RANKING\n",
      "single_spec = True\n",
      "local_rank = 0\n",
      "device = cpu\n",
      "valid_neg_sample_args = {'distribution': 'uniform', 'sample_num': 'none'}\n",
      "test_neg_sample_args = {'distribution': 'uniform', 'sample_num': 'none'}\n",
      "\n",
      "\n",
      "/home/stef/.local/lib/python3.10/site-packages/recbole/data/dataset/dataset.py:648: FutureWarning: A value is trying to be set on a copy of a DataFrame or Series through chained assignment using an inplace method.\n",
      "The behavior will change in pandas 3.0. This inplace method will never work because the intermediate object on which we are setting values always behaves as a copy.\n",
      "\n",
      "For example, when doing 'df[col].method(value, inplace=True)', try using 'df.method({col: value}, inplace=True)' or df[col] = df[col].method(value) instead, to perform the operation inplace on the original object.\n",
      "\n",
      "\n",
      "  feat[field].fillna(value=0, inplace=True)\n",
      "21 Aug 17:13    INFO  random_ml1m_structure_large\n",
      "The number of users: 136048\n",
      "Average actions of users: 1.5807992826008659\n",
      "The number of items: 3671\n",
      "Average actions of items: 58.60027247956403\n",
      "The number of inters: 215063\n",
      "The sparsity of the dataset: 99.95693850004965%\n",
      "Remain Fields: ['user_id', 'item_id']\n",
      "21 Aug 17:13    INFO  [Training]: train_batch_size = [4096] train_neg_sample_args: [{'distribution': 'uniform', 'sample_num': 1, 'alpha': 1.0, 'dynamic': False, 'candidate_num': 0}]\n",
      "21 Aug 17:13    INFO  [Evaluation]: eval_batch_size = [4096] eval_args: [{'split': {'RS': [0.8, 0.1, 0.1]}, 'order': 'RO', 'group_by': 'user', 'mode': {'valid': 'full', 'test': 'full'}}]\n",
      "21 Aug 17:13    INFO  BPR(\n",
      "  (user_embedding): Embedding(136048, 64)\n",
      "  (item_embedding): Embedding(3671, 64)\n",
      "  (loss): BPRLoss()\n",
      ")\n",
      "Trainable parameters: 8942016\n",
      "21 Aug 17:13    INFO  FLOPs: 128.0\n",
      "Train     0:   0%|                                                           | 0/35 [00:00<?, ?it/s]:   3%|█▍                                                 | 1/35 [00:00<00:05,  6.51it/s]:   6%|██▉                                                | 2/35 [00:00<00:04,  7.91it/s]:  11%|█████▊                                             | 4/35 [00:00<00:03,  9.19it/s]:  17%|████████▋                                          | 6/35 [00:00<00:02,  9.73it/s]:  20%|██████████▏                                        | 7/35 [00:00<00:02,  9.74it/s]:  26%|█████████████                                      | 9/35 [00:00<00:02, 10.06it/s]:  31%|███████████████▋                                  | 11/35 [00:01<00:02, 10.28it/s]:  37%|██████████████████▌                               | 13/35 [00:01<00:02,  9.80it/s]:  40%|████████████████████                              | 14/35 [00:01<00:02,  9.70it/s]:  46%|██████████████████████▊                           | 16/35 [00:01<00:01, 10.05it/s]:  51%|█████████████████████████▋                        | 18/35 [00:01<00:01, 10.26it/s]:  57%|████████████████████████████▌                     | 20/35 [00:02<00:01, 10.42it/s]:  63%|███████████████████████████████▍                  | 22/35 [00:02<00:01, 10.26it/s]:  69%|██████████████████████████████████▎               | 24/35 [00:02<00:01,  9.98it/s]:  74%|█████████████████████████████████████▏            | 26/35 [00:02<00:00, 10.15it/s]:  80%|████████████████████████████████████████          | 28/35 [00:02<00:00, 10.24it/s]:  86%|██████████████████████████████████████████▊       | 30/35 [00:03<00:00, 10.27it/s]:  91%|█████████████████████████████████████████████▋    | 32/35 [00:03<00:00, 10.17it/s]:  97%|████████████████████████████████████████████████▌ | 34/35 [00:03<00:00,  9.88it/s]: 100%|██████████████████████████████████████████████████| 35/35 [00:03<00:00,  9.72it/s]: 100%|██████████████████████████████████████████████████| 35/35 [00:03<00:00,  9.90it/s]\n",
      "21 Aug 17:13    INFO  epoch 0 training [time: 3.54s, train loss: 24.2602]\n"
     ]
    },
    {
     "name": "stderr",
     "output_type": "stream",
     "text": [
      "Evaluate   :   0%|                                                        | 0/17178 [00:00<?, ?it/s]:   2%|█                                           | 412/17178 [00:00<00:04, 4118.22it/s]:   5%|██                                          | 824/17178 [00:00<00:03, 4113.34it/s]:   7%|███                                        | 1236/17178 [00:00<00:03, 4112.84it/s]:  10%|████▏                                      | 1648/17178 [00:00<00:03, 4086.37it/s]:  12%|█████▏                                     | 2057/17178 [00:00<00:03, 4054.98it/s]:  14%|██████▏                                    | 2463/17178 [00:00<00:03, 4050.06it/s]:  17%|███████▏                                   | 2869/17178 [00:00<00:03, 4050.36it/s]:  19%|████████▏                                  | 3275/17178 [00:00<00:03, 4001.56it/s]:  21%|█████████▏                                 | 3676/17178 [00:00<00:03, 3962.39it/s]:  24%|██████████▏                                | 4073/17178 [00:01<00:03, 3803.79it/s]:  26%|███████████▏                               | 4455/17178 [00:01<00:03, 3768.08it/s]:  28%|████████████                               | 4833/17178 [00:01<00:03, 3721.72it/s]:  30%|█████████████                              | 5210/17178 [00:01<00:03, 3735.14it/s]:  33%|█████████████▉                             | 5584/17178 [00:01<00:03, 3714.81it/s]:  35%|██████████████▉                            | 5956/17178 [00:01<00:03, 3579.37it/s]:  37%|███████████████▊                           | 6315/17178 [00:01<00:03, 3566.73it/s]:  39%|████████████████▋                          | 6673/17178 [00:01<00:02, 3570.42it/s]:  41%|█████████████████▌                         | 7031/17178 [00:01<00:02, 3563.45it/s]:  43%|██████████████████▌                        | 7396/17178 [00:01<00:02, 3588.87it/s]:  45%|███████████████████▍                       | 7775/17178 [00:02<00:02, 3648.30it/s]:  47%|████████████████████▍                      | 8156/17178 [00:02<00:02, 3694.60it/s]:  50%|█████████████████████▎                     | 8528/17178 [00:02<00:02, 3700.38it/s]:  52%|██████████████████████▎                    | 8899/17178 [00:02<00:02, 3701.59it/s]:  54%|███████████████████████▏                   | 9273/17178 [00:02<00:02, 3712.67it/s]:  56%|████████████████████████▏                  | 9645/17178 [00:02<00:02, 3682.92it/s]:  58%|████████████████████████▌                 | 10022/17178 [00:02<00:01, 3706.60it/s]:  61%|█████████████████████████▍                | 10399/17178 [00:02<00:01, 3722.85it/s]:  63%|██████████████████████████▎               | 10775/17178 [00:02<00:01, 3731.09it/s]:  65%|███████████████████████████▎              | 11149/17178 [00:02<00:01, 3644.12it/s]:  67%|████████████████████████████▏             | 11514/17178 [00:03<00:01, 3615.54it/s]:  69%|█████████████████████████████             | 11876/17178 [00:03<00:01, 3552.91it/s]:  71%|█████████████████████████████▉            | 12245/17178 [00:03<00:01, 3592.20it/s]:  73%|██████████████████████████████▊           | 12619/17178 [00:03<00:01, 3633.39it/s]:  76%|███████████████████████████████▋          | 12983/17178 [00:03<00:01, 3579.81it/s]:  78%|████████████████████████████████▌         | 13342/17178 [00:03<00:01, 3582.74it/s]:  80%|█████████████████████████████████▍        | 13701/17178 [00:03<00:00, 3579.15it/s]:  82%|██████████████████████████████████▍       | 14064/17178 [00:03<00:00, 3592.00it/s]:  84%|███████████████████████████████████▎      | 14424/17178 [00:03<00:00, 3564.00it/s]:  86%|████████████████████████████████████▏     | 14781/17178 [00:03<00:00, 3541.25it/s]:  88%|█████████████████████████████████████     | 15136/17178 [00:04<00:00, 3468.55it/s]:  90%|█████████████████████████████████████▉    | 15500/17178 [00:04<00:00, 3516.44it/s]:  92%|██████████████████████████████████████▊   | 15868/17178 [00:04<00:00, 3563.37it/s]:  94%|███████████████████████████████████████▋  | 16225/17178 [00:04<00:00, 3538.62it/s]:  97%|████████████████████████████████████████▌ | 16580/17178 [00:04<00:00, 3508.91it/s]:  99%|█████████████████████████████████████████▍| 16934/17178 [00:04<00:00, 3516.31it/s]: 100%|██████████████████████████████████████████| 17178/17178 [00:04<00:00, 3674.54it/s]\n",
      "21 Aug 17:13    INFO  epoch 0 evaluating [time: 4.72s, valid_score: 0.000900]\n",
      "21 Aug 17:13    INFO  valid result: \n",
      "recall@10 : 0.0029    mrr@10 : 0.0009    ndcg@10 : 0.0013    hit@10 : 0.0029    precision@10 : 0.0003\n",
      "21 Aug 17:13    INFO  Saving current: saved/BPR-Aug-21-2024_17-13-28.pth\n",
      "Train     1:   0%|                                                           | 0/35 [00:00<?, ?it/s]:   3%|█▍                                                 | 1/35 [00:00<00:03,  9.96it/s]:   9%|████▎                                              | 3/35 [00:00<00:03, 10.41it/s]:  14%|███████▎                                           | 5/35 [00:00<00:02, 10.42it/s]:  20%|██████████▏                                        | 7/35 [00:00<00:02, 10.48it/s]:  26%|█████████████                                      | 9/35 [00:00<00:02, 10.48it/s]:  31%|███████████████▋                                  | 11/35 [00:01<00:02,  9.86it/s]:  37%|██████████████████▌                               | 13/35 [00:01<00:02, 10.14it/s]:  43%|█████████████████████▍                            | 15/35 [00:01<00:01, 10.25it/s]:  49%|████████████████████████▎                         | 17/35 [00:01<00:01, 10.37it/s]:  54%|███████████████████████████▏                      | 19/35 [00:01<00:01, 10.42it/s]:  60%|██████████████████████████████                    | 21/35 [00:02<00:01,  9.76it/s]:  66%|████████████████████████████████▊                 | 23/35 [00:02<00:01, 10.00it/s]:  71%|███████████████████████████████████▋              | 25/35 [00:02<00:00, 10.03it/s]:  77%|██████████████████████████████████████▌           | 27/35 [00:02<00:00, 10.24it/s]:  83%|█████████████████████████████████████████▍        | 29/35 [00:02<00:00, 10.40it/s]:  89%|████████████████████████████████████████████▎     | 31/35 [00:03<00:00,  9.82it/s]:  91%|█████████████████████████████████████████████▋    | 32/35 [00:03<00:00,  9.84it/s]:  97%|████████████████████████████████████████████████▌ | 34/35 [00:03<00:00, 10.07it/s]: 100%|██████████████████████████████████████████████████| 35/35 [00:03<00:00, 10.12it/s]\n",
      "21 Aug 17:13    INFO  epoch 1 training [time: 3.46s, train loss: 24.1658]\n"
     ]
    },
    {
     "name": "stderr",
     "output_type": "stream",
     "text": [
      "Evaluate   :   0%|                                                        | 0/17178 [00:00<?, ?it/s]:   2%|█                                           | 418/17178 [00:00<00:04, 4174.36it/s]:   5%|██▏                                         | 836/17178 [00:00<00:03, 4164.88it/s]:   7%|███▏                                       | 1254/17178 [00:00<00:03, 4169.30it/s]:  10%|████▏                                      | 1671/17178 [00:00<00:03, 4158.82it/s]:  12%|█████▏                                     | 2087/17178 [00:00<00:03, 4117.34it/s]:  15%|██████▎                                    | 2499/17178 [00:00<00:03, 4095.66it/s]:  17%|███████▎                                   | 2909/17178 [00:00<00:03, 4069.07it/s]:  19%|████████▎                                  | 3316/17178 [00:00<00:03, 4000.37it/s]:  22%|█████████▎                                 | 3717/17178 [00:00<00:03, 3904.17it/s]:  24%|██████████▎                                | 4108/17178 [00:01<00:03, 3864.83it/s]:  26%|███████████▎                               | 4495/17178 [00:01<00:03, 3796.64it/s]:  28%|████████████▏                              | 4875/17178 [00:01<00:03, 3749.69it/s]:  31%|█████████████▏                             | 5258/17178 [00:01<00:03, 3770.60it/s]:  33%|██████████████                             | 5641/17178 [00:01<00:03, 3787.66it/s]:  35%|███████████████                            | 6020/17178 [00:01<00:02, 3776.25it/s]:  37%|████████████████                           | 6398/17178 [00:01<00:02, 3738.83it/s]:  39%|████████████████▉                          | 6778/17178 [00:01<00:02, 3755.27it/s]:  42%|█████████████████▉                         | 7155/17178 [00:01<00:02, 3758.62it/s]:  44%|██████████████████▊                        | 7531/17178 [00:01<00:02, 3657.81it/s]:  46%|███████████████████▊                       | 7903/17178 [00:02<00:02, 3675.04it/s]:  48%|████████████████████▋                      | 8271/17178 [00:02<00:02, 3641.81it/s]:  50%|█████████████████████▌                     | 8636/17178 [00:02<00:02, 3618.36it/s]:  52%|██████████████████████▌                    | 9008/17178 [00:02<00:02, 3646.86it/s]:  55%|███████████████████████▍                   | 9381/17178 [00:02<00:02, 3669.39it/s]:  57%|████████████████████████▍                  | 9749/17178 [00:02<00:02, 3581.66it/s]:  59%|████████████████████████▋                 | 10108/17178 [00:02<00:01, 3580.93it/s]:  61%|█████████████████████████▌                | 10479/17178 [00:02<00:01, 3616.69it/s]:  63%|██████████████████████████▌               | 10852/17178 [00:02<00:01, 3647.56it/s]:  65%|███████████████████████████▍              | 11218/17178 [00:02<00:01, 3627.91it/s]:  67%|████████████████████████████▎             | 11581/17178 [00:03<00:01, 3625.99it/s]:  70%|█████████████████████████████▏            | 11944/17178 [00:03<00:01, 3559.27it/s]:  72%|██████████████████████████████            | 12317/17178 [00:03<00:01, 3609.03it/s]:  74%|███████████████████████████████           | 12680/17178 [00:03<00:01, 3615.02it/s]:  76%|███████████████████████████████▉          | 13048/17178 [00:03<00:01, 3633.47it/s]:  78%|████████████████████████████████▊         | 13412/17178 [00:03<00:01, 3573.48it/s]:  80%|█████████████████████████████████▋        | 13770/17178 [00:03<00:00, 3432.37it/s]:  82%|██████████████████████████████████▌       | 14115/17178 [00:03<00:00, 3428.99it/s]:  84%|███████████████████████████████████▍      | 14477/17178 [00:03<00:00, 3484.44it/s]:  86%|████████████████████████████████████▎     | 14842/17178 [00:03<00:00, 3532.86it/s]:  89%|█████████████████████████████████████▏    | 15205/17178 [00:04<00:00, 3559.59it/s]:  91%|██████████████████████████████████████    | 15562/17178 [00:04<00:00, 3466.63it/s]:  93%|██████████████████████████████████████▉   | 15911/17178 [00:04<00:00, 3471.77it/s]:  95%|███████████████████████████████████████▊  | 16273/17178 [00:04<00:00, 3514.45it/s]:  97%|████████████████████████████████████████▋ | 16629/17178 [00:04<00:00, 3526.52it/s]:  99%|█████████████████████████████████████████▌| 16983/17178 [00:04<00:00, 3500.81it/s]: 100%|██████████████████████████████████████████| 17178/17178 [00:04<00:00, 3679.54it/s]\n",
      "21 Aug 17:13    INFO  epoch 1 evaluating [time: 4.72s, valid_score: 0.001000]\n",
      "21 Aug 17:13    INFO  valid result: \n",
      "recall@10 : 0.0024    mrr@10 : 0.001    ndcg@10 : 0.0014    hit@10 : 0.0024    precision@10 : 0.0002\n",
      "21 Aug 17:13    INFO  Saving current: saved/BPR-Aug-21-2024_17-13-28.pth\n",
      "Train     2:   0%|                                                           | 0/35 [00:00<?, ?it/s]:   3%|█▍                                                 | 1/35 [00:00<00:03,  9.91it/s]:   9%|████▎                                              | 3/35 [00:00<00:03, 10.33it/s]:  14%|███████▎                                           | 5/35 [00:00<00:02, 10.51it/s]:  20%|██████████▏                                        | 7/35 [00:00<00:02, 10.00it/s]:  26%|█████████████                                      | 9/35 [00:00<00:02, 10.18it/s]:  31%|███████████████▋                                  | 11/35 [00:01<00:02, 10.35it/s]:  37%|██████████████████▌                               | 13/35 [00:01<00:02, 10.45it/s]:  43%|█████████████████████▍                            | 15/35 [00:01<00:01, 10.56it/s]:  49%|████████████████████████▎                         | 17/35 [00:01<00:01, 10.35it/s]:  54%|███████████████████████████▏                      | 19/35 [00:01<00:01,  9.99it/s]:  60%|██████████████████████████████                    | 21/35 [00:02<00:01, 10.25it/s]:  66%|████████████████████████████████▊                 | 23/35 [00:02<00:01, 10.43it/s]:  71%|███████████████████████████████████▋              | 25/35 [00:02<00:00, 10.50it/s]:  77%|██████████████████████████████████████▌           | 27/35 [00:02<00:00, 10.44it/s]:  83%|█████████████████████████████████████████▍        | 29/35 [00:02<00:00, 10.00it/s]:  89%|████████████████████████████████████████████▎     | 31/35 [00:03<00:00, 10.20it/s]:  94%|███████████████████████████████████████████████▏  | 33/35 [00:03<00:00, 10.39it/s]: 100%|██████████████████████████████████████████████████| 35/35 [00:03<00:00, 10.50it/s]: 100%|██████████████████████████████████████████████████| 35/35 [00:03<00:00, 10.33it/s]\n",
      "21 Aug 17:13    INFO  epoch 2 training [time: 3.39s, train loss: 23.9513]\n"
     ]
    },
    {
     "name": "stderr",
     "output_type": "stream",
     "text": [
      "Evaluate   :   0%|                                                        | 0/17178 [00:00<?, ?it/s]:   2%|█                                           | 414/17178 [00:00<00:04, 4139.60it/s]:   5%|██                                          | 829/17178 [00:00<00:03, 4142.12it/s]:   7%|███                                        | 1244/17178 [00:00<00:03, 4112.17it/s]:  10%|████▏                                      | 1656/17178 [00:00<00:03, 4084.02it/s]:  12%|█████▏                                     | 2068/17178 [00:00<00:03, 4095.59it/s]:  14%|██████▏                                    | 2480/17178 [00:00<00:03, 4102.03it/s]:  17%|███████▏                                   | 2891/17178 [00:00<00:03, 4094.00it/s]:  19%|████████▎                                  | 3301/17178 [00:00<00:03, 4036.41it/s]:  22%|█████████▎                                 | 3705/17178 [00:00<00:03, 3983.61it/s]:  24%|██████████▎                                | 4104/17178 [00:01<00:03, 3931.97it/s]:  26%|███████████▎                               | 4498/17178 [00:01<00:03, 3905.86it/s]:  28%|████████████▏                              | 4889/17178 [00:01<00:03, 3873.93it/s]:  31%|█████████████▏                             | 5277/17178 [00:01<00:03, 3854.14it/s]:  33%|██████████████▏                            | 5663/17178 [00:01<00:03, 3836.52it/s]:  35%|███████████████▏                           | 6047/17178 [00:01<00:02, 3830.81it/s]:  37%|████████████████                           | 6432/17178 [00:01<00:02, 3833.66it/s]:  40%|█████████████████                          | 6816/17178 [00:01<00:02, 3754.28it/s]:  42%|██████████████████                         | 7194/17178 [00:01<00:02, 3760.80it/s]:  44%|██████████████████▉                        | 7571/17178 [00:01<00:02, 3717.71it/s]:  46%|███████████████████▉                       | 7943/17178 [00:02<00:02, 3703.69it/s]:  48%|████████████████████▊                      | 8314/17178 [00:02<00:02, 3644.64it/s]:  51%|█████████████████████▋                     | 8687/17178 [00:02<00:02, 3669.63it/s]:  53%|██████████████████████▋                    | 9055/17178 [00:02<00:02, 3672.25it/s]:  55%|███████████████████████▌                   | 9433/17178 [00:02<00:02, 3701.96it/s]:  57%|████████████████████████▌                  | 9804/17178 [00:02<00:02, 3686.26it/s]:  59%|████████████████████████▊                 | 10173/17178 [00:02<00:01, 3682.37it/s]:  61%|█████████████████████████▊                | 10542/17178 [00:02<00:01, 3674.98it/s]:  64%|██████████████████████████▋               | 10910/17178 [00:02<00:01, 3648.08it/s]:  66%|███████████████████████████▌              | 11275/17178 [00:02<00:01, 3637.79it/s]:  68%|████████████████████████████▍             | 11640/17178 [00:03<00:01, 3637.60it/s]:  70%|█████████████████████████████▎            | 12004/17178 [00:03<00:01, 3585.51it/s]:  72%|██████████████████████████████▏           | 12363/17178 [00:03<00:01, 3584.56it/s]:  74%|███████████████████████████████           | 12724/17178 [00:03<00:01, 3590.98it/s]:  76%|███████████████████████████████▉          | 13084/17178 [00:03<00:01, 3549.94it/s]:  78%|████████████████████████████████▊         | 13440/17178 [00:03<00:01, 3488.93it/s]:  80%|█████████████████████████████████▋        | 13790/17178 [00:03<00:00, 3446.87it/s]:  82%|██████████████████████████████████▌       | 14157/17178 [00:03<00:00, 3511.66it/s]:  85%|███████████████████████████████████▌      | 14520/17178 [00:03<00:00, 3546.25it/s]:  87%|████████████████████████████████████▎     | 14875/17178 [00:03<00:00, 3535.56it/s]:  89%|█████████████████████████████████████▎    | 15244/17178 [00:04<00:00, 3577.97it/s]:  91%|██████████████████████████████████████▏   | 15611/17178 [00:04<00:00, 3604.58it/s]:  93%|███████████████████████████████████████   | 15972/17178 [00:04<00:00, 3602.27it/s]:  95%|███████████████████████████████████████▉  | 16333/17178 [00:04<00:00, 3597.43it/s]:  97%|████████████████████████████████████████▊ | 16693/17178 [00:04<00:00, 3592.89it/s]:  99%|█████████████████████████████████████████▋| 17053/17178 [00:04<00:00, 3576.44it/s]: 100%|██████████████████████████████████████████| 17178/17178 [00:04<00:00, 3721.49it/s]\n",
      "21 Aug 17:13    INFO  epoch 2 evaluating [time: 4.67s, valid_score: 0.001200]\n",
      "21 Aug 17:13    INFO  valid result: \n",
      "recall@10 : 0.0029    mrr@10 : 0.0012    ndcg@10 : 0.0016    hit@10 : 0.0029    precision@10 : 0.0003\n",
      "21 Aug 17:13    INFO  Saving current: saved/BPR-Aug-21-2024_17-13-28.pth\n",
      "Train     3:   0%|                                                           | 0/35 [00:00<?, ?it/s]:   6%|██▉                                                | 2/35 [00:00<00:03, 10.65it/s]:  11%|█████▊                                             | 4/35 [00:00<00:02, 10.65it/s]:  17%|████████▋                                          | 6/35 [00:00<00:02, 10.08it/s]:  23%|███████████▋                                       | 8/35 [00:00<00:02, 10.32it/s]:  29%|██████████████▎                                   | 10/35 [00:00<00:02, 10.44it/s]:  34%|█████████████████▏                                | 12/35 [00:01<00:02, 10.54it/s]:  40%|████████████████████                              | 14/35 [00:01<00:01, 10.61it/s]:  46%|██████████████████████▊                           | 16/35 [00:01<00:01, 10.18it/s]:  51%|█████████████████████████▋                        | 18/35 [00:01<00:01, 10.03it/s]:  57%|████████████████████████████▌                     | 20/35 [00:01<00:01, 10.23it/s]:  63%|███████████████████████████████▍                  | 22/35 [00:02<00:01, 10.38it/s]:  69%|██████████████████████████████████▎               | 24/35 [00:02<00:01, 10.38it/s]:  74%|█████████████████████████████████████▏            | 26/35 [00:02<00:00, 10.09it/s]:  80%|████████████████████████████████████████          | 28/35 [00:02<00:00,  9.96it/s]:  86%|██████████████████████████████████████████▊       | 30/35 [00:02<00:00, 10.20it/s]:  91%|█████████████████████████████████████████████▋    | 32/35 [00:03<00:00, 10.24it/s]:  97%|████████████████████████████████████████████████▌ | 34/35 [00:03<00:00, 10.32it/s]: 100%|██████████████████████████████████████████████████| 35/35 [00:03<00:00, 10.27it/s]\n",
      "21 Aug 17:13    INFO  epoch 3 training [time: 3.41s, train loss: 23.5118]\n"
     ]
    },
    {
     "name": "stderr",
     "output_type": "stream",
     "text": [
      "Evaluate   :   0%|                                                        | 0/17178 [00:00<?, ?it/s]:   2%|█                                           | 409/17178 [00:00<00:04, 4084.20it/s]:   5%|██                                          | 818/17178 [00:00<00:04, 4074.72it/s]:   7%|███                                        | 1231/17178 [00:00<00:03, 4096.90it/s]:  10%|████                                       | 1641/17178 [00:00<00:03, 4076.34it/s]:  12%|█████▏                                     | 2049/17178 [00:00<00:03, 4067.88it/s]:  14%|██████▏                                    | 2457/17178 [00:00<00:03, 4069.09it/s]:  17%|███████▏                                   | 2864/17178 [00:00<00:03, 4063.12it/s]:  19%|████████▏                                  | 3271/17178 [00:00<00:03, 3980.84it/s]:  21%|█████████▏                                 | 3670/17178 [00:00<00:03, 3938.16it/s]:  24%|██████████▏                                | 4065/17178 [00:01<00:03, 3902.07it/s]:  26%|███████████▏                               | 4456/17178 [00:01<00:03, 3872.85it/s]:  28%|████████████▏                              | 4844/17178 [00:01<00:03, 3833.60it/s]:  30%|█████████████                              | 5228/17178 [00:01<00:03, 3808.19it/s]:  33%|██████████████                             | 5609/17178 [00:01<00:03, 3795.78it/s]:  35%|██████████████▉                            | 5989/17178 [00:01<00:02, 3782.17it/s]:  37%|███████████████▉                           | 6369/17178 [00:01<00:02, 3787.37it/s]:  39%|████████████████▉                          | 6748/17178 [00:01<00:02, 3785.19it/s]:  41%|█████████████████▊                         | 7127/17178 [00:01<00:02, 3781.56it/s]:  44%|██████████████████▊                        | 7506/17178 [00:01<00:02, 3772.36it/s]:  46%|███████████████████▋                       | 7884/17178 [00:02<00:02, 3770.89it/s]:  48%|████████████████████▋                      | 8262/17178 [00:02<00:02, 3757.81it/s]:  50%|█████████████████████▌                     | 8638/17178 [00:02<00:02, 3745.11it/s]:  52%|██████████████████████▌                    | 9013/17178 [00:02<00:02, 3722.13it/s]:  55%|███████████████████████▍                   | 9386/17178 [00:02<00:02, 3655.43it/s]:  57%|████████████████████████▍                  | 9760/17178 [00:02<00:02, 3679.82it/s]:  59%|████████████████████████▊                 | 10132/17178 [00:02<00:01, 3691.41it/s]:  61%|█████████████████████████▋                | 10503/17178 [00:02<00:01, 3696.65it/s]:  63%|██████████████████████████▌               | 10873/17178 [00:02<00:01, 3647.06it/s]:  65%|███████████████████████████▍              | 11245/17178 [00:02<00:01, 3667.65it/s]:  68%|████████████████████████████▍             | 11612/17178 [00:03<00:01, 3625.83it/s]:  70%|█████████████████████████████▎            | 11979/17178 [00:03<00:01, 3638.73it/s]:  72%|██████████████████████████████▏           | 12351/17178 [00:03<00:01, 3660.70it/s]:  74%|███████████████████████████████           | 12720/17178 [00:03<00:01, 3668.78it/s]:  76%|████████████████████████████████          | 13094/17178 [00:03<00:01, 3688.78it/s]:  78%|████████████████████████████████▉         | 13463/17178 [00:03<00:01, 3669.28it/s]:  81%|█████████████████████████████████▊        | 13830/17178 [00:03<00:00, 3665.66it/s]:  83%|██████████████████████████████████▋       | 14197/17178 [00:03<00:00, 3644.05it/s]:  85%|███████████████████████████████████▌      | 14562/17178 [00:03<00:00, 3639.31it/s]:  87%|████████████████████████████████████▍     | 14926/17178 [00:03<00:00, 3618.91it/s]:  89%|█████████████████████████████████████▍    | 15288/17178 [00:04<00:00, 3611.67it/s]:  91%|██████████████████████████████████████▎   | 15652/17178 [00:04<00:00, 3618.03it/s]:  93%|███████████████████████████████████████▏  | 16019/17178 [00:04<00:00, 3633.08it/s]:  95%|████████████████████████████████████████  | 16383/17178 [00:04<00:00, 3620.45it/s]:  97%|████████████████████████████████████████▉ | 16746/17178 [00:04<00:00, 3618.83it/s]: 100%|█████████████████████████████████████████▊| 17108/17178 [00:04<00:00, 3602.77it/s]: 100%|██████████████████████████████████████████| 17178/17178 [00:04<00:00, 3746.47it/s]\n",
      "21 Aug 17:14    INFO  epoch 3 evaluating [time: 4.63s, valid_score: 0.001200]\n",
      "21 Aug 17:14    INFO  valid result: \n",
      "recall@10 : 0.0034    mrr@10 : 0.0012    ndcg@10 : 0.0017    hit@10 : 0.0034    precision@10 : 0.0003\n",
      "21 Aug 17:14    INFO  Saving current: saved/BPR-Aug-21-2024_17-13-28.pth\n",
      "Train     4:   0%|                                                           | 0/35 [00:00<?, ?it/s]:   6%|██▉                                                | 2/35 [00:00<00:03, 10.43it/s]:  11%|█████▊                                             | 4/35 [00:00<00:03, 10.13it/s]:  17%|████████▋                                          | 6/35 [00:00<00:02, 10.39it/s]:  23%|███████████▋                                       | 8/35 [00:00<00:02, 10.46it/s]:  29%|██████████████▎                                   | 10/35 [00:00<00:02, 10.51it/s]:  34%|█████████████████▏                                | 12/35 [00:01<00:02, 10.57it/s]:  40%|████████████████████                              | 14/35 [00:01<00:02, 10.31it/s]:  46%|██████████████████████▊                           | 16/35 [00:01<00:01,  9.84it/s]:  51%|█████████████████████████▋                        | 18/35 [00:01<00:01, 10.10it/s]:  57%|████████████████████████████▌                     | 20/35 [00:01<00:01, 10.25it/s]:  63%|███████████████████████████████▍                  | 22/35 [00:02<00:01, 10.36it/s]:  69%|██████████████████████████████████▎               | 24/35 [00:02<00:01, 10.37it/s]:  74%|█████████████████████████████████████▏            | 26/35 [00:02<00:00,  9.94it/s]:  80%|████████████████████████████████████████          | 28/35 [00:02<00:00, 10.16it/s]:  86%|██████████████████████████████████████████▊       | 30/35 [00:02<00:00, 10.34it/s]:  91%|█████████████████████████████████████████████▋    | 32/35 [00:03<00:00, 10.44it/s]:  97%|████████████████████████████████████████████████▌ | 34/35 [00:03<00:00, 10.57it/s]: 100%|██████████████████████████████████████████████████| 35/35 [00:03<00:00, 10.26it/s]\n",
      "21 Aug 17:14    INFO  epoch 4 training [time: 3.42s, train loss: 22.7828]\n"
     ]
    },
    {
     "name": "stderr",
     "output_type": "stream",
     "text": [
      "Evaluate   :   0%|                                                        | 0/17178 [00:00<?, ?it/s]:   2%|█                                           | 410/17178 [00:00<00:04, 4098.02it/s]:   5%|██                                          | 820/17178 [00:00<00:04, 4084.10it/s]:   7%|███                                        | 1231/17178 [00:00<00:03, 4093.74it/s]:  10%|████                                       | 1642/17178 [00:00<00:03, 4096.46it/s]:  12%|█████▏                                     | 2052/17178 [00:00<00:03, 4072.19it/s]:  14%|██████▏                                    | 2460/17178 [00:00<00:03, 4055.62it/s]:  17%|███████▏                                   | 2866/17178 [00:00<00:03, 4052.92it/s]:  19%|████████▏                                  | 3272/17178 [00:00<00:03, 3981.99it/s]:  21%|█████████▏                                 | 3671/17178 [00:00<00:03, 3902.82it/s]:  24%|██████████▏                                | 4062/17178 [00:01<00:03, 3819.79it/s]:  26%|███████████▏                               | 4445/17178 [00:01<00:03, 3803.52it/s]:  28%|████████████                               | 4826/17178 [00:01<00:03, 3754.86it/s]:  30%|█████████████                              | 5202/17178 [00:01<00:03, 3666.33it/s]:  32%|█████████████▉                             | 5572/17178 [00:01<00:03, 3673.49it/s]:  35%|██████████████▊                            | 5940/17178 [00:01<00:03, 3664.94it/s]:  37%|███████████████▊                           | 6307/17178 [00:01<00:02, 3638.88it/s]:  39%|████████████████▋                          | 6672/17178 [00:01<00:02, 3609.65it/s]:  41%|█████████████████▌                         | 7034/17178 [00:01<00:02, 3607.48it/s]:  43%|██████████████████▌                        | 7395/17178 [00:01<00:02, 3558.79it/s]:  45%|███████████████████▍                       | 7752/17178 [00:02<00:02, 3556.20it/s]:  47%|████████████████████▎                      | 8108/17178 [00:02<00:02, 3547.31it/s]:  49%|█████████████████████▏                     | 8463/17178 [00:02<00:02, 3470.99it/s]:  51%|██████████████████████                     | 8811/17178 [00:02<00:02, 3416.60it/s]:  53%|██████████████████████▉                    | 9156/17178 [00:02<00:02, 3425.37it/s]:  55%|███████████████████████▊                   | 9527/17178 [00:02<00:02, 3506.81it/s]:  58%|████████████████████████▋                  | 9880/17178 [00:02<00:02, 3511.86it/s]:  60%|█████████████████████████                 | 10248/17178 [00:02<00:01, 3561.15it/s]:  62%|█████████████████████████▉                | 10605/17178 [00:02<00:01, 3516.04it/s]:  64%|██████████████████████████▊               | 10957/17178 [00:02<00:01, 3453.29it/s]:  66%|███████████████████████████▋              | 11303/17178 [00:03<00:01, 3432.63it/s]:  68%|████████████████████████████▍             | 11647/17178 [00:03<00:01, 3404.87it/s]:  70%|█████████████████████████████▎            | 12013/17178 [00:03<00:01, 3478.49it/s]:  72%|██████████████████████████████▏           | 12362/17178 [00:03<00:01, 3460.30it/s]:  74%|███████████████████████████████           | 12709/17178 [00:03<00:01, 3454.10it/s]:  76%|███████████████████████████████▉          | 13079/17178 [00:03<00:01, 3524.30it/s]:  78%|████████████████████████████████▊         | 13432/17178 [00:03<00:01, 3486.29it/s]:  80%|█████████████████████████████████▋        | 13781/17178 [00:03<00:01, 3395.18it/s]:  82%|██████████████████████████████████▌       | 14133/17178 [00:03<00:00, 3428.22it/s]:  84%|███████████████████████████████████▍      | 14477/17178 [00:03<00:00, 3427.43it/s]:  86%|████████████████████████████████████▎     | 14839/17178 [00:04<00:00, 3484.24it/s]:  88%|█████████████████████████████████████▏    | 15188/17178 [00:04<00:00, 3482.35it/s]:  91%|██████████████████████████████████████    | 15556/17178 [00:04<00:00, 3538.85it/s]:  93%|██████████████████████████████████████▉   | 15917/17178 [00:04<00:00, 3558.03it/s]:  95%|███████████████████████████████████████▊  | 16273/17178 [00:04<00:00, 3534.00it/s]:  97%|████████████████████████████████████████▋ | 16627/17178 [00:04<00:00, 3451.93it/s]:  99%|█████████████████████████████████████████▍| 16973/17178 [00:04<00:00, 3430.43it/s]: 100%|██████████████████████████████████████████| 17178/17178 [00:04<00:00, 3598.33it/s]\n",
      "21 Aug 17:14    INFO  epoch 4 evaluating [time: 4.82s, valid_score: 0.001100]\n",
      "21 Aug 17:14    INFO  valid result: \n",
      "recall@10 : 0.0031    mrr@10 : 0.0011    ndcg@10 : 0.0016    hit@10 : 0.0031    precision@10 : 0.0003\n",
      "Train     5:   0%|                                                           | 0/35 [00:00<?, ?it/s]:   3%|█▍                                                 | 1/35 [00:00<00:03,  9.80it/s]:   9%|████▎                                              | 3/35 [00:00<00:03, 10.17it/s]:  14%|███████▎                                           | 5/35 [00:00<00:03,  9.73it/s]:  20%|██████████▏                                        | 7/35 [00:00<00:02,  9.88it/s]:  26%|█████████████                                      | 9/35 [00:00<00:02, 10.05it/s]:  31%|███████████████▋                                  | 11/35 [00:01<00:02, 10.19it/s]:  37%|██████████████████▌                               | 13/35 [00:01<00:02,  9.59it/s]:  43%|█████████████████████▍                            | 15/35 [00:01<00:02,  9.91it/s]:  46%|██████████████████████▊                           | 16/35 [00:01<00:01,  9.88it/s]:  51%|█████████████████████████▋                        | 18/35 [00:01<00:01, 10.15it/s]:  57%|████████████████████████████▌                     | 20/35 [00:01<00:01, 10.28it/s]:  63%|███████████████████████████████▍                  | 22/35 [00:02<00:01,  9.76it/s]:  69%|██████████████████████████████████▎               | 24/35 [00:02<00:01,  9.99it/s]:  74%|█████████████████████████████████████▏            | 26/35 [00:02<00:00, 10.14it/s]:  80%|████████████████████████████████████████          | 28/35 [00:02<00:00,  9.98it/s]:  86%|██████████████████████████████████████████▊       | 30/35 [00:03<00:00, 10.09it/s]:  91%|█████████████████████████████████████████████▋    | 32/35 [00:03<00:00, 10.04it/s]:  97%|████████████████████████████████████████████████▌ | 34/35 [00:03<00:00, 10.10it/s]: 100%|██████████████████████████████████████████████████| 35/35 [00:03<00:00,  9.99it/s]\n",
      "21 Aug 17:14    INFO  epoch 5 training [time: 3.51s, train loss: 21.7524]\n"
     ]
    },
    {
     "name": "stderr",
     "output_type": "stream",
     "text": [
      "Evaluate   :   0%|                                                        | 0/17178 [00:00<?, ?it/s]:   2%|█                                           | 409/17178 [00:00<00:04, 4087.91it/s]:   5%|██                                          | 819/17178 [00:00<00:04, 4089.23it/s]:   7%|███                                        | 1228/17178 [00:00<00:03, 4038.45it/s]:  10%|████                                       | 1632/17178 [00:00<00:03, 4036.14it/s]:  12%|█████                                      | 2036/17178 [00:00<00:03, 3991.68it/s]:  14%|██████                                     | 2438/17178 [00:00<00:03, 3999.29it/s]:  17%|███████                                    | 2838/17178 [00:00<00:03, 3978.52it/s]:  19%|████████                                   | 3236/17178 [00:00<00:03, 3908.91it/s]:  21%|█████████                                  | 3628/17178 [00:00<00:03, 3830.54it/s]:  23%|██████████                                 | 4012/17178 [00:01<00:03, 3808.70it/s]:  26%|██████████▉                                | 4394/17178 [00:01<00:03, 3799.45it/s]:  28%|███████████▉                               | 4775/17178 [00:01<00:03, 3740.56it/s]:  30%|████████████▉                              | 5150/17178 [00:01<00:03, 3648.76it/s]:  32%|█████████████▊                             | 5516/17178 [00:01<00:03, 3604.78it/s]:  34%|██████████████▋                            | 5877/17178 [00:01<00:03, 3551.52it/s]:  36%|███████████████▋                           | 6255/17178 [00:01<00:03, 3615.28it/s]:  39%|████████████████▌                          | 6617/17178 [00:01<00:02, 3543.81it/s]:  41%|█████████████████▍                         | 6978/17178 [00:01<00:02, 3560.65it/s]:  43%|██████████████████▍                        | 7344/17178 [00:01<00:02, 3588.22it/s]:  45%|███████████████████▎                       | 7705/17178 [00:02<00:02, 3594.10it/s]:  47%|████████████████████▏                      | 8065/17178 [00:02<00:02, 3594.64it/s]:  49%|█████████████████████                      | 8425/17178 [00:02<00:02, 3546.85it/s]:  51%|█████████████████████▉                     | 8780/17178 [00:02<00:02, 3533.21it/s]:  53%|██████████████████████▊                    | 9137/17178 [00:02<00:02, 3542.37it/s]:  55%|███████████████████████▊                   | 9509/17178 [00:02<00:02, 3594.14it/s]:  58%|████████████████████████▋                  | 9884/17178 [00:02<00:02, 3638.86it/s]:  60%|█████████████████████████                 | 10249/17178 [00:02<00:01, 3613.49it/s]:  62%|█████████████████████████▉                | 10611/17178 [00:02<00:01, 3582.79it/s]:  64%|██████████████████████████▊               | 10970/17178 [00:02<00:01, 3540.06it/s]:  66%|███████████████████████████▋              | 11341/17178 [00:03<00:01, 3589.92it/s]:  68%|████████████████████████████▌             | 11705/17178 [00:03<00:01, 3602.83it/s]:  70%|█████████████████████████████▌            | 12066/17178 [00:03<00:01, 3554.28it/s]:  72%|██████████████████████████████▎           | 12422/17178 [00:03<00:01, 3506.26it/s]:  74%|███████████████████████████████▏          | 12773/17178 [00:03<00:01, 3437.64it/s]:  76%|████████████████████████████████          | 13126/17178 [00:03<00:01, 3462.99it/s]:  78%|████████████████████████████████▉         | 13473/17178 [00:03<00:01, 3461.05it/s]:  81%|█████████████████████████████████▊        | 13843/17178 [00:03<00:00, 3529.54it/s]:  83%|██████████████████████████████████▋       | 14197/17178 [00:03<00:00, 3507.91it/s]:  85%|███████████████████████████████████▌      | 14548/17178 [00:03<00:00, 3503.47it/s]:  87%|████████████████████████████████████▍     | 14904/17178 [00:04<00:00, 3519.42it/s]:  89%|█████████████████████████████████████▎    | 15268/17178 [00:04<00:00, 3554.02it/s]:  91%|██████████████████████████████████████▏   | 15624/17178 [00:04<00:00, 3542.10it/s]:  93%|███████████████████████████████████████   | 15979/17178 [00:04<00:00, 3530.41it/s]:  95%|███████████████████████████████████████▉  | 16338/17178 [00:04<00:00, 3546.04it/s]:  97%|████████████████████████████████████████▊ | 16693/17178 [00:04<00:00, 3538.07it/s]:  99%|█████████████████████████████████████████▋| 17047/17178 [00:04<00:00, 3477.11it/s]: 100%|██████████████████████████████████████████| 17178/17178 [00:04<00:00, 3621.13it/s]\n",
      "21 Aug 17:14    INFO  epoch 5 evaluating [time: 4.79s, valid_score: 0.001100]\n",
      "21 Aug 17:14    INFO  valid result: \n",
      "recall@10 : 0.0034    mrr@10 : 0.0011    ndcg@10 : 0.0016    hit@10 : 0.0034    precision@10 : 0.0003\n",
      "Train     6:   0%|                                                           | 0/35 [00:00<?, ?it/s]:   6%|██▉                                                | 2/35 [00:00<00:03, 10.05it/s]:  11%|█████▊                                             | 4/35 [00:00<00:03, 10.25it/s]:  17%|████████▋                                          | 6/35 [00:00<00:02, 10.17it/s]:  23%|███████████▋                                       | 8/35 [00:00<00:02, 10.06it/s]:  29%|██████████████▎                                   | 10/35 [00:01<00:02,  9.75it/s]:  31%|███████████████▋                                  | 11/35 [00:01<00:02,  9.69it/s]:  34%|█████████████████▏                                | 12/35 [00:01<00:02,  9.74it/s]:  37%|██████████████████▌                               | 13/35 [00:01<00:02,  9.78it/s]:  43%|█████████████████████▍                            | 15/35 [00:01<00:01, 10.16it/s]:  49%|████████████████████████▎                         | 17/35 [00:01<00:01, 10.35it/s]:  54%|███████████████████████████▏                      | 19/35 [00:01<00:01,  9.70it/s]:  57%|████████████████████████████▌                     | 20/35 [00:02<00:01,  9.73it/s]:  63%|███████████████████████████████▍                  | 22/35 [00:02<00:01,  9.99it/s]:  69%|██████████████████████████████████▎               | 24/35 [00:02<00:01, 10.18it/s]:  74%|█████████████████████████████████████▏            | 26/35 [00:02<00:00, 10.27it/s]:  80%|████████████████████████████████████████          | 28/35 [00:02<00:00, 10.06it/s]:  86%|██████████████████████████████████████████▊       | 30/35 [00:03<00:00,  9.79it/s]:  91%|█████████████████████████████████████████████▋    | 32/35 [00:03<00:00,  9.96it/s]:  97%|████████████████████████████████████████████████▌ | 34/35 [00:03<00:00, 10.01it/s]: 100%|██████████████████████████████████████████████████| 35/35 [00:03<00:00,  9.96it/s]\n",
      "21 Aug 17:14    INFO  epoch 6 training [time: 3.52s, train loss: 20.4327]\n"
     ]
    },
    {
     "name": "stderr",
     "output_type": "stream",
     "text": [
      "Evaluate   :   0%|                                                        | 0/17178 [00:00<?, ?it/s]:   2%|█                                           | 402/17178 [00:00<00:04, 4018.50it/s]:   5%|██                                          | 813/17178 [00:00<00:04, 4071.71it/s]:   7%|███                                        | 1221/17178 [00:00<00:03, 4065.60it/s]:   9%|████                                       | 1628/17178 [00:00<00:03, 4036.40it/s]:  12%|█████                                      | 2033/17178 [00:00<00:03, 4040.02it/s]:  14%|██████                                     | 2438/17178 [00:00<00:03, 4021.27it/s]:  17%|███████                                    | 2841/17178 [00:00<00:03, 4014.80it/s]:  19%|████████                                   | 3243/17178 [00:00<00:03, 3868.33it/s]:  21%|█████████                                  | 3631/17178 [00:00<00:03, 3835.97it/s]:  23%|██████████                                 | 4016/17178 [00:01<00:03, 3718.11it/s]:  26%|██████████▉                                | 4389/17178 [00:01<00:03, 3687.29it/s]:  28%|███████████▉                               | 4759/17178 [00:01<00:03, 3671.63it/s]:  30%|████████████▊                              | 5135/17178 [00:01<00:03, 3696.39it/s]:  32%|█████████████▊                             | 5505/17178 [00:01<00:03, 3680.47it/s]:  34%|██████████████▋                            | 5874/17178 [00:01<00:03, 3620.45it/s]:  36%|███████████████▋                           | 6243/17178 [00:01<00:03, 3640.48it/s]:  38%|████████████████▌                          | 6608/17178 [00:01<00:02, 3628.14it/s]:  41%|█████████████████▍                         | 6984/17178 [00:01<00:02, 3665.74it/s]:  43%|██████████████████▍                        | 7351/17178 [00:01<00:02, 3588.64it/s]:  45%|███████████████████▎                       | 7711/17178 [00:02<00:02, 3556.66it/s]:  47%|████████████████████▏                      | 8067/17178 [00:02<00:02, 3517.09it/s]:  49%|█████████████████████                      | 8431/17178 [00:02<00:02, 3553.03it/s]:  51%|██████████████████████                     | 8803/17178 [00:02<00:02, 3599.95it/s]:  53%|██████████████████████▉                    | 9164/17178 [00:02<00:02, 3533.73it/s]:  55%|███████████████████████▊                   | 9526/17178 [00:02<00:02, 3529.47it/s]:  58%|████████████████████████▊                  | 9890/17178 [00:02<00:02, 3561.53it/s]:  60%|█████████████████████████                 | 10253/17178 [00:02<00:01, 3581.30it/s]:  62%|█████████████████████████▉                | 10612/17178 [00:02<00:01, 3571.89it/s]:  64%|██████████████████████████▊               | 10970/17178 [00:02<00:01, 3555.52it/s]:  66%|███████████████████████████▋              | 11326/17178 [00:03<00:01, 3509.97it/s]:  68%|████████████████████████████▌             | 11678/17178 [00:03<00:01, 3496.21it/s]:  70%|█████████████████████████████▍            | 12028/17178 [00:03<00:01, 3474.96it/s]:  72%|██████████████████████████████▎           | 12388/17178 [00:03<00:01, 3509.03it/s]:  74%|███████████████████████████████▏          | 12740/17178 [00:03<00:01, 3501.69it/s]:  76%|████████████████████████████████          | 13099/17178 [00:03<00:01, 3525.35it/s]:  78%|████████████████████████████████▉         | 13452/17178 [00:03<00:01, 3473.70it/s]:  80%|█████████████████████████████████▊        | 13809/17178 [00:03<00:00, 3501.08it/s]:  82%|██████████████████████████████████▌       | 14160/17178 [00:03<00:00, 3472.67it/s]:  84%|███████████████████████████████████▍      | 14508/17178 [00:04<00:00, 3377.78it/s]:  86%|████████████████████████████████████▎     | 14850/17178 [00:04<00:00, 3387.72it/s]:  88%|█████████████████████████████████████▏    | 15194/17178 [00:04<00:00, 3401.85it/s]:  90%|█████████████████████████████████████▉    | 15535/17178 [00:04<00:00, 3344.07it/s]:  92%|██████████████████████████████████████▊   | 15884/17178 [00:04<00:00, 3386.30it/s]:  95%|███████████████████████████████████████▋  | 16244/17178 [00:04<00:00, 3447.22it/s]:  97%|████████████████████████████████████████▌ | 16609/17178 [00:04<00:00, 3505.47it/s]:  99%|█████████████████████████████████████████▍| 16970/17178 [00:04<00:00, 3534.39it/s]: 100%|██████████████████████████████████████████| 17178/17178 [00:04<00:00, 3602.50it/s]\n",
      "21 Aug 17:14    INFO  epoch 6 evaluating [time: 4.82s, valid_score: 0.001200]\n",
      "21 Aug 17:14    INFO  valid result: \n",
      "recall@10 : 0.0037    mrr@10 : 0.0012    ndcg@10 : 0.0018    hit@10 : 0.0037    precision@10 : 0.0004\n",
      "21 Aug 17:14    INFO  Saving current: saved/BPR-Aug-21-2024_17-13-28.pth\n",
      "Train     7:   0%|                                                           | 0/35 [00:00<?, ?it/s]:   3%|█▍                                                 | 1/35 [00:00<00:03,  9.91it/s]:   6%|██▉                                                | 2/35 [00:00<00:03,  9.70it/s]:   9%|████▎                                              | 3/35 [00:00<00:03,  9.71it/s]:  11%|█████▊                                             | 4/35 [00:00<00:03,  9.15it/s]:  14%|███████▎                                           | 5/35 [00:00<00:03,  9.43it/s]:  20%|██████████▏                                        | 7/35 [00:00<00:02,  9.83it/s]:  23%|███████████▋                                       | 8/35 [00:00<00:02,  9.77it/s]:  26%|█████████████                                      | 9/35 [00:00<00:02,  9.60it/s]:  31%|███████████████▋                                  | 11/35 [00:01<00:02, 10.03it/s]:  34%|█████████████████▏                                | 12/35 [00:01<00:02,  9.88it/s]:  37%|██████████████████▌                               | 13/35 [00:01<00:02,  9.81it/s]:  40%|████████████████████                              | 14/35 [00:01<00:02,  9.29it/s]:  43%|█████████████████████▍                            | 15/35 [00:01<00:02,  9.05it/s]:  46%|██████████████████████▊                           | 16/35 [00:01<00:02,  9.24it/s]:  49%|████████████████████████▎                         | 17/35 [00:01<00:01,  9.41it/s]:  51%|█████████████████████████▋                        | 18/35 [00:01<00:01,  9.56it/s]:  54%|███████████████████████████▏                      | 19/35 [00:01<00:01,  9.61it/s]:  57%|████████████████████████████▌                     | 20/35 [00:02<00:01,  9.63it/s]:  63%|███████████████████████████████▍                  | 22/35 [00:02<00:01,  9.87it/s]:  66%|████████████████████████████████▊                 | 23/35 [00:02<00:01,  9.42it/s]:  69%|██████████████████████████████████▎               | 24/35 [00:02<00:01,  9.20it/s]:  71%|███████████████████████████████████▋              | 25/35 [00:02<00:01,  9.35it/s]:  74%|█████████████████████████████████████▏            | 26/35 [00:02<00:00,  9.51it/s]:  77%|██████████████████████████████████████▌           | 27/35 [00:02<00:00,  9.61it/s]:  80%|████████████████████████████████████████          | 28/35 [00:02<00:00,  9.68it/s]:  83%|█████████████████████████████████████████▍        | 29/35 [00:03<00:00,  9.48it/s]:  86%|██████████████████████████████████████████▊       | 30/35 [00:03<00:00,  9.42it/s]:  91%|█████████████████████████████████████████████▋    | 32/35 [00:03<00:00,  9.71it/s]:  94%|███████████████████████████████████████████████▏  | 33/35 [00:03<00:00,  9.27it/s]:  97%|████████████████████████████████████████████████▌ | 34/35 [00:03<00:00,  9.19it/s]: 100%|██████████████████████████████████████████████████| 35/35 [00:03<00:00,  9.11it/s]: 100%|██████████████████████████████████████████████████| 35/35 [00:03<00:00,  9.48it/s]\n",
      "21 Aug 17:14    INFO  epoch 7 training [time: 3.70s, train loss: 18.8914]\n"
     ]
    },
    {
     "name": "stderr",
     "output_type": "stream",
     "text": [
      "Evaluate   :   0%|                                                        | 0/17178 [00:00<?, ?it/s]:   2%|█                                           | 409/17178 [00:00<00:04, 4082.87it/s]:   5%|██                                          | 818/17178 [00:00<00:04, 4030.63it/s]:   7%|███                                        | 1224/17178 [00:00<00:03, 4039.01it/s]:   9%|████                                       | 1628/17178 [00:00<00:03, 4032.30it/s]:  12%|█████                                      | 2037/17178 [00:00<00:03, 4049.76it/s]:  14%|██████                                     | 2442/17178 [00:00<00:03, 4049.06it/s]:  17%|███████▏                                   | 2847/17178 [00:00<00:03, 4032.37it/s]:  19%|████████▏                                  | 3251/17178 [00:00<00:03, 3993.50it/s]:  21%|█████████▏                                 | 3651/17178 [00:00<00:03, 3940.05it/s]:  24%|██████████▏                                | 4046/17178 [00:01<00:03, 3895.00it/s]:  26%|███████████                                | 4436/17178 [00:01<00:03, 3859.09it/s]:  28%|████████████                               | 4823/17178 [00:01<00:03, 3816.16it/s]:  30%|█████████████                              | 5205/17178 [00:01<00:03, 3791.68it/s]:  33%|█████████████▉                             | 5585/17178 [00:01<00:03, 3716.52it/s]:  35%|██████████████▉                            | 5957/17178 [00:01<00:03, 3680.86it/s]:  37%|███████████████▊                           | 6333/17178 [00:01<00:02, 3703.26it/s]:  39%|████████████████▊                          | 6710/17178 [00:01<00:02, 3722.30it/s]:  41%|█████████████████▋                         | 7083/17178 [00:01<00:02, 3718.15it/s]:  43%|██████████████████▋                        | 7455/17178 [00:01<00:02, 3685.99it/s]:  46%|███████████████████▌                       | 7824/17178 [00:02<00:02, 3653.62it/s]:  48%|████████████████████▌                      | 8190/17178 [00:02<00:02, 3651.11it/s]:  50%|█████████████████████▍                     | 8556/17178 [00:02<00:02, 3638.38it/s]:  52%|██████████████████████▎                    | 8928/17178 [00:02<00:02, 3661.20it/s]:  54%|███████████████████████▎                   | 9300/17178 [00:02<00:02, 3678.55it/s]:  56%|████████████████████████▏                  | 9668/17178 [00:02<00:02, 3614.83it/s]:  58%|████████████████████████▌                 | 10030/17178 [00:02<00:01, 3613.19it/s]:  61%|█████████████████████████▍                | 10403/17178 [00:02<00:01, 3646.46it/s]:  63%|██████████████████████████▎               | 10771/17178 [00:02<00:01, 3654.16it/s]:  65%|███████████████████████████▏              | 11137/17178 [00:02<00:01, 3643.19it/s]:  67%|████████████████████████████              | 11502/17178 [00:03<00:01, 3616.04it/s]:  69%|█████████████████████████████             | 11869/17178 [00:03<00:01, 3631.25it/s]:  71%|█████████████████████████████▉            | 12242/17178 [00:03<00:01, 3658.56it/s]:  73%|██████████████████████████████▊           | 12608/17178 [00:03<00:01, 3583.47it/s]:  76%|███████████████████████████████▋          | 12973/17178 [00:03<00:01, 3601.42it/s]:  78%|████████████████████████████████▌         | 13334/17178 [00:03<00:01, 3587.96it/s]:  80%|█████████████████████████████████▍        | 13693/17178 [00:03<00:00, 3534.15it/s]:  82%|██████████████████████████████████▎       | 14051/17178 [00:03<00:00, 3547.06it/s]:  84%|███████████████████████████████████▏      | 14415/17178 [00:03<00:00, 3574.11it/s]:  86%|████████████████████████████████████▏     | 14777/17178 [00:03<00:00, 3587.26it/s]:  88%|█████████████████████████████████████     | 15136/17178 [00:04<00:00, 3482.22it/s]:  90%|█████████████████████████████████████▉    | 15500/17178 [00:04<00:00, 3526.62it/s]:  92%|██████████████████████████████████████▊   | 15862/17178 [00:04<00:00, 3553.61it/s]:  94%|███████████████████████████████████████▋  | 16218/17178 [00:04<00:00, 3472.88it/s]:  96%|████████████████████████████████████████▌ | 16566/17178 [00:04<00:00, 3389.66it/s]:  98%|█████████████████████████████████████████▎| 16906/17178 [00:04<00:00, 3349.82it/s]: 100%|██████████████████████████████████████████| 17178/17178 [00:04<00:00, 3669.28it/s]\n",
      "21 Aug 17:14    INFO  epoch 7 evaluating [time: 4.73s, valid_score: 0.001100]\n",
      "21 Aug 17:14    INFO  valid result: \n",
      "recall@10 : 0.0029    mrr@10 : 0.0011    ndcg@10 : 0.0015    hit@10 : 0.0029    precision@10 : 0.0003\n",
      "Train     8:   0%|                                                           | 0/35 [00:00<?, ?it/s]:   3%|█▍                                                 | 1/35 [00:00<00:03,  9.72it/s]:   6%|██▉                                                | 2/35 [00:00<00:03,  9.80it/s]:   9%|████▎                                              | 3/35 [00:00<00:03,  9.85it/s]:  14%|███████▎                                           | 5/35 [00:00<00:02, 10.18it/s]:  20%|██████████▏                                        | 7/35 [00:00<00:02, 10.20it/s]:  26%|█████████████                                      | 9/35 [00:00<00:02, 10.33it/s]:  31%|███████████████▋                                  | 11/35 [00:01<00:02,  9.53it/s]:  34%|█████████████████▏                                | 12/35 [00:01<00:02,  9.59it/s]:  37%|██████████████████▌                               | 13/35 [00:01<00:02,  9.65it/s]:  40%|████████████████████                              | 14/35 [00:01<00:02,  9.71it/s]:  43%|█████████████████████▍                            | 15/35 [00:01<00:02,  9.78it/s]:  49%|████████████████████████▎                         | 17/35 [00:01<00:01, 10.07it/s]:  54%|███████████████████████████▏                      | 19/35 [00:01<00:01, 10.17it/s]:  60%|██████████████████████████████                    | 21/35 [00:02<00:01,  9.51it/s]:  66%|████████████████████████████████▊                 | 23/35 [00:02<00:01,  9.84it/s]:  69%|██████████████████████████████████▎               | 24/35 [00:02<00:01,  9.82it/s]:  74%|█████████████████████████████████████▏            | 26/35 [00:02<00:00,  9.94it/s]:  80%|████████████████████████████████████████          | 28/35 [00:02<00:00, 10.00it/s]:  86%|██████████████████████████████████████████▊       | 30/35 [00:03<00:00,  9.47it/s]:  91%|█████████████████████████████████████████████▋    | 32/35 [00:03<00:00,  9.69it/s]:  94%|███████████████████████████████████████████████▏  | 33/35 [00:03<00:00,  9.66it/s]: 100%|██████████████████████████████████████████████████| 35/35 [00:03<00:00,  9.84it/s]: 100%|██████████████████████████████████████████████████| 35/35 [00:03<00:00,  9.82it/s]\n",
      "21 Aug 17:14    INFO  epoch 8 training [time: 3.57s, train loss: 17.1913]\n"
     ]
    },
    {
     "name": "stderr",
     "output_type": "stream",
     "text": [
      "Evaluate   :   0%|                                                        | 0/17178 [00:00<?, ?it/s]:   2%|█                                           | 411/17178 [00:00<00:04, 4102.53it/s]:   5%|██                                          | 822/17178 [00:00<00:04, 4077.17it/s]:   7%|███                                        | 1234/17178 [00:00<00:03, 4096.15it/s]:  10%|████                                       | 1644/17178 [00:00<00:03, 4059.96it/s]:  12%|█████▏                                     | 2051/17178 [00:00<00:03, 4027.34it/s]:  14%|██████▏                                    | 2454/17178 [00:00<00:03, 4027.27it/s]:  17%|███████▏                                   | 2861/17178 [00:00<00:03, 4038.84it/s]:  19%|████████▏                                  | 3265/17178 [00:00<00:03, 3998.41it/s]:  21%|█████████▏                                 | 3665/17178 [00:00<00:03, 3923.38it/s]:  24%|██████████▏                                | 4058/17178 [00:01<00:03, 3859.47it/s]:  26%|███████████▏                               | 4445/17178 [00:01<00:03, 3800.47it/s]:  28%|████████████                               | 4826/17178 [00:01<00:03, 3771.53it/s]:  30%|█████████████                              | 5204/17178 [00:01<00:03, 3728.12it/s]:  32%|█████████████▉                             | 5577/17178 [00:01<00:03, 3679.59it/s]:  35%|██████████████▉                            | 5946/17178 [00:01<00:03, 3621.97it/s]:  37%|███████████████▊                           | 6320/17178 [00:01<00:02, 3654.56it/s]:  39%|████████████████▊                          | 6697/17178 [00:01<00:02, 3687.69it/s]:  41%|█████████████████▋                         | 7073/17178 [00:01<00:02, 3706.54it/s]:  43%|██████████████████▋                        | 7444/17178 [00:01<00:02, 3698.57it/s]:  46%|███████████████████▌                       | 7818/17178 [00:02<00:02, 3709.65it/s]:  48%|████████████████████▌                      | 8190/17178 [00:02<00:02, 3674.79it/s]:  50%|█████████████████████▍                     | 8558/17178 [00:02<00:02, 3665.94it/s]:  52%|██████████████████████▎                    | 8925/17178 [00:02<00:02, 3661.70it/s]:  54%|███████████████████████▎                   | 9292/17178 [00:02<00:02, 3648.04it/s]:  56%|████████████████████████▏                  | 9661/17178 [00:02<00:02, 3659.25it/s]:  58%|████████████████████████▌                 | 10034/17178 [00:02<00:01, 3678.56it/s]:  61%|█████████████████████████▍                | 10407/17178 [00:02<00:01, 3693.45it/s]:  63%|██████████████████████████▎               | 10779/17178 [00:02<00:01, 3700.34it/s]:  65%|███████████████████████████▎              | 11150/17178 [00:02<00:01, 3669.16it/s]:  67%|████████████████████████████▏             | 11517/17178 [00:03<00:01, 3646.61it/s]:  69%|█████████████████████████████             | 11882/17178 [00:03<00:01, 3635.26it/s]:  71%|█████████████████████████████▉            | 12251/17178 [00:03<00:01, 3649.60it/s]:  73%|██████████████████████████████▊           | 12617/17178 [00:03<00:01, 3644.58it/s]:  76%|███████████████████████████████▋          | 12982/17178 [00:03<00:01, 3640.23it/s]:  78%|████████████████████████████████▋         | 13347/17178 [00:03<00:01, 3639.41it/s]:  80%|█████████████████████████████████▌        | 13713/17178 [00:03<00:00, 3645.35it/s]:  82%|██████████████████████████████████▍       | 14078/17178 [00:03<00:00, 3618.54it/s]:  84%|███████████████████████████████████▎      | 14440/17178 [00:03<00:00, 3613.14it/s]:  86%|████████████████████████████████████▏     | 14802/17178 [00:03<00:00, 3559.51it/s]:  88%|█████████████████████████████████████     | 15164/17178 [00:04<00:00, 3574.73it/s]:  90%|█████████████████████████████████████▉    | 15531/17178 [00:04<00:00, 3600.68it/s]:  93%|██████████████████████████████████████▊   | 15898/17178 [00:04<00:00, 3618.49it/s]:  95%|███████████████████████████████████████▊  | 16260/17178 [00:04<00:00, 3611.50it/s]:  97%|████████████████████████████████████████▋ | 16622/17178 [00:04<00:00, 3586.74it/s]:  99%|█████████████████████████████████████████▌| 16981/17178 [00:04<00:00, 3570.52it/s]: 100%|██████████████████████████████████████████| 17178/17178 [00:04<00:00, 3708.64it/s]\n",
      "21 Aug 17:14    INFO  epoch 8 evaluating [time: 4.68s, valid_score: 0.001100]\n",
      "21 Aug 17:14    INFO  valid result: \n",
      "recall@10 : 0.0031    mrr@10 : 0.0011    ndcg@10 : 0.0016    hit@10 : 0.0031    precision@10 : 0.0003\n",
      "Train     9:   0%|                                                           | 0/35 [00:00<?, ?it/s]:   6%|██▉                                                | 2/35 [00:00<00:03, 10.49it/s]:  11%|█████▊                                             | 4/35 [00:00<00:02, 10.53it/s]:  17%|████████▋                                          | 6/35 [00:00<00:02, 10.52it/s]:  23%|███████████▋                                       | 8/35 [00:00<00:02,  9.80it/s]:  29%|██████████████▎                                   | 10/35 [00:00<00:02, 10.03it/s]:  34%|█████████████████▏                                | 12/35 [00:01<00:02, 10.21it/s]:  40%|████████████████████                              | 14/35 [00:01<00:02, 10.36it/s]:  46%|██████████████████████▊                           | 16/35 [00:01<00:01, 10.38it/s]:  51%|█████████████████████████▋                        | 18/35 [00:01<00:01,  9.86it/s]:  54%|███████████████████████████▏                      | 19/35 [00:01<00:01,  9.65it/s]:  60%|██████████████████████████████                    | 21/35 [00:02<00:01,  9.97it/s]:  66%|████████████████████████████████▊                 | 23/35 [00:02<00:01, 10.16it/s]:  71%|███████████████████████████████████▋              | 25/35 [00:02<00:00, 10.33it/s]:  77%|██████████████████████████████████████▌           | 27/35 [00:02<00:00, 10.44it/s]:  83%|█████████████████████████████████████████▍        | 29/35 [00:02<00:00,  9.90it/s]:  89%|████████████████████████████████████████████▎     | 31/35 [00:03<00:00, 10.13it/s]:  94%|███████████████████████████████████████████████▏  | 33/35 [00:03<00:00, 10.29it/s]: 100%|██████████████████████████████████████████████████| 35/35 [00:03<00:00, 10.38it/s]: 100%|██████████████████████████████████████████████████| 35/35 [00:03<00:00, 10.19it/s]\n",
      "21 Aug 17:14    INFO  epoch 9 training [time: 3.44s, train loss: 15.4158]\n"
     ]
    },
    {
     "name": "stderr",
     "output_type": "stream",
     "text": [
      "Evaluate   :   0%|                                                        | 0/17178 [00:00<?, ?it/s]:   2%|█                                           | 414/17178 [00:00<00:04, 4134.86it/s]:   5%|██                                          | 828/17178 [00:00<00:03, 4122.27it/s]:   7%|███                                        | 1241/17178 [00:00<00:03, 4113.98it/s]:  10%|████▏                                      | 1653/17178 [00:00<00:03, 4114.97it/s]:  12%|█████▏                                     | 2065/17178 [00:00<00:03, 4106.34it/s]:  14%|██████▏                                    | 2476/17178 [00:00<00:03, 4080.15it/s]:  17%|███████▏                                   | 2885/17178 [00:00<00:03, 4050.18it/s]:  19%|████████▏                                  | 3291/17178 [00:00<00:03, 4004.91it/s]:  21%|█████████▏                                 | 3692/17178 [00:00<00:03, 3934.12it/s]:  24%|██████████▏                                | 4086/17178 [00:01<00:03, 3893.15it/s]:  26%|███████████▏                               | 4476/17178 [00:01<00:03, 3813.12it/s]:  28%|████████████▏                              | 4858/17178 [00:01<00:03, 3799.02it/s]:  30%|█████████████                              | 5239/17178 [00:01<00:03, 3799.00it/s]:  33%|██████████████                             | 5620/17178 [00:01<00:03, 3780.32it/s]:  35%|███████████████                            | 5999/17178 [00:01<00:02, 3772.50it/s]:  37%|███████████████▉                           | 6377/17178 [00:01<00:02, 3774.57it/s]:  39%|████████████████▉                          | 6755/17178 [00:01<00:02, 3747.36it/s]:  42%|█████████████████▊                         | 7130/17178 [00:01<00:02, 3730.58it/s]:  44%|██████████████████▊                        | 7504/17178 [00:01<00:02, 3680.92it/s]:  46%|███████████████████▋                       | 7878/17178 [00:02<00:02, 3697.59it/s]:  48%|████████████████████▋                      | 8248/17178 [00:02<00:02, 3666.61it/s]:  50%|█████████████████████▌                     | 8615/17178 [00:02<00:02, 3646.15it/s]:  52%|██████████████████████▍                    | 8980/17178 [00:02<00:02, 3643.18it/s]:  54%|███████████████████████▍                   | 9350/17178 [00:02<00:02, 3658.34it/s]:  57%|████████████████████████▎                  | 9721/17178 [00:02<00:02, 3671.41it/s]:  59%|████████████████████████▋                 | 10090/17178 [00:02<00:01, 3674.56it/s]:  61%|█████████████████████████▌                | 10458/17178 [00:02<00:01, 3660.23it/s]:  63%|██████████████████████████▍               | 10825/17178 [00:02<00:01, 3657.45it/s]:  65%|███████████████████████████▎              | 11193/17178 [00:02<00:01, 3661.41it/s]:  67%|████████████████████████████▎             | 11560/17178 [00:03<00:01, 3651.46it/s]:  69%|█████████████████████████████▏            | 11927/17178 [00:03<00:01, 3656.79it/s]:  72%|██████████████████████████████            | 12293/17178 [00:03<00:01, 3547.15it/s]:  74%|██████████████████████████████▉           | 12649/17178 [00:03<00:01, 3533.47it/s]:  76%|███████████████████████████████▊          | 13018/17178 [00:03<00:01, 3579.19it/s]:  78%|████████████████████████████████▋         | 13379/17178 [00:03<00:01, 3585.67it/s]:  80%|█████████████████████████████████▌        | 13738/17178 [00:03<00:00, 3582.10it/s]:  82%|██████████████████████████████████▍       | 14103/17178 [00:03<00:00, 3600.18it/s]:  84%|███████████████████████████████████▎      | 14464/17178 [00:03<00:00, 3574.41it/s]:  86%|████████████████████████████████████▏     | 14824/17178 [00:03<00:00, 3581.55it/s]:  88%|█████████████████████████████████████▏    | 15188/17178 [00:04<00:00, 3598.61it/s]:  91%|██████████████████████████████████████    | 15553/17178 [00:04<00:00, 3611.75it/s]:  93%|██████████████████████████████████████▉   | 15915/17178 [00:04<00:00, 3586.44it/s]:  95%|███████████████████████████████████████▊  | 16274/17178 [00:04<00:00, 3517.81it/s]:  97%|████████████████████████████████████████▋ | 16627/17178 [00:04<00:00, 3491.88it/s]:  99%|█████████████████████████████████████████▌| 16979/17178 [00:04<00:00, 3498.18it/s]: 100%|██████████████████████████████████████████| 17178/17178 [00:04<00:00, 3705.04it/s]\n",
      "21 Aug 17:14    INFO  epoch 9 evaluating [time: 4.69s, valid_score: 0.001100]\n",
      "21 Aug 17:14    INFO  valid result: \n",
      "recall@10 : 0.003    mrr@10 : 0.0011    ndcg@10 : 0.0015    hit@10 : 0.003    precision@10 : 0.0003\n",
      "21 Aug 17:14    INFO  Loading model structure and parameters from saved/BPR-Aug-21-2024_17-13-28.pth\n"
     ]
    },
    {
     "name": "stderr",
     "output_type": "stream",
     "text": [
      "Evaluate   :   0%|                                                        | 0/56825 [00:00<?, ?it/s]:   1%|▎                                           | 417/56825 [00:00<00:13, 4164.13it/s]:   1%|▋                                           | 834/56825 [00:00<00:13, 4134.68it/s]:   2%|▉                                          | 1250/56825 [00:00<00:13, 4143.98it/s]:   3%|█▎                                         | 1665/56825 [00:00<00:13, 4090.35it/s]:   4%|█▌                                         | 2075/56825 [00:00<00:13, 4093.61it/s]:   4%|█▉                                         | 2485/56825 [00:00<00:13, 4089.59it/s]:   5%|██▏                                        | 2895/56825 [00:00<00:13, 4036.00it/s]:   6%|██▍                                        | 3299/56825 [00:00<00:13, 3979.41it/s]:   7%|██▊                                        | 3698/56825 [00:00<00:13, 3884.02it/s]:   7%|███                                        | 4087/56825 [00:01<00:13, 3798.25it/s]:   8%|███▍                                       | 4468/56825 [00:01<00:13, 3785.68it/s]:   9%|███▋                                       | 4847/56825 [00:01<00:13, 3777.50it/s]:   9%|███▉                                       | 5225/56825 [00:01<00:13, 3769.37it/s]:  10%|████▏                                      | 5603/56825 [00:01<00:14, 3632.09it/s]:  11%|████▌                                      | 5968/56825 [00:01<00:14, 3571.21it/s]:  11%|████▊                                      | 6326/56825 [00:01<00:14, 3563.87it/s]:  12%|█████                                      | 6683/56825 [00:01<00:14, 3525.16it/s]:  12%|█████▎                                     | 7036/56825 [00:01<00:14, 3491.44it/s]:  13%|█████▌                                     | 7386/56825 [00:01<00:14, 3490.14it/s]:  14%|█████▊                                     | 7736/56825 [00:02<00:14, 3441.37it/s]:  14%|██████                                     | 8081/56825 [00:02<00:14, 3416.23it/s]:  15%|██████▍                                    | 8450/56825 [00:02<00:13, 3495.01it/s]:  16%|██████▋                                    | 8809/56825 [00:02<00:13, 3521.08it/s]:  16%|██████▉                                    | 9175/56825 [00:02<00:13, 3560.17it/s]:  17%|███████▏                                   | 9543/56825 [00:02<00:13, 3593.56it/s]:  17%|███████▍                                   | 9911/56825 [00:02<00:12, 3616.83it/s]:  18%|███████▌                                  | 10273/56825 [00:02<00:13, 3518.11it/s]:  19%|███████▊                                  | 10626/56825 [00:02<00:13, 3477.45it/s]:  19%|████████                                  | 10980/56825 [00:02<00:13, 3494.63it/s]:  20%|████████▍                                 | 11339/56825 [00:03<00:12, 3520.88it/s]:  21%|████████▋                                 | 11692/56825 [00:03<00:12, 3513.41it/s]:  21%|████████▉                                 | 12044/56825 [00:03<00:12, 3445.81it/s]:  22%|█████████▏                                | 12414/56825 [00:03<00:12, 3518.45it/s]:  22%|█████████▍                                | 12777/56825 [00:03<00:12, 3551.14it/s]:  23%|█████████▋                                | 13140/56825 [00:03<00:12, 3574.44it/s]:  24%|█████████▉                                | 13498/56825 [00:03<00:12, 3561.63it/s]:  24%|██████████▏                               | 13855/56825 [00:03<00:12, 3548.64it/s]:  25%|██████████▌                               | 14210/56825 [00:03<00:12, 3479.48it/s]:  26%|██████████▊                               | 14559/56825 [00:04<00:12, 3477.97it/s]:  26%|███████████                               | 14908/56825 [00:04<00:12, 3391.55it/s]:  27%|███████████▎                              | 15260/56825 [00:04<00:12, 3428.85it/s]:  27%|███████████▌                              | 15618/56825 [00:04<00:11, 3471.49it/s]:  28%|███████████▊                              | 15969/56825 [00:04<00:11, 3480.85it/s]:  29%|████████████                              | 16318/56825 [00:04<00:11, 3430.40it/s]:  29%|████████████▎                             | 16662/56825 [00:04<00:11, 3426.22it/s]:  30%|████████████▌                             | 17005/56825 [00:04<00:11, 3379.12it/s]:  31%|████████████▊                             | 17344/56825 [00:04<00:11, 3380.19it/s]:  31%|█████████████                             | 17695/56825 [00:04<00:11, 3416.87it/s]:  32%|█████████████▎                            | 18037/56825 [00:05<00:11, 3341.13it/s]:  32%|█████████████▌                            | 18372/56825 [00:05<00:12, 3196.57it/s]:  33%|█████████████▊                            | 18694/56825 [00:05<00:11, 3183.86it/s]:  33%|██████████████                            | 19014/56825 [00:05<00:13, 2892.45it/s]:  34%|██████████████▎                           | 19335/56825 [00:05<00:12, 2976.74it/s]:  35%|██████████████▌                           | 19670/56825 [00:05<00:12, 3078.90it/s]:  35%|██████████████▊                           | 19989/56825 [00:05<00:11, 3108.55it/s]:  36%|███████████████                           | 20338/56825 [00:05<00:11, 3218.13it/s]:  36%|███████████████▎                          | 20685/56825 [00:05<00:10, 3291.44it/s]:  37%|███████████████▌                          | 21024/56825 [00:05<00:10, 3319.03it/s]:  38%|███████████████▊                          | 21358/56825 [00:06<00:10, 3265.17it/s]:  38%|████████████████                          | 21686/56825 [00:06<00:11, 3184.61it/s]:  39%|████████████████▎                         | 22006/56825 [00:06<00:11, 3128.71it/s]:  39%|████████████████▍                         | 22322/56825 [00:06<00:11, 3135.39it/s]:  40%|████████████████▋                         | 22642/56825 [00:06<00:10, 3137.98it/s]:  40%|████████████████▉                         | 22957/56825 [00:06<00:11, 3063.65it/s]:  41%|█████████████████▏                        | 23264/56825 [00:06<00:11, 3019.52it/s]:  41%|█████████████████▍                        | 23567/56825 [00:06<00:11, 3020.68it/s]:  42%|█████████████████▋                        | 23901/56825 [00:06<00:10, 3111.72it/s]:  43%|█████████████████▉                        | 24213/56825 [00:07<00:10, 3063.91it/s]:  43%|██████████████████                        | 24520/56825 [00:07<00:10, 3039.46it/s]:  44%|██████████████████▎                       | 24837/56825 [00:07<00:10, 3076.32it/s]:  44%|██████████████████▌                       | 25161/56825 [00:07<00:10, 3124.39it/s]:  45%|██████████████████▊                       | 25474/56825 [00:07<00:10, 3009.10it/s]:  45%|███████████████████                       | 25776/56825 [00:07<00:10, 2989.83it/s]:  46%|███████████████████▎                      | 26076/56825 [00:07<00:10, 2895.84it/s]:  46%|███████████████████▍                      | 26367/56825 [00:07<00:10, 2771.23it/s]:  47%|███████████████████▋                      | 26646/56825 [00:07<00:11, 2647.73it/s]:  47%|███████████████████▉                      | 26920/56825 [00:07<00:11, 2672.20it/s]:  48%|████████████████████                      | 27204/56825 [00:08<00:10, 2719.44it/s]:  48%|████████████████████▎                     | 27478/56825 [00:08<00:10, 2694.23it/s]:  49%|████████████████████▌                     | 27749/56825 [00:08<00:12, 2402.41it/s]:  49%|████████████████████▋                     | 27996/56825 [00:08<00:12, 2268.33it/s]:  50%|████████████████████▊                     | 28228/56825 [00:08<00:12, 2256.27it/s]:  50%|█████████████████████                     | 28458/56825 [00:08<00:12, 2266.83it/s]:  51%|█████████████████████▏                    | 28716/56825 [00:08<00:11, 2353.18it/s]:  51%|█████████████████████▍                    | 28997/56825 [00:08<00:11, 2482.30it/s]:  52%|█████████████████████▋                    | 29285/56825 [00:08<00:10, 2594.94it/s]:  52%|█████████████████████▊                    | 29547/56825 [00:09<00:10, 2588.94it/s]:  52%|██████████████████████                    | 29808/56825 [00:09<00:10, 2506.75it/s]:  53%|██████████████████████▎                   | 30114/56825 [00:09<00:10, 2664.45it/s]:  54%|██████████████████████▍                   | 30424/56825 [00:09<00:09, 2790.60it/s]:  54%|██████████████████████▋                   | 30733/56825 [00:09<00:09, 2877.53it/s]"
     ]
    },
    {
     "name": "stderr",
     "output_type": "stream",
     "text": [
      "Evaluate   :  55%|██████████████████████▉                   | 31023/56825 [00:09<00:08, 2883.31it/s]:  55%|███████████████████████▏                  | 31339/56825 [00:09<00:08, 2964.53it/s]:  56%|███████████████████████▍                  | 31637/56825 [00:09<00:09, 2759.27it/s]:  56%|███████████████████████▌                  | 31917/56825 [00:09<00:09, 2679.35it/s]:  57%|███████████████████████▊                  | 32208/56825 [00:10<00:08, 2743.48it/s]:  57%|████████████████████████                  | 32485/56825 [00:10<00:08, 2713.42it/s]:  58%|████████████████████████▏                 | 32766/56825 [00:10<00:08, 2741.08it/s]:  58%|████████████████████████▍                 | 33048/56825 [00:10<00:08, 2763.98it/s]:  59%|████████████████████████▋                 | 33331/56825 [00:10<00:08, 2781.43it/s]:  59%|████████████████████████▊                 | 33610/56825 [00:10<00:08, 2729.50it/s]:  60%|█████████████████████████                 | 33884/56825 [00:10<00:08, 2657.00it/s]:  60%|█████████████████████████▏                | 34151/56825 [00:10<00:08, 2597.33it/s]:  61%|█████████████████████████▍                | 34412/56825 [00:10<00:08, 2593.63it/s]:  61%|█████████████████████████▋                | 34672/56825 [00:10<00:08, 2578.56it/s]:  61%|█████████████████████████▊                | 34931/56825 [00:11<00:08, 2566.84it/s]:  62%|██████████████████████████                | 35197/56825 [00:11<00:08, 2592.90it/s]:  62%|██████████████████████████▏               | 35472/56825 [00:11<00:08, 2638.96it/s]:  63%|██████████████████████████▍               | 35737/56825 [00:11<00:08, 2529.95it/s]:  63%|██████████████████████████▌               | 35992/56825 [00:11<00:09, 2169.05it/s]:  64%|██████████████████████████▊               | 36219/56825 [00:11<00:09, 2069.47it/s]:  64%|██████████████████████████▉               | 36446/56825 [00:11<00:09, 2110.67it/s]:  65%|███████████████████████████               | 36669/56825 [00:11<00:09, 2140.83it/s]:  65%|███████████████████████████▎              | 36887/56825 [00:11<00:09, 2106.37it/s]:  65%|███████████████████████████▍              | 37122/56825 [00:12<00:09, 2173.42it/s]:  66%|███████████████████████████▌              | 37342/56825 [00:12<00:09, 2112.17it/s]:  66%|███████████████████████████▊              | 37571/56825 [00:12<00:08, 2160.17it/s]:  67%|███████████████████████████▉              | 37817/56825 [00:12<00:08, 2244.95it/s]:  67%|████████████████████████████▏             | 38071/56825 [00:12<00:08, 2330.83it/s]:  67%|████████████████████████████▎             | 38336/56825 [00:12<00:07, 2421.92it/s]:  68%|████████████████████████████▌             | 38617/56825 [00:12<00:07, 2535.78it/s]:  68%|████████████████████████████▋             | 38876/56825 [00:12<00:07, 2550.63it/s]:  69%|████████████████████████████▉             | 39144/56825 [00:12<00:06, 2588.38it/s]:  69%|█████████████████████████████             | 39404/56825 [00:12<00:06, 2557.45it/s]:  70%|█████████████████████████████▎            | 39668/56825 [00:13<00:06, 2580.12it/s]:  70%|█████████████████████████████▌            | 39932/56825 [00:13<00:06, 2597.65it/s]:  71%|█████████████████████████████▋            | 40193/56825 [00:13<00:06, 2556.40it/s]:  71%|█████████████████████████████▉            | 40449/56825 [00:13<00:06, 2500.38it/s]:  72%|██████████████████████████████            | 40714/56825 [00:13<00:06, 2543.62it/s]:  72%|██████████████████████████████▎           | 40974/56825 [00:13<00:06, 2554.25it/s]:  73%|██████████████████████████████▍           | 41230/56825 [00:13<00:06, 2393.46it/s]:  73%|██████████████████████████████▋           | 41472/56825 [00:13<00:06, 2221.18it/s]:  73%|██████████████████████████████▊           | 41698/56825 [00:13<00:06, 2183.36it/s]:  74%|██████████████████████████████▉           | 41919/56825 [00:14<00:07, 2057.75it/s]:  74%|███████████████████████████████▏          | 42128/56825 [00:14<00:07, 1995.09it/s]:  74%|███████████████████████████████▎          | 42330/56825 [00:14<00:07, 1958.83it/s]:  75%|███████████████████████████████▍          | 42549/56825 [00:14<00:07, 2021.22it/s]:  75%|███████████████████████████████▌          | 42774/56825 [00:14<00:06, 2085.22it/s]:  76%|███████████████████████████████▊          | 42991/56825 [00:14<00:06, 2108.84it/s]:  76%|███████████████████████████████▉          | 43203/56825 [00:14<00:06, 2005.24it/s]:  76%|████████████████████████████████          | 43406/56825 [00:14<00:07, 1900.25it/s]:  77%|████████████████████████████████▏         | 43603/56825 [00:14<00:06, 1919.12it/s]:  77%|████████████████████████████████▍         | 43805/56825 [00:15<00:06, 1946.97it/s]:  77%|████████████████████████████████▌         | 44001/56825 [00:15<00:06, 1920.59it/s]:  78%|████████████████████████████████▋         | 44200/56825 [00:15<00:06, 1939.99it/s]:  78%|████████████████████████████████▊         | 44406/56825 [00:15<00:06, 1973.76it/s]:  79%|████████████████████████████████▉         | 44626/56825 [00:15<00:05, 2039.27it/s]:  79%|█████████████████████████████████▏        | 44846/56825 [00:15<00:05, 2086.59it/s]:  79%|█████████████████████████████████▎        | 45066/56825 [00:15<00:05, 2117.60it/s]:  80%|█████████████████████████████████▍        | 45279/56825 [00:15<00:05, 2098.88it/s]:  80%|█████████████████████████████████▌        | 45490/56825 [00:15<00:05, 1986.77it/s]:  80%|█████████████████████████████████▊        | 45691/56825 [00:15<00:05, 1900.64it/s]:  81%|█████████████████████████████████▉        | 45897/56825 [00:16<00:05, 1944.92it/s]:  81%|██████████████████████████████████        | 46103/56825 [00:16<00:05, 1977.13it/s]:  82%|██████████████████████████████████▏       | 46313/56825 [00:16<00:05, 2011.48it/s]:  82%|██████████████████████████████████▍       | 46516/56825 [00:16<00:05, 2009.80it/s]:  82%|██████████████████████████████████▌       | 46718/56825 [00:16<00:05, 1993.62it/s]:  83%|██████████████████████████████████▋       | 46918/56825 [00:16<00:05, 1956.86it/s]:  83%|██████████████████████████████████▊       | 47117/56825 [00:16<00:04, 1963.04it/s]:  83%|██████████████████████████████████▉       | 47314/56825 [00:16<00:04, 1940.95it/s]:  84%|███████████████████████████████████       | 47515/56825 [00:16<00:04, 1960.45it/s]:  84%|███████████████████████████████████▎      | 47712/56825 [00:17<00:04, 1953.10it/s]:  84%|███████████████████████████████████▍      | 47908/56825 [00:17<00:04, 1939.48it/s]:  85%|███████████████████████████████████▌      | 48110/56825 [00:17<00:04, 1962.42it/s]:  85%|███████████████████████████████████▋      | 48307/56825 [00:17<00:04, 1923.19it/s]:  85%|███████████████████████████████████▊      | 48500/56825 [00:17<00:04, 1906.86it/s]:  86%|███████████████████████████████████▉      | 48702/56825 [00:17<00:04, 1939.36it/s]:  86%|████████████████████████████████████▏     | 48897/56825 [00:17<00:04, 1924.10it/s]:  86%|████████████████████████████████████▎     | 49090/56825 [00:17<00:04, 1913.83it/s]:  87%|████████████████████████████████████▍     | 49282/56825 [00:17<00:04, 1875.55it/s]:  87%|████████████████████████████████████▌     | 49470/56825 [00:17<00:04, 1760.75it/s]:  87%|████████████████████████████████████▋     | 49648/56825 [00:18<00:04, 1671.83it/s]:  88%|████████████████████████████████████▊     | 49817/56825 [00:18<00:04, 1640.67it/s]:  88%|████████████████████████████████████▉     | 49983/56825 [00:18<00:04, 1559.33it/s]:  88%|█████████████████████████████████████     | 50141/56825 [00:18<00:04, 1530.43it/s]:  89%|█████████████████████████████████████▏    | 50303/56825 [00:18<00:04, 1553.61it/s]:  89%|█████████████████████████████████████▎    | 50461/56825 [00:18<00:04, 1560.00it/s]:  89%|█████████████████████████████████████▍    | 50625/56825 [00:18<00:03, 1582.27it/s]:  89%|█████████████████████████████████████▌    | 50784/56825 [00:18<00:03, 1564.46it/s]:  90%|█████████████████████████████████████▋    | 50961/56825 [00:18<00:03, 1622.52it/s]:  90%|█████████████████████████████████████▊    | 51124/56825 [00:19<00:03, 1601.93it/s]:  90%|█████████████████████████████████████▉    | 51285/56825 [00:19<00:03, 1587.70it/s]:  91%|██████████████████████████████████████    | 51445/56825 [00:19<00:03, 1589.17it/s]"
     ]
    },
    {
     "name": "stderr",
     "output_type": "stream",
     "text": [
      "Evaluate   :  91%|██████████████████████████████████████▏   | 51618/56825 [00:19<00:03, 1630.53it/s]:  91%|██████████████████████████████████████▎   | 51782/56825 [00:19<00:03, 1430.23it/s]:  91%|██████████████████████████████████████▍   | 51930/56825 [00:19<00:03, 1257.89it/s]:  92%|██████████████████████████████████████▍   | 52062/56825 [00:19<00:03, 1244.12it/s]:  92%|██████████████████████████████████████▌   | 52191/56825 [00:19<00:03, 1216.69it/s]:  92%|██████████████████████████████████████▋   | 52317/56825 [00:19<00:03, 1227.57it/s]:  92%|██████████████████████████████████████▊   | 52470/56825 [00:20<00:03, 1306.37it/s]:  93%|██████████████████████████████████████▉   | 52622/56825 [00:20<00:03, 1361.68it/s]:  93%|███████████████████████████████████████   | 52776/56825 [00:20<00:02, 1410.64it/s]:  93%|███████████████████████████████████████▏  | 52946/56825 [00:20<00:02, 1491.56it/s]:  93%|███████████████████████████████████████▏  | 53097/56825 [00:20<00:02, 1495.03it/s]:  94%|███████████████████████████████████████▍  | 53277/56825 [00:20<00:02, 1583.27it/s]:  94%|███████████████████████████████████████▌  | 53450/56825 [00:20<00:02, 1626.43it/s]:  94%|███████████████████████████████████████▋  | 53633/56825 [00:20<00:01, 1684.33it/s]:  95%|███████████████████████████████████████▊  | 53819/56825 [00:20<00:01, 1736.55it/s]:  95%|███████████████████████████████████████▉  | 54008/56825 [00:20<00:01, 1780.71it/s]:  95%|████████████████████████████████████████  | 54187/56825 [00:21<00:01, 1780.52it/s]:  96%|████████████████████████████████████████▏ | 54374/56825 [00:21<00:01, 1803.60it/s]:  96%|████████████████████████████████████████▎ | 54555/56825 [00:21<00:01, 1704.78it/s]:  96%|████████████████████████████████████████▍ | 54727/56825 [00:21<00:01, 1679.06it/s]:  97%|████████████████████████████████████████▌ | 54896/56825 [00:21<00:01, 1535.25it/s]:  97%|████████████████████████████████████████▋ | 55066/56825 [00:21<00:01, 1579.68it/s]:  97%|████████████████████████████████████████▊ | 55244/56825 [00:21<00:00, 1633.81it/s]:  98%|████████████████████████████████████████▉ | 55410/56825 [00:21<00:00, 1602.40it/s]:  98%|█████████████████████████████████████████ | 55580/56825 [00:21<00:00, 1629.75it/s]:  98%|█████████████████████████████████████████▏| 55745/56825 [00:22<00:00, 1627.40it/s]:  98%|█████████████████████████████████████████▎| 55909/56825 [00:22<00:00, 1612.45it/s]:  99%|█████████████████████████████████████████▍| 56072/56825 [00:22<00:00, 1616.60it/s]:  99%|█████████████████████████████████████████▌| 56243/56825 [00:22<00:00, 1643.37it/s]:  99%|█████████████████████████████████████████▋| 56422/56825 [00:22<00:00, 1685.16it/s]: 100%|█████████████████████████████████████████▊| 56609/56825 [00:22<00:00, 1739.14it/s]: 100%|█████████████████████████████████████████▉| 56784/56825 [00:22<00:00, 1597.57it/s]: 100%|██████████████████████████████████████████| 56825/56825 [00:22<00:00, 2504.79it/s]\n",
      "21 Aug 17:15    INFO  The running environment of this training is as follows:\n",
      "+-------------+----------------+\n",
      "| Environment |     Usage      |\n",
      "+=============+================+\n",
      "| CPU         |     2.50 %     |\n",
      "+-------------+----------------+\n",
      "| GPU         |   0.0 / 0.0    |\n",
      "+-------------+----------------+\n",
      "| Memory      | 1.51 G/13.86 G |\n",
      "+-------------+----------------+\n",
      "21 Aug 17:15    INFO  best valid : OrderedDict([('recall@10', 0.0037), ('mrr@10', 0.0012), ('ndcg@10', 0.0018), ('hit@10', 0.0037), ('precision@10', 0.0004)])\n",
      "21 Aug 17:15    INFO  test result: OrderedDict([('recall@10', 0.003), ('mrr@10', 0.0011), ('ndcg@10', 0.0015), ('hit@10', 0.003), ('precision@10', 0.0003)])\n"
     ]
    },
    {
     "data": {
      "text/plain": [
       "{'best_valid_score': 0.0012,\n",
       " 'valid_score_bigger': True,\n",
       " 'best_valid_result': OrderedDict([('recall@10', 0.0037),\n",
       "              ('mrr@10', 0.0012),\n",
       "              ('ndcg@10', 0.0018),\n",
       "              ('hit@10', 0.0037),\n",
       "              ('precision@10', 0.0004)]),\n",
       " 'test_result': OrderedDict([('recall@10', 0.003),\n",
       "              ('mrr@10', 0.0011),\n",
       "              ('ndcg@10', 0.0015),\n",
       "              ('hit@10', 0.003),\n",
       "              ('precision@10', 0.0003)])}"
      ]
     },
     "execution_count": 6,
     "metadata": {},
     "output_type": "execute_result"
    }
   ],
   "source": [
    "from recbole.quick_start import run_recbole\n",
    "\n",
    "# Configuration for running BPR Model\n",
    "config_dict = {\n",
    "    'model': 'BPR',\n",
    "    'dataset': 'random_ml1m_structure_large',\n",
    "    'train_batch_size': 4096,\n",
    "    'eval_batch_size': 4096,\n",
    "    'epochs': 10,\n",
    "    'show_progress': True,\n",
    "    'metrics': ['Recall', 'MRR', 'NDCG', 'Hit', 'Precision'],\n",
    "    'valid_metric': 'MRR@10',\n",
    "}\n",
    "\n",
    "# Run the BPR model\n",
    "run_recbole(model='BPR', dataset='random_ml1m_structure_large', config_dict=config_dict)"
   ]
  },
  {
   "cell_type": "markdown",
   "metadata": {
    "id": "sdJq9OIK2x-o"
   },
   "source": [
    "Step 7: Show characteristics of the different datasets"
   ]
  },
  {
   "cell_type": "code",
   "execution_count": 8,
   "metadata": {
    "colab": {
     "base_uri": "https://localhost:8080/"
    },
    "id": "AHac4Of70m9I",
    "outputId": "6383afd0-215c-42af-c47c-e419a8297165"
   },
   "outputs": [
    {
     "name": "stdout",
     "output_type": "stream",
     "text": [
      "\n",
      "Custom (medical) Dataset Info:\n",
      "<class 'pandas.core.frame.DataFrame'>\n",
      "RangeIndex: 215063 entries, 0 to 215062\n",
      "Data columns (total 4 columns):\n",
      " #   Column           Non-Null Count   Dtype  \n",
      "---  ------           --------------   -----  \n",
      " 0   user_id:token    215063 non-null  int64  \n",
      " 1   item_id:token    215063 non-null  int64  \n",
      " 2   rating:float     215063 non-null  int64  \n",
      " 3   timestamp:float  215063 non-null  float64\n",
      "dtypes: float64(1), int64(3)\n",
      "memory usage: 6.6 MB\n",
      "None\n",
      "\n",
      "Custom (medical) Dataset Statistics:\n",
      "       user_id:token  item_id:token   rating:float  timestamp:float\n",
      "count  215063.000000  215063.000000  215063.000000     2.150630e+05\n",
      "mean   107531.000000    1829.467998       6.990008     1.402447e+09\n",
      "std     62083.484809    1008.687261       3.275554     8.530971e+07\n",
      "min         0.000000       0.000000       1.000000     1.203811e+09\n",
      "25%     53765.500000    1053.000000       5.000000     1.334189e+09\n",
      "50%    107531.000000    1877.000000       8.000000     1.433635e+09\n",
      "75%    161296.500000    2621.000000      10.000000     1.471565e+09\n",
      "max    215062.000000    3670.000000      10.000000     1.513037e+09\n",
      "\n",
      "Random ML1M Dataset Info:\n",
      "<class 'pandas.core.frame.DataFrame'>\n",
      "RangeIndex: 10000 entries, 0 to 9999\n",
      "Data columns (total 4 columns):\n",
      " #   Column           Non-Null Count  Dtype\n",
      "---  ------           --------------  -----\n",
      " 0   user_id:token    10000 non-null  int64\n",
      " 1   item_id:token    10000 non-null  int64\n",
      " 2   rating:float     10000 non-null  int64\n",
      " 3   timestamp:float  10000 non-null  int64\n",
      "dtypes: int64(4)\n",
      "memory usage: 312.6 KB\n",
      "None\n",
      "\n",
      "Random ML1M Dataset Statistics:\n",
      "       user_id:token  item_id:token  rating:float  timestamp:float\n",
      "count   10000.000000   10000.000000  10000.000000     1.000000e+04\n",
      "mean      504.470600     502.444800      2.978200     1.250715e+09\n",
      "std       289.724434     288.716909      1.413621     1.445517e+08\n",
      "min         1.000000       1.000000      1.000000     1.000040e+09\n",
      "25%       251.000000     253.000000      2.000000     1.124638e+09\n",
      "50%       506.500000     506.000000      3.000000     1.251769e+09\n",
      "75%       758.000000     754.000000      4.000000     1.376122e+09\n",
      "max      1000.000000    1000.000000      5.000000     1.499967e+09\n",
      "\n",
      "Large Random ML1M Dataset Info:\n",
      "<class 'pandas.core.frame.DataFrame'>\n",
      "RangeIndex: 215063 entries, 0 to 215062\n",
      "Data columns (total 4 columns):\n",
      " #   Column           Non-Null Count   Dtype\n",
      "---  ------           --------------   -----\n",
      " 0   user_id:token    215063 non-null  int64\n",
      " 1   item_id:token    215063 non-null  int64\n",
      " 2   rating:float     215063 non-null  int64\n",
      " 3   timestamp:float  215063 non-null  int64\n",
      "dtypes: int64(4)\n",
      "memory usage: 6.6 MB\n",
      "None\n",
      "\n",
      "Large Random ML1M Dataset Statistics:\n",
      "       user_id:token  item_id:token   rating:float  timestamp:float\n",
      "count  215063.000000  215063.000000  215063.000000     2.150630e+05\n",
      "mean   107322.245951    1835.969316       3.004259     1.249989e+09\n",
      "std     62106.763732    1057.994427       1.414766     1.443329e+08\n",
      "min         2.000000       1.000000       1.000000     1.000002e+09\n",
      "25%     53431.000000     922.000000       2.000000     1.125120e+09\n",
      "50%    107294.000000    1836.000000       3.000000     1.249908e+09\n",
      "75%    160863.500000    2753.000000       4.000000     1.374912e+09\n",
      "max    215063.000000    3670.000000       5.000000     1.499999e+09\n"
     ]
    }
   ],
   "source": [
    "import pandas as pd\n",
    "\n",
    "def load_and_describe_dataset(dataset_path, dataset_name):\n",
    "    # Load the dataset\n",
    "    df = pd.read_csv(dataset_path, sep='\\t')\n",
    "\n",
    "    # Print dataset info\n",
    "    print(f\"\\n{dataset_name} Info:\")\n",
    "    print(df.info())\n",
    "\n",
    "    # Print dataset statistics\n",
    "    print(f\"\\n{dataset_name} Statistics:\")\n",
    "    print(df.describe())\n",
    "\n",
    "# Define the paths for the datasets\n",
    "custom_path = 'dataset/custom/custom.inter'\n",
    "random_path = 'dataset/random_ml1m_structure/random_ml1m_structure.inter'\n",
    "large_random_path = 'dataset/random_ml1m_structure_large/random_ml1m_structure_large.inter'\n",
    "\n",
    "# Evaluate the datasets\n",
    "load_and_describe_dataset(custom_path, \"Custom (medical) Dataset\")\n",
    "load_and_describe_dataset(random_path, \"Random ML1M Dataset\")\n",
    "load_and_describe_dataset(large_random_path, \"Large Random ML1M Dataset\")"
   ]
  }
 ],
 "metadata": {
  "colab": {
   "provenance": []
  },
  "kernelspec": {
   "display_name": "Python 3 (ipykernel)",
   "language": "python",
   "name": "python3"
  },
  "language_info": {
   "codemirror_mode": {
    "name": "ipython",
    "version": 3
   },
   "file_extension": ".py",
   "mimetype": "text/x-python",
   "name": "python",
   "nbconvert_exporter": "python",
   "pygments_lexer": "ipython3",
   "version": "3.10.6"
  }
 },
 "nbformat": 4,
 "nbformat_minor": 1
}
