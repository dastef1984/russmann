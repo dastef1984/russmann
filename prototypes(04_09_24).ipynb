{
  "nbformat": 4,
  "nbformat_minor": 0,
  "metadata": {
    "colab": {
      "provenance": []
    },
    "kernelspec": {
      "name": "python3",
      "display_name": "Python 3"
    },
    "language_info": {
      "name": "python"
    }
  },
  "cells": [
    {
      "cell_type": "code",
      "execution_count": 1,
      "metadata": {
        "colab": {
          "base_uri": "https://localhost:8080/"
        },
        "id": "7TsDSb-8lV1Z",
        "outputId": "83efea20-ecc0-4ac7-e2da-673858904e3c"
      },
      "outputs": [
        {
          "output_type": "stream",
          "name": "stdout",
          "text": [
            "Collecting recbole\n",
            "  Downloading recbole-1.2.0-py3-none-any.whl.metadata (1.4 kB)\n",
            "Requirement already satisfied: torch>=1.10.0 in /usr/local/lib/python3.10/dist-packages (from recbole) (2.4.0+cu121)\n",
            "Requirement already satisfied: numpy>=1.17.2 in /usr/local/lib/python3.10/dist-packages (from recbole) (1.26.4)\n",
            "Requirement already satisfied: scipy>=1.6.0 in /usr/local/lib/python3.10/dist-packages (from recbole) (1.13.1)\n",
            "Requirement already satisfied: pandas>=1.4.0 in /usr/local/lib/python3.10/dist-packages (from recbole) (2.1.4)\n",
            "Requirement already satisfied: tqdm>=4.48.2 in /usr/local/lib/python3.10/dist-packages (from recbole) (4.66.5)\n",
            "Collecting colorlog==4.7.2 (from recbole)\n",
            "  Downloading colorlog-4.7.2-py2.py3-none-any.whl.metadata (9.9 kB)\n",
            "Collecting colorama==0.4.4 (from recbole)\n",
            "  Downloading colorama-0.4.4-py2.py3-none-any.whl.metadata (14 kB)\n",
            "Requirement already satisfied: scikit-learn>=0.23.2 in /usr/local/lib/python3.10/dist-packages (from recbole) (1.3.2)\n",
            "Requirement already satisfied: pyyaml>=5.1.0 in /usr/local/lib/python3.10/dist-packages (from recbole) (6.0.2)\n",
            "Requirement already satisfied: tensorboard>=2.5.0 in /usr/local/lib/python3.10/dist-packages (from recbole) (2.17.0)\n",
            "Collecting thop>=0.1.1.post2207130030 (from recbole)\n",
            "  Downloading thop-0.1.1.post2209072238-py3-none-any.whl.metadata (2.7 kB)\n",
            "Requirement already satisfied: tabulate>=0.8.10 in /usr/local/lib/python3.10/dist-packages (from recbole) (0.9.0)\n",
            "Requirement already satisfied: plotly>=4.0.0 in /usr/local/lib/python3.10/dist-packages (from recbole) (5.15.0)\n",
            "Collecting texttable>=0.9.0 (from recbole)\n",
            "  Downloading texttable-1.7.0-py2.py3-none-any.whl.metadata (9.8 kB)\n",
            "Requirement already satisfied: python-dateutil>=2.8.2 in /usr/local/lib/python3.10/dist-packages (from pandas>=1.4.0->recbole) (2.8.2)\n",
            "Requirement already satisfied: pytz>=2020.1 in /usr/local/lib/python3.10/dist-packages (from pandas>=1.4.0->recbole) (2024.1)\n",
            "Requirement already satisfied: tzdata>=2022.1 in /usr/local/lib/python3.10/dist-packages (from pandas>=1.4.0->recbole) (2024.1)\n",
            "Requirement already satisfied: tenacity>=6.2.0 in /usr/local/lib/python3.10/dist-packages (from plotly>=4.0.0->recbole) (9.0.0)\n",
            "Requirement already satisfied: packaging in /usr/local/lib/python3.10/dist-packages (from plotly>=4.0.0->recbole) (24.1)\n",
            "Requirement already satisfied: joblib>=1.1.1 in /usr/local/lib/python3.10/dist-packages (from scikit-learn>=0.23.2->recbole) (1.4.2)\n",
            "Requirement already satisfied: threadpoolctl>=2.0.0 in /usr/local/lib/python3.10/dist-packages (from scikit-learn>=0.23.2->recbole) (3.5.0)\n",
            "Requirement already satisfied: absl-py>=0.4 in /usr/local/lib/python3.10/dist-packages (from tensorboard>=2.5.0->recbole) (1.4.0)\n",
            "Requirement already satisfied: grpcio>=1.48.2 in /usr/local/lib/python3.10/dist-packages (from tensorboard>=2.5.0->recbole) (1.64.1)\n",
            "Requirement already satisfied: markdown>=2.6.8 in /usr/local/lib/python3.10/dist-packages (from tensorboard>=2.5.0->recbole) (3.7)\n",
            "Requirement already satisfied: protobuf!=4.24.0,<5.0.0,>=3.19.6 in /usr/local/lib/python3.10/dist-packages (from tensorboard>=2.5.0->recbole) (3.20.3)\n",
            "Requirement already satisfied: setuptools>=41.0.0 in /usr/local/lib/python3.10/dist-packages (from tensorboard>=2.5.0->recbole) (71.0.4)\n",
            "Requirement already satisfied: six>1.9 in /usr/local/lib/python3.10/dist-packages (from tensorboard>=2.5.0->recbole) (1.16.0)\n",
            "Requirement already satisfied: tensorboard-data-server<0.8.0,>=0.7.0 in /usr/local/lib/python3.10/dist-packages (from tensorboard>=2.5.0->recbole) (0.7.2)\n",
            "Requirement already satisfied: werkzeug>=1.0.1 in /usr/local/lib/python3.10/dist-packages (from tensorboard>=2.5.0->recbole) (3.0.4)\n",
            "Requirement already satisfied: filelock in /usr/local/lib/python3.10/dist-packages (from torch>=1.10.0->recbole) (3.15.4)\n",
            "Requirement already satisfied: typing-extensions>=4.8.0 in /usr/local/lib/python3.10/dist-packages (from torch>=1.10.0->recbole) (4.12.2)\n",
            "Requirement already satisfied: sympy in /usr/local/lib/python3.10/dist-packages (from torch>=1.10.0->recbole) (1.13.2)\n",
            "Requirement already satisfied: networkx in /usr/local/lib/python3.10/dist-packages (from torch>=1.10.0->recbole) (3.3)\n",
            "Requirement already satisfied: jinja2 in /usr/local/lib/python3.10/dist-packages (from torch>=1.10.0->recbole) (3.1.4)\n",
            "Requirement already satisfied: fsspec in /usr/local/lib/python3.10/dist-packages (from torch>=1.10.0->recbole) (2024.6.1)\n",
            "Requirement already satisfied: MarkupSafe>=2.1.1 in /usr/local/lib/python3.10/dist-packages (from werkzeug>=1.0.1->tensorboard>=2.5.0->recbole) (2.1.5)\n",
            "Requirement already satisfied: mpmath<1.4,>=1.1.0 in /usr/local/lib/python3.10/dist-packages (from sympy->torch>=1.10.0->recbole) (1.3.0)\n",
            "Downloading recbole-1.2.0-py3-none-any.whl (2.1 MB)\n",
            "\u001b[2K   \u001b[90m━━━━━━━━━━━━━━━━━━━━━━━━━━━━━━━━━━━━━━━━\u001b[0m \u001b[32m2.1/2.1 MB\u001b[0m \u001b[31m19.5 MB/s\u001b[0m eta \u001b[36m0:00:00\u001b[0m\n",
            "\u001b[?25hDownloading colorama-0.4.4-py2.py3-none-any.whl (16 kB)\n",
            "Downloading colorlog-4.7.2-py2.py3-none-any.whl (10 kB)\n",
            "Downloading texttable-1.7.0-py2.py3-none-any.whl (10 kB)\n",
            "Downloading thop-0.1.1.post2209072238-py3-none-any.whl (15 kB)\n",
            "Installing collected packages: texttable, colorlog, colorama, thop, recbole\n",
            "Successfully installed colorama-0.4.4 colorlog-4.7.2 recbole-1.2.0 texttable-1.7.0 thop-0.1.1.post2209072238\n",
            "Collecting ray\n",
            "  Downloading ray-2.35.0-cp310-cp310-manylinux2014_x86_64.whl.metadata (16 kB)\n",
            "Requirement already satisfied: click>=7.0 in /usr/local/lib/python3.10/dist-packages (from ray) (8.1.7)\n",
            "Requirement already satisfied: filelock in /usr/local/lib/python3.10/dist-packages (from ray) (3.15.4)\n",
            "Requirement already satisfied: jsonschema in /usr/local/lib/python3.10/dist-packages (from ray) (4.23.0)\n",
            "Requirement already satisfied: msgpack<2.0.0,>=1.0.0 in /usr/local/lib/python3.10/dist-packages (from ray) (1.0.8)\n",
            "Requirement already satisfied: packaging in /usr/local/lib/python3.10/dist-packages (from ray) (24.1)\n",
            "Requirement already satisfied: protobuf!=3.19.5,>=3.15.3 in /usr/local/lib/python3.10/dist-packages (from ray) (3.20.3)\n",
            "Requirement already satisfied: pyyaml in /usr/local/lib/python3.10/dist-packages (from ray) (6.0.2)\n",
            "Requirement already satisfied: aiosignal in /usr/local/lib/python3.10/dist-packages (from ray) (1.3.1)\n",
            "Requirement already satisfied: frozenlist in /usr/local/lib/python3.10/dist-packages (from ray) (1.4.1)\n",
            "Requirement already satisfied: requests in /usr/local/lib/python3.10/dist-packages (from ray) (2.32.3)\n",
            "Requirement already satisfied: attrs>=22.2.0 in /usr/local/lib/python3.10/dist-packages (from jsonschema->ray) (24.2.0)\n",
            "Requirement already satisfied: jsonschema-specifications>=2023.03.6 in /usr/local/lib/python3.10/dist-packages (from jsonschema->ray) (2023.12.1)\n",
            "Requirement already satisfied: referencing>=0.28.4 in /usr/local/lib/python3.10/dist-packages (from jsonschema->ray) (0.35.1)\n",
            "Requirement already satisfied: rpds-py>=0.7.1 in /usr/local/lib/python3.10/dist-packages (from jsonschema->ray) (0.20.0)\n",
            "Requirement already satisfied: charset-normalizer<4,>=2 in /usr/local/lib/python3.10/dist-packages (from requests->ray) (3.3.2)\n",
            "Requirement already satisfied: idna<4,>=2.5 in /usr/local/lib/python3.10/dist-packages (from requests->ray) (3.8)\n",
            "Requirement already satisfied: urllib3<3,>=1.21.1 in /usr/local/lib/python3.10/dist-packages (from requests->ray) (2.0.7)\n",
            "Requirement already satisfied: certifi>=2017.4.17 in /usr/local/lib/python3.10/dist-packages (from requests->ray) (2024.7.4)\n",
            "Downloading ray-2.35.0-cp310-cp310-manylinux2014_x86_64.whl (65.0 MB)\n",
            "\u001b[2K   \u001b[90m━━━━━━━━━━━━━━━━━━━━━━━━━━━━━━━━━━━━━━━━\u001b[0m \u001b[32m65.0/65.0 MB\u001b[0m \u001b[31m8.8 MB/s\u001b[0m eta \u001b[36m0:00:00\u001b[0m\n",
            "\u001b[?25hInstalling collected packages: ray\n",
            "Successfully installed ray-2.35.0\n",
            "Collecting kmeans-pytorch\n",
            "  Downloading kmeans_pytorch-0.3-py3-none-any.whl.metadata (1.6 kB)\n",
            "Downloading kmeans_pytorch-0.3-py3-none-any.whl (4.4 kB)\n",
            "Installing collected packages: kmeans-pytorch\n",
            "Successfully installed kmeans-pytorch-0.3\n"
          ]
        }
      ],
      "source": [
        "!pip install recbole\n",
        "!pip install ray\n",
        "!pip install kmeans-pytorch"
      ]
    },
    {
      "cell_type": "markdown",
      "source": [
        "#Data preprocessing"
      ],
      "metadata": {
        "id": "SPbo6FeB-_ga"
      }
    },
    {
      "cell_type": "code",
      "source": [
        "import os\n",
        "import pandas as pd\n",
        "\n",
        "# Load the dataset\n",
        "file_path = 'ratings_Musical_Instruments.csv'\n",
        "df = pd.read_csv(file_path, header=None)\n",
        "\n",
        "# Rename columns to match RecBole's format\n",
        "df.columns = ['user_id:token', 'item_id:token', 'rating:float', 'timestamp:float']\n",
        "\n",
        "# Create the directory structure\n",
        "dataset_name = 'musical_instruments'\n",
        "output_dir = f'dataset/{dataset_name}'\n",
        "os.makedirs(output_dir, exist_ok=True)\n",
        "\n",
        "# Save the interaction file\n",
        "output_file_inter = f'{output_dir}/{dataset_name}.inter'\n",
        "df[['user_id:token', 'item_id:token', 'rating:float']].to_csv(output_file_inter, index=False, sep='\\t')\n",
        "\n",
        "# Create and save the user file\n",
        "user_df = pd.DataFrame(df['user_id:token'].unique(), columns=['user_id:token'])\n",
        "output_file_user = f'{output_dir}/{dataset_name}.user'\n",
        "user_df.to_csv(output_file_user, index=False, sep='\\t')\n",
        "\n",
        "# Create and save the item file\n",
        "item_df = pd.DataFrame(df['item_id:token'].unique(), columns=['item_id:token'])\n",
        "output_file_item = f'{output_dir}/{dataset_name}.item'\n",
        "item_df.to_csv(output_file_item, index=False, sep='\\t')\n",
        "\n",
        "# Print out the first few rows of each file for verification\n",
        "print(\"First few rows of the interaction file:\")\n",
        "print(pd.read_csv(output_file_inter, sep='\\t').head())\n",
        "\n",
        "print(\"First few rows of the user file:\")\n",
        "print(pd.read_csv(output_file_user, sep='\\t').head())\n",
        "\n",
        "print(\"First few rows of the item file:\")\n",
        "print(pd.read_csv(output_file_item, sep='\\t').head())"
      ],
      "metadata": {
        "colab": {
          "base_uri": "https://localhost:8080/"
        },
        "id": "0rlIz03vl9ou",
        "outputId": "919ddd25-d268-451b-e44b-9f7512233036"
      },
      "execution_count": 3,
      "outputs": [
        {
          "output_type": "stream",
          "name": "stdout",
          "text": [
            "First few rows of the interaction file:\n",
            "    user_id:token item_id:token  rating:float\n",
            "0  A1YS9MDZP93857    0006428320           3.0\n",
            "1  A3TS466QBAWB9D    0014072149           5.0\n",
            "2  A3BUDYITWUSIS7    0041291905           5.0\n",
            "3  A19K10Z0D2NTZK    0041913574           5.0\n",
            "4  A14X336IB4JD89    0201891859           1.0\n",
            "First few rows of the user file:\n",
            "    user_id:token\n",
            "0  A1YS9MDZP93857\n",
            "1  A3TS466QBAWB9D\n",
            "2  A3BUDYITWUSIS7\n",
            "3  A19K10Z0D2NTZK\n",
            "4  A14X336IB4JD89\n",
            "First few rows of the item file:\n",
            "  item_id:token\n",
            "0    0006428320\n",
            "1    0014072149\n",
            "2    0041291905\n",
            "3    0041913574\n",
            "4    0201891859\n"
          ]
        }
      ]
    },
    {
      "cell_type": "markdown",
      "source": [
        "#1) Research Questions Focused on Accuracy and Popularity\n",
        "\n",
        "##1.1) How do different recommendation algorithms (e.g., BPR, ItemKNN) compare in terms of traditional accuracy metrics like Precision, Recall, and NDCG?\n",
        "\n",
        "Testable Metrics: Precision, Recall, Hit, MRR, NDCG\n",
        "\n",
        "Approach: Train and evaluate models using these algorithms on your datasets and compare the performance using these accuracy metrics."
      ],
      "metadata": {
        "id": "9302gCPO_a3p"
      }
    },
    {
      "cell_type": "code",
      "source": [
        "from recbole.quick_start import run_recbole\n",
        "\n",
        "# List of models to train and evaluate\n",
        "models = ['BPR', 'ItemKNN', 'Pop']\n",
        "\n",
        "# Iterate over the models and train/evaluate each one\n",
        "for model in models:\n",
        "    print(f\"\\nTraining and evaluating model: {model}\")\n",
        "\n",
        "    # Specify the configuration for training and evaluation\n",
        "    config_dict = {\n",
        "        'model': model,  # Use the current model\n",
        "        'dataset': 'musical_instruments',  # Dataset name\n",
        "        'data_path': 'dataset/',  # Path to the dataset folder\n",
        "        'epochs': 1,  # Number of training epochs\n",
        "        'topk': 10,  # Top-K items for evaluation\n",
        "        'metrics': ['Precision', 'Recall', 'NDCG', 'Hit', 'MRR'],  # Metrics to evaluate\n",
        "    }\n",
        "\n",
        "    # Run the RecBole training and evaluation pipeline\n",
        "    result = run_recbole(config_dict=config_dict)\n",
        "\n",
        "    # Print the evaluation results for this model\n",
        "    print(f\"\\nEvaluation results for {model}:\")\n",
        "    print(result)"
      ],
      "metadata": {
        "colab": {
          "base_uri": "https://localhost:8080/"
        },
        "id": "R-zOpJEXm_dA",
        "outputId": "3092375b-bb6b-4fca-dac4-69e5a46552aa"
      },
      "execution_count": 4,
      "outputs": [
        {
          "output_type": "stream",
          "name": "stderr",
          "text": [
            "WARNING:root:command line args [-f /root/.local/share/jupyter/runtime/kernel-5a6497b6-b52a-408b-b67b-d8aec7110cb2.json] will not be used in RecBole\n"
          ]
        },
        {
          "output_type": "stream",
          "name": "stdout",
          "text": [
            "\n",
            "Training and evaluating model: BPR\n"
          ]
        },
        {
          "output_type": "stream",
          "name": "stderr",
          "text": [
            "WARNING:root:In inter_feat, line [25779], item_id do not exist, so they will be removed.\n",
            "Train     0:   0%|                                                           | 0/12 [00:00<?, ?it/s]/usr/local/lib/python3.10/dist-packages/recbole/trainer/trainer.py:235: FutureWarning: `torch.cuda.amp.GradScaler(args...)` is deprecated. Please use `torch.amp.GradScaler('cuda', args...)` instead.\n",
            "  scaler = amp.GradScaler(enabled=self.enable_scaler)\n",
            "Train     0: 100%|██████████████████████████████████████████████████| 12/12 [00:00<00:00, 27.31it/s]\n",
            "Evaluate   : 100%|██████████████████████████████████████████████| 441/441 [00:00<00:00, 1091.49it/s]\n",
            "/usr/local/lib/python3.10/dist-packages/recbole/trainer/trainer.py:583: FutureWarning: You are using `torch.load` with `weights_only=False` (the current default value), which uses the default pickle module implicitly. It is possible to construct malicious pickle data which will execute arbitrary code during unpickling (See https://github.com/pytorch/pytorch/blob/main/SECURITY.md#untrusted-models for more details). In a future release, the default value for `weights_only` will be flipped to `True`. This limits the functions that could be executed during unpickling. Arbitrary objects will no longer be allowed to be loaded via this mode unless they are explicitly allowlisted by the user via `torch.serialization.add_safe_globals`. We recommend you start setting `weights_only=True` for any use case where you don't have full control of the loaded file. Please open an issue on GitHub for any issues related to this experimental feature.\n",
            "  checkpoint = torch.load(checkpoint_file, map_location=self.device)\n",
            "Evaluate   : 100%|████████████████████████████████████████████| 1362/1362 [00:01<00:00, 1308.97it/s]\n"
          ]
        },
        {
          "output_type": "stream",
          "name": "stdout",
          "text": [
            "\n",
            "Evaluation results for BPR:\n",
            "{'best_valid_score': 0.0007, 'valid_score_bigger': True, 'best_valid_result': OrderedDict([('precision@10', 0.0005), ('recall@10', 0.0045), ('ndcg@10', 0.0016), ('hit@10', 0.0045), ('mrr@10', 0.0007)]), 'test_result': OrderedDict([('precision@10', 0.0001), ('recall@10', 0.0001), ('ndcg@10', 0.0001), ('hit@10', 0.0007), ('mrr@10', 0.0002)])}\n",
            "\n",
            "Training and evaluating model: ItemKNN\n"
          ]
        },
        {
          "output_type": "stream",
          "name": "stderr",
          "text": [
            "WARNING:root:command line args [-f /root/.local/share/jupyter/runtime/kernel-5a6497b6-b52a-408b-b67b-d8aec7110cb2.json] will not be used in RecBole\n",
            "WARNING:root:In inter_feat, line [25779], item_id do not exist, so they will be removed.\n",
            "Train     0:   0%|                                                           | 0/24 [00:00<?, ?it/s]/usr/local/lib/python3.10/dist-packages/recbole/trainer/trainer.py:235: FutureWarning: `torch.cuda.amp.GradScaler(args...)` is deprecated. Please use `torch.amp.GradScaler('cuda', args...)` instead.\n",
            "  scaler = amp.GradScaler(enabled=self.enable_scaler)\n",
            "Train     0: 100%|█████████████████████████████████████████████████| 24/24 [00:00<00:00, 212.82it/s]\n",
            "Evaluate   : 100%|███████████████████████████████████████████████| 441/441 [00:00<00:00, 881.02it/s]\n",
            "/usr/local/lib/python3.10/dist-packages/recbole/trainer/trainer.py:583: FutureWarning: You are using `torch.load` with `weights_only=False` (the current default value), which uses the default pickle module implicitly. It is possible to construct malicious pickle data which will execute arbitrary code during unpickling (See https://github.com/pytorch/pytorch/blob/main/SECURITY.md#untrusted-models for more details). In a future release, the default value for `weights_only` will be flipped to `True`. This limits the functions that could be executed during unpickling. Arbitrary objects will no longer be allowed to be loaded via this mode unless they are explicitly allowlisted by the user via `torch.serialization.add_safe_globals`. We recommend you start setting `weights_only=True` for any use case where you don't have full control of the loaded file. Please open an issue on GitHub for any issues related to this experimental feature.\n",
            "  checkpoint = torch.load(checkpoint_file, map_location=self.device)\n",
            "Evaluate   : 100%|█████████████████████████████████████████████| 1362/1362 [00:01<00:00, 883.42it/s]\n"
          ]
        },
        {
          "output_type": "stream",
          "name": "stdout",
          "text": [
            "\n",
            "Evaluation results for ItemKNN:\n",
            "{'best_valid_score': 0.0053, 'valid_score_bigger': True, 'best_valid_result': OrderedDict([('precision@10', 0.0016), ('recall@10', 0.0147), ('ndcg@10', 0.0074), ('hit@10', 0.0159), ('mrr@10', 0.0053)]), 'test_result': OrderedDict([('precision@10', 0.002), ('recall@10', 0.0188), ('ndcg@10', 0.01), ('hit@10', 0.0198), ('mrr@10', 0.0074)])}\n",
            "\n",
            "Training and evaluating model: Pop\n"
          ]
        },
        {
          "output_type": "stream",
          "name": "stderr",
          "text": [
            "WARNING:root:command line args [-f /root/.local/share/jupyter/runtime/kernel-5a6497b6-b52a-408b-b67b-d8aec7110cb2.json] will not be used in RecBole\n",
            "WARNING:root:In inter_feat, line [25779], item_id do not exist, so they will be removed.\n",
            "Train     0:   0%|                                                           | 0/24 [00:00<?, ?it/s]/usr/local/lib/python3.10/dist-packages/recbole/trainer/trainer.py:235: FutureWarning: `torch.cuda.amp.GradScaler(args...)` is deprecated. Please use `torch.amp.GradScaler('cuda', args...)` instead.\n",
            "  scaler = amp.GradScaler(enabled=self.enable_scaler)\n",
            "Train     0: 100%|█████████████████████████████████████████████████| 24/24 [00:00<00:00, 373.38it/s]\n",
            "Evaluate   : 100%|██████████████████████████████████████████████| 441/441 [00:00<00:00, 1812.71it/s]\n",
            "/usr/local/lib/python3.10/dist-packages/recbole/trainer/trainer.py:583: FutureWarning: You are using `torch.load` with `weights_only=False` (the current default value), which uses the default pickle module implicitly. It is possible to construct malicious pickle data which will execute arbitrary code during unpickling (See https://github.com/pytorch/pytorch/blob/main/SECURITY.md#untrusted-models for more details). In a future release, the default value for `weights_only` will be flipped to `True`. This limits the functions that could be executed during unpickling. Arbitrary objects will no longer be allowed to be loaded via this mode unless they are explicitly allowlisted by the user via `torch.serialization.add_safe_globals`. We recommend you start setting `weights_only=True` for any use case where you don't have full control of the loaded file. Please open an issue on GitHub for any issues related to this experimental feature.\n",
            "  checkpoint = torch.load(checkpoint_file, map_location=self.device)\n",
            "Evaluate   : 100%|████████████████████████████████████████████| 1362/1362 [00:00<00:00, 1618.16it/s]\n"
          ]
        },
        {
          "output_type": "stream",
          "name": "stdout",
          "text": [
            "\n",
            "Evaluation results for Pop:\n",
            "{'best_valid_score': 0.0091, 'valid_score_bigger': True, 'best_valid_result': OrderedDict([('precision@10', 0.0023), ('recall@10', 0.0227), ('ndcg@10', 0.0121), ('hit@10', 0.0227), ('mrr@10', 0.0091)]), 'test_result': OrderedDict([('precision@10', 0.0048), ('recall@10', 0.0477), ('ndcg@10', 0.0238), ('hit@10', 0.0477), ('mrr@10', 0.017)])}\n"
          ]
        }
      ]
    },
    {
      "cell_type": "markdown",
      "source": [
        "##1.1) Results\n",
        "\n",
        "This evaluation answers the research question by clearly showing how each algorithm performs on traditional accuracy metrics. In this case:\n",
        "\n",
        "- **Pop** dominates in most accuracy metrics, implying that recommending popular items works well for the \"Musical Instruments\" dataset.\n",
        "- **ItemKNN** shows a reasonable balance between accuracy metrics, indicating that similarity-based approaches can offer a balance between personalized and popular recommendations.\n",
        "- **BPR** performs the worst, suggesting that its personalized pairwise ranking strategy may not capture the relationships needed to improve accuracy in this dataset.\n",
        "\n",
        "These results provide insight into how different recommendation algorithms behave on the dataset and how effective they are in terms of traditional accuracy.\n"
      ],
      "metadata": {
        "id": "qHP2dLEmBjkf"
      }
    },
    {
      "cell_type": "markdown",
      "source": [
        "##1.2) What is the relationship between accuracy metrics and the popularity bias in recommendations?\n",
        "\n",
        "Testable Metrics: AveragePopularity, NDCG\n",
        "\n",
        "Approach: Analyze the extent to which algorithms favor popular items (measured by AveragePopularity) and how this correlates with their performance on accuracy metrics like NDCG."
      ],
      "metadata": {
        "id": "g3_aeBNI_YjB"
      }
    },
    {
      "cell_type": "code",
      "source": [
        "# List of models to train and evaluate\n",
        "models = ['BPR', 'ItemKNN', 'Pop']\n",
        "\n",
        "# Iterate over the models and train/evaluate each one\n",
        "for model in models:\n",
        "    print(f\"\\nTraining and evaluating model: {model}\")\n",
        "\n",
        "    # Specify the configuration for training and evaluation\n",
        "    config_dict = {\n",
        "        'model': model,  # Use the current model\n",
        "        'dataset': 'musical_instruments',  # Dataset name\n",
        "        'data_path': 'dataset/',  # Path to the dataset folder\n",
        "        'epochs': 1,  # Number of training epochs\n",
        "        'topk': 10,  # Top-K items for evaluation\n",
        "        'metrics': ['NDCG', 'AveragePopularity', 'MRR'],  # Metrics to evaluate\n",
        "    }\n",
        "\n",
        "    # Run the RecBole training and evaluation pipeline\n",
        "    result = run_recbole(config_dict=config_dict)\n",
        "\n",
        "    # Print the evaluation results for this model\n",
        "    print(f\"\\nEvaluation results for {model}:\")\n",
        "    print(result)"
      ],
      "metadata": {
        "colab": {
          "base_uri": "https://localhost:8080/"
        },
        "id": "08wOSSNJAHkn",
        "outputId": "8a73a37b-7fce-41fe-e549-54a0e2dbc307"
      },
      "execution_count": 5,
      "outputs": [
        {
          "output_type": "stream",
          "name": "stdout",
          "text": [
            "\n",
            "Training and evaluating model: BPR\n"
          ]
        },
        {
          "output_type": "stream",
          "name": "stderr",
          "text": [
            "WARNING:root:command line args [-f /root/.local/share/jupyter/runtime/kernel-5a6497b6-b52a-408b-b67b-d8aec7110cb2.json] will not be used in RecBole\n",
            "WARNING:root:In inter_feat, line [25779], item_id do not exist, so they will be removed.\n",
            "Train     0:   0%|                                                           | 0/12 [00:00<?, ?it/s]/usr/local/lib/python3.10/dist-packages/recbole/trainer/trainer.py:235: FutureWarning: `torch.cuda.amp.GradScaler(args...)` is deprecated. Please use `torch.amp.GradScaler('cuda', args...)` instead.\n",
            "  scaler = amp.GradScaler(enabled=self.enable_scaler)\n",
            "Train     0: 100%|██████████████████████████████████████████████████| 12/12 [00:00<00:00, 21.47it/s]\n",
            "Evaluate   : 100%|███████████████████████████████████████████████| 441/441 [00:00<00:00, 497.99it/s]\n",
            "/usr/local/lib/python3.10/dist-packages/recbole/trainer/trainer.py:583: FutureWarning: You are using `torch.load` with `weights_only=False` (the current default value), which uses the default pickle module implicitly. It is possible to construct malicious pickle data which will execute arbitrary code during unpickling (See https://github.com/pytorch/pytorch/blob/main/SECURITY.md#untrusted-models for more details). In a future release, the default value for `weights_only` will be flipped to `True`. This limits the functions that could be executed during unpickling. Arbitrary objects will no longer be allowed to be loaded via this mode unless they are explicitly allowlisted by the user via `torch.serialization.add_safe_globals`. We recommend you start setting `weights_only=True` for any use case where you don't have full control of the loaded file. Please open an issue on GitHub for any issues related to this experimental feature.\n",
            "  checkpoint = torch.load(checkpoint_file, map_location=self.device)\n",
            "Evaluate   : 100%|█████████████████████████████████████████████| 1362/1362 [00:02<00:00, 454.87it/s]\n"
          ]
        },
        {
          "output_type": "stream",
          "name": "stdout",
          "text": [
            "\n",
            "Evaluation results for BPR:\n",
            "{'best_valid_score': 0.0007, 'valid_score_bigger': True, 'best_valid_result': OrderedDict([('ndcg@10', 0.0016), ('averagepopularity@10', 4.1658), ('mrr@10', 0.0007)]), 'test_result': OrderedDict([('ndcg@10', 0.0001), ('averagepopularity@10', 4.1314), ('mrr@10', 0.0002)])}\n",
            "\n",
            "Training and evaluating model: ItemKNN\n"
          ]
        },
        {
          "output_type": "stream",
          "name": "stderr",
          "text": [
            "WARNING:root:command line args [-f /root/.local/share/jupyter/runtime/kernel-5a6497b6-b52a-408b-b67b-d8aec7110cb2.json] will not be used in RecBole\n",
            "WARNING:root:In inter_feat, line [25779], item_id do not exist, so they will be removed.\n",
            "Train     0:   0%|                                                           | 0/24 [00:00<?, ?it/s]/usr/local/lib/python3.10/dist-packages/recbole/trainer/trainer.py:235: FutureWarning: `torch.cuda.amp.GradScaler(args...)` is deprecated. Please use `torch.amp.GradScaler('cuda', args...)` instead.\n",
            "  scaler = amp.GradScaler(enabled=self.enable_scaler)\n",
            "Train     0: 100%|█████████████████████████████████████████████████| 24/24 [00:00<00:00, 291.91it/s]\n",
            "Evaluate   : 100%|███████████████████████████████████████████████| 441/441 [00:00<00:00, 776.88it/s]\n",
            "/usr/local/lib/python3.10/dist-packages/recbole/trainer/trainer.py:583: FutureWarning: You are using `torch.load` with `weights_only=False` (the current default value), which uses the default pickle module implicitly. It is possible to construct malicious pickle data which will execute arbitrary code during unpickling (See https://github.com/pytorch/pytorch/blob/main/SECURITY.md#untrusted-models for more details). In a future release, the default value for `weights_only` will be flipped to `True`. This limits the functions that could be executed during unpickling. Arbitrary objects will no longer be allowed to be loaded via this mode unless they are explicitly allowlisted by the user via `torch.serialization.add_safe_globals`. We recommend you start setting `weights_only=True` for any use case where you don't have full control of the loaded file. Please open an issue on GitHub for any issues related to this experimental feature.\n",
            "  checkpoint = torch.load(checkpoint_file, map_location=self.device)\n",
            "Evaluate   : 100%|█████████████████████████████████████████████| 1362/1362 [00:01<00:00, 789.15it/s]\n"
          ]
        },
        {
          "output_type": "stream",
          "name": "stdout",
          "text": [
            "\n",
            "Evaluation results for ItemKNN:\n",
            "{'best_valid_score': 0.0053, 'valid_score_bigger': True, 'best_valid_result': OrderedDict([('ndcg@10', 0.0074), ('averagepopularity@10', 4.0812), ('mrr@10', 0.0053)]), 'test_result': OrderedDict([('ndcg@10', 0.01), ('averagepopularity@10', 5.1952), ('mrr@10', 0.0074)])}\n",
            "\n",
            "Training and evaluating model: Pop\n"
          ]
        },
        {
          "output_type": "stream",
          "name": "stderr",
          "text": [
            "WARNING:root:command line args [-f /root/.local/share/jupyter/runtime/kernel-5a6497b6-b52a-408b-b67b-d8aec7110cb2.json] will not be used in RecBole\n",
            "WARNING:root:In inter_feat, line [25779], item_id do not exist, so they will be removed.\n",
            "Train     0:   0%|                                                           | 0/24 [00:00<?, ?it/s]/usr/local/lib/python3.10/dist-packages/recbole/trainer/trainer.py:235: FutureWarning: `torch.cuda.amp.GradScaler(args...)` is deprecated. Please use `torch.amp.GradScaler('cuda', args...)` instead.\n",
            "  scaler = amp.GradScaler(enabled=self.enable_scaler)\n",
            "Train     0: 100%|█████████████████████████████████████████████████| 24/24 [00:00<00:00, 359.84it/s]\n",
            "Evaluate   : 100%|██████████████████████████████████████████████| 441/441 [00:00<00:00, 1319.80it/s]\n",
            "/usr/local/lib/python3.10/dist-packages/recbole/trainer/trainer.py:583: FutureWarning: You are using `torch.load` with `weights_only=False` (the current default value), which uses the default pickle module implicitly. It is possible to construct malicious pickle data which will execute arbitrary code during unpickling (See https://github.com/pytorch/pytorch/blob/main/SECURITY.md#untrusted-models for more details). In a future release, the default value for `weights_only` will be flipped to `True`. This limits the functions that could be executed during unpickling. Arbitrary objects will no longer be allowed to be loaded via this mode unless they are explicitly allowlisted by the user via `torch.serialization.add_safe_globals`. We recommend you start setting `weights_only=True` for any use case where you don't have full control of the loaded file. Please open an issue on GitHub for any issues related to this experimental feature.\n",
            "  checkpoint = torch.load(checkpoint_file, map_location=self.device)\n",
            "Evaluate   : 100%|████████████████████████████████████████████| 1362/1362 [00:01<00:00, 1335.89it/s]\n"
          ]
        },
        {
          "output_type": "stream",
          "name": "stdout",
          "text": [
            "\n",
            "Evaluation results for Pop:\n",
            "{'best_valid_score': 0.0091, 'valid_score_bigger': True, 'best_valid_result': OrderedDict([('ndcg@10', 0.0121), ('averagepopularity@10', 312.6991), ('mrr@10', 0.0091)]), 'test_result': OrderedDict([('ndcg@10', 0.0238), ('averagepopularity@10', 312.253), ('mrr@10', 0.017)])}\n"
          ]
        }
      ]
    },
    {
      "cell_type": "markdown",
      "source": [
        "##1.2) Results\n",
        "\n",
        "This evaluation addresses the research question by showing how algorithms balance accuracy (measured by NDCG) and popularity bias (measured by AveragePopularity). Here's the interpretation of the results:\n",
        "\n",
        "- **Pop** exhibits the highest **AveragePopularity** score, indicating a strong bias towards recommending popular items. However, it also achieves the highest NDCG, showing that recommending popular items can improve accuracy but may limit diversity.\n",
        "- **ItemKNN** has a more moderate **AveragePopularity** score, suggesting it balances popular and less popular items in recommendations. Its NDCG score is also reasonable, meaning it maintains accuracy while reducing some popularity bias.\n",
        "- **BPR** has the lowest **AveragePopularity**, implying it tends to recommend less popular items. However, this comes at the cost of accuracy, as seen by its lower NDCG score.\n",
        "\n",
        "These results show the trade-off between recommending popular items and maintaining accuracy. As algorithms reduce popularity bias (lower AveragePopularity), they tend to sacrifice some accuracy (NDCG).\n",
        "\n",
        "This illustrates the relationship between accuracy and popularity bias, highlighting how different algorithms prioritize one over the other.\n"
      ],
      "metadata": {
        "id": "dU0ZZHg3EEeX"
      }
    },
    {
      "cell_type": "markdown",
      "source": [
        "#2) Research Questions Focused on Diversity and Coverage\n",
        "##2.1)How do recommendation algorithms balance item diversity and coverage while maintaining accuracy?\n",
        "Testable Metrics: GiniIndex, ItemCoverage, ShannonEntropy, TailPercentage, NDCG\n",
        "\n",
        "Approach: Measure the diversity (GiniIndex, ShannonEntropy) and coverage (ItemCoverage, TailPercentage) of recommendations and compare them against accuracy metrics (e.g., NDCG) to understand the tradeoffs.\n"
      ],
      "metadata": {
        "id": "_JR9oysMCbi7"
      }
    },
    {
      "cell_type": "code",
      "source": [
        "# List of models to train and evaluate\n",
        "models = ['BPR', 'ItemKNN', 'Pop']\n",
        "\n",
        "# Iterate over the models and train/evaluate each one\n",
        "for model in models:\n",
        "    print(f\"\\nTraining and evaluating model: {model}\")\n",
        "\n",
        "    # Specify the configuration for training and evaluation\n",
        "    config_dict = {\n",
        "        'model': model,  # Use the current model\n",
        "        'dataset': 'musical_instruments',  # Dataset name\n",
        "        'data_path': 'dataset/',  # Path to the dataset folder\n",
        "        'epochs': 1,  # Number of training epochs\n",
        "        'topk': 10,  # Top-K items for evaluation\n",
        "        'metrics': ['NDCG', 'GiniIndex', 'ShannonEntropy', 'ItemCoverage', 'TailPercentage', 'MRR'],  # Metrics to evaluate\n",
        "    }\n",
        "\n",
        "    # Run the RecBole training and evaluation pipeline\n",
        "    result = run_recbole(config_dict=config_dict)\n",
        "\n",
        "    # Print the evaluation results for this model\n",
        "    print(f\"\\nEvaluation results for {model}:\")\n",
        "    print(result)"
      ],
      "metadata": {
        "colab": {
          "base_uri": "https://localhost:8080/"
        },
        "id": "5kne87BQC_bb",
        "outputId": "8aeca562-6d67-4bbb-b92a-24c9af74e9b6"
      },
      "execution_count": 6,
      "outputs": [
        {
          "output_type": "stream",
          "name": "stdout",
          "text": [
            "\n",
            "Training and evaluating model: BPR\n"
          ]
        },
        {
          "output_type": "stream",
          "name": "stderr",
          "text": [
            "WARNING:root:command line args [-f /root/.local/share/jupyter/runtime/kernel-5a6497b6-b52a-408b-b67b-d8aec7110cb2.json] will not be used in RecBole\n",
            "WARNING:root:In inter_feat, line [25779], item_id do not exist, so they will be removed.\n",
            "Train     0:   0%|                                                           | 0/12 [00:00<?, ?it/s]/usr/local/lib/python3.10/dist-packages/recbole/trainer/trainer.py:235: FutureWarning: `torch.cuda.amp.GradScaler(args...)` is deprecated. Please use `torch.amp.GradScaler('cuda', args...)` instead.\n",
            "  scaler = amp.GradScaler(enabled=self.enable_scaler)\n",
            "Train     0: 100%|██████████████████████████████████████████████████| 12/12 [00:00<00:00, 19.24it/s]\n",
            "Evaluate   : 100%|███████████████████████████████████████████████| 441/441 [00:00<00:00, 991.65it/s]\n",
            "/usr/local/lib/python3.10/dist-packages/recbole/trainer/trainer.py:583: FutureWarning: You are using `torch.load` with `weights_only=False` (the current default value), which uses the default pickle module implicitly. It is possible to construct malicious pickle data which will execute arbitrary code during unpickling (See https://github.com/pytorch/pytorch/blob/main/SECURITY.md#untrusted-models for more details). In a future release, the default value for `weights_only` will be flipped to `True`. This limits the functions that could be executed during unpickling. Arbitrary objects will no longer be allowed to be loaded via this mode unless they are explicitly allowlisted by the user via `torch.serialization.add_safe_globals`. We recommend you start setting `weights_only=True` for any use case where you don't have full control of the loaded file. Please open an issue on GitHub for any issues related to this experimental feature.\n",
            "  checkpoint = torch.load(checkpoint_file, map_location=self.device)\n",
            "Evaluate   : 100%|████████████████████████████████████████████| 1362/1362 [00:01<00:00, 1011.17it/s]\n"
          ]
        },
        {
          "output_type": "stream",
          "name": "stdout",
          "text": [
            "\n",
            "Evaluation results for BPR:\n",
            "{'best_valid_score': 0.0007, 'valid_score_bigger': True, 'best_valid_result': OrderedDict([('ndcg@10', 0.0016), ('giniindex@10', 0.6626), ('shannonentropy@10', 0.003), ('itemcoverage@10', 0.476), ('tailpercentage@10', 0.0946), ('mrr@10', 0.0007)]), 'test_result': OrderedDict([('ndcg@10', 0.0001), ('giniindex@10', 0.5315), ('shannonentropy@10', 0.0019), ('itemcoverage@10', 0.7765), ('tailpercentage@10', 0.0925), ('mrr@10', 0.0002)])}\n",
            "\n",
            "Training and evaluating model: ItemKNN\n"
          ]
        },
        {
          "output_type": "stream",
          "name": "stderr",
          "text": [
            "WARNING:root:command line args [-f /root/.local/share/jupyter/runtime/kernel-5a6497b6-b52a-408b-b67b-d8aec7110cb2.json] will not be used in RecBole\n",
            "WARNING:root:In inter_feat, line [25779], item_id do not exist, so they will be removed.\n",
            "Train     0:   0%|                                                           | 0/24 [00:00<?, ?it/s]/usr/local/lib/python3.10/dist-packages/recbole/trainer/trainer.py:235: FutureWarning: `torch.cuda.amp.GradScaler(args...)` is deprecated. Please use `torch.amp.GradScaler('cuda', args...)` instead.\n",
            "  scaler = amp.GradScaler(enabled=self.enable_scaler)\n",
            "Train     0: 100%|█████████████████████████████████████████████████| 24/24 [00:00<00:00, 410.43it/s]\n",
            "Evaluate   : 100%|██████████████████████████████████████████████| 441/441 [00:00<00:00, 1212.29it/s]\n",
            "/usr/local/lib/python3.10/dist-packages/recbole/trainer/trainer.py:583: FutureWarning: You are using `torch.load` with `weights_only=False` (the current default value), which uses the default pickle module implicitly. It is possible to construct malicious pickle data which will execute arbitrary code during unpickling (See https://github.com/pytorch/pytorch/blob/main/SECURITY.md#untrusted-models for more details). In a future release, the default value for `weights_only` will be flipped to `True`. This limits the functions that could be executed during unpickling. Arbitrary objects will no longer be allowed to be loaded via this mode unless they are explicitly allowlisted by the user via `torch.serialization.add_safe_globals`. We recommend you start setting `weights_only=True` for any use case where you don't have full control of the loaded file. Please open an issue on GitHub for any issues related to this experimental feature.\n",
            "  checkpoint = torch.load(checkpoint_file, map_location=self.device)\n",
            "Evaluate   : 100%|████████████████████████████████████████████| 1362/1362 [00:01<00:00, 1227.01it/s]\n"
          ]
        },
        {
          "output_type": "stream",
          "name": "stdout",
          "text": [
            "\n",
            "Evaluation results for ItemKNN:\n",
            "{'best_valid_score': 0.0053, 'valid_score_bigger': True, 'best_valid_result': OrderedDict([('ndcg@10', 0.0074), ('giniindex@10', 0.9741), ('shannonentropy@10', 0.0081), ('itemcoverage@10', 0.1042), ('tailpercentage@10', 0.488), ('mrr@10', 0.0053)]), 'test_result': OrderedDict([('ndcg@10', 0.01), ('giniindex@10', 0.9822), ('shannonentropy@10', 0.0057), ('itemcoverage@10', 0.1287), ('tailpercentage@10', 0.5518), ('mrr@10', 0.0074)])}\n",
            "\n",
            "Training and evaluating model: Pop\n"
          ]
        },
        {
          "output_type": "stream",
          "name": "stderr",
          "text": [
            "WARNING:root:command line args [-f /root/.local/share/jupyter/runtime/kernel-5a6497b6-b52a-408b-b67b-d8aec7110cb2.json] will not be used in RecBole\n",
            "WARNING:root:In inter_feat, line [25779], item_id do not exist, so they will be removed.\n",
            "Train     0:   0%|                                                           | 0/24 [00:00<?, ?it/s]/usr/local/lib/python3.10/dist-packages/recbole/trainer/trainer.py:235: FutureWarning: `torch.cuda.amp.GradScaler(args...)` is deprecated. Please use `torch.amp.GradScaler('cuda', args...)` instead.\n",
            "  scaler = amp.GradScaler(enabled=self.enable_scaler)\n",
            "Train     0: 100%|█████████████████████████████████████████████████| 24/24 [00:00<00:00, 346.78it/s]\n",
            "Evaluate   : 100%|██████████████████████████████████████████████| 441/441 [00:00<00:00, 1561.81it/s]\n",
            "/usr/local/lib/python3.10/dist-packages/recbole/trainer/trainer.py:583: FutureWarning: You are using `torch.load` with `weights_only=False` (the current default value), which uses the default pickle module implicitly. It is possible to construct malicious pickle data which will execute arbitrary code during unpickling (See https://github.com/pytorch/pytorch/blob/main/SECURITY.md#untrusted-models for more details). In a future release, the default value for `weights_only` will be flipped to `True`. This limits the functions that could be executed during unpickling. Arbitrary objects will no longer be allowed to be loaded via this mode unless they are explicitly allowlisted by the user via `torch.serialization.add_safe_globals`. We recommend you start setting `weights_only=True` for any use case where you don't have full control of the loaded file. Please open an issue on GitHub for any issues related to this experimental feature.\n",
            "  checkpoint = torch.load(checkpoint_file, map_location=self.device)\n",
            "Evaluate   : 100%|████████████████████████████████████████████| 1362/1362 [00:01<00:00, 1128.33it/s]\n"
          ]
        },
        {
          "output_type": "stream",
          "name": "stdout",
          "text": [
            "\n",
            "Evaluation results for Pop:\n",
            "{'best_valid_score': 0.0091, 'valid_score_bigger': True, 'best_valid_result': OrderedDict([('ndcg@10', 0.0121), ('giniindex@10', 0.9981), ('shannonentropy@10', 0.1937), ('itemcoverage@10', 0.0022), ('tailpercentage@10', 0.0), ('mrr@10', 0.0091)]), 'test_result': OrderedDict([('ndcg@10', 0.0238), ('giniindex@10', 0.9981), ('shannonentropy@10', 0.1941), ('itemcoverage@10', 0.0022), ('tailpercentage@10', 0.0), ('mrr@10', 0.017)])}\n"
          ]
        }
      ]
    },
    {
      "cell_type": "markdown",
      "source": [
        "##2.1) Results\n",
        "\n",
        "These results show that there is a trade-off between diversity (GiniIndex, ShannonEntropy) and accuracy (NDCG). Pop focuses on popular items with high accuracy but lacks diversity, while ItemKNN provides a better balance between diversity and accuracy. BPR spreads recommendations across more items but sacrifices accuracy."
      ],
      "metadata": {
        "id": "N8txo8XfEUoT"
      }
    },
    {
      "cell_type": "markdown",
      "source": [
        "#3) Increasing Diversity to Reduce Popularity Bias\n",
        "##**Research Question:** Can increasing the diversity of recommendations reduce the popularity bias, and how does this impact overall accuracy?\n",
        "\n",
        "Testable Metrics: AveragePopularity, GiniIndex, ShannonEntropy, NDCG\n",
        "\n",
        "Approach: Use RecBole to train models like BPR, ItemKNN, and Pop on your dataset.\n",
        "Evaluate the models using the specified metrics to see how diversity (GiniIndex, ShannonEntropy) affects the recommendation of popular items (AveragePopularity) and the accuracy (NDCG)."
      ],
      "metadata": {
        "id": "6EPoT71uGs7R"
      }
    },
    {
      "cell_type": "code",
      "source": [
        "# List of models to train and evaluate\n",
        "models = ['BPR', 'ItemKNN', 'Pop']\n",
        "# Metrics to evaluate for each research question\n",
        "metrics_list = [\n",
        "    ['AveragePopularity', 'GiniIndex', 'ShannonEntropy', 'NDCG', 'MRR'],  # For diversity and popularity bias\n",
        "]\n",
        "\n",
        "# Iterate over the models and metrics\n",
        "for i, metrics in enumerate(metrics_list, start=1):\n",
        "    print(f\"\\nResearch Question {i}: Evaluating with metrics: {metrics}\")\n",
        "\n",
        "    for model in models:\n",
        "        print(f\"\\nTraining and evaluating model: {model}\")\n",
        "\n",
        "        config_dict = {\n",
        "            'model': model,\n",
        "            'dataset': dataset_name,\n",
        "            'data_path': 'dataset/',\n",
        "            'epochs': 1,\n",
        "            'topk': 10,\n",
        "            'metrics': metrics,\n",
        "        }\n",
        "\n",
        "        result = run_recbole(config_dict=config_dict)\n",
        "        print(f\"\\nEvaluation results for {model} on Research Question {i}:\")\n",
        "        print(result)"
      ],
      "metadata": {
        "colab": {
          "base_uri": "https://localhost:8080/"
        },
        "id": "CnQHyczDG9CK",
        "outputId": "d43e0258-7174-4a0a-af08-d9391a4d728f"
      },
      "execution_count": 7,
      "outputs": [
        {
          "output_type": "stream",
          "name": "stdout",
          "text": [
            "\n",
            "Research Question 1: Evaluating with metrics: ['AveragePopularity', 'GiniIndex', 'ShannonEntropy', 'NDCG', 'MRR']\n",
            "\n",
            "Training and evaluating model: BPR\n"
          ]
        },
        {
          "output_type": "stream",
          "name": "stderr",
          "text": [
            "WARNING:root:command line args [-f /root/.local/share/jupyter/runtime/kernel-5a6497b6-b52a-408b-b67b-d8aec7110cb2.json] will not be used in RecBole\n",
            "WARNING:root:In inter_feat, line [25779], item_id do not exist, so they will be removed.\n",
            "Train     0:   0%|                                                           | 0/12 [00:00<?, ?it/s]/usr/local/lib/python3.10/dist-packages/recbole/trainer/trainer.py:235: FutureWarning: `torch.cuda.amp.GradScaler(args...)` is deprecated. Please use `torch.amp.GradScaler('cuda', args...)` instead.\n",
            "  scaler = amp.GradScaler(enabled=self.enable_scaler)\n",
            "Train     0: 100%|██████████████████████████████████████████████████| 12/12 [00:00<00:00, 27.34it/s]\n",
            "Evaluate   : 100%|██████████████████████████████████████████████| 441/441 [00:00<00:00, 1003.79it/s]\n",
            "/usr/local/lib/python3.10/dist-packages/recbole/trainer/trainer.py:583: FutureWarning: You are using `torch.load` with `weights_only=False` (the current default value), which uses the default pickle module implicitly. It is possible to construct malicious pickle data which will execute arbitrary code during unpickling (See https://github.com/pytorch/pytorch/blob/main/SECURITY.md#untrusted-models for more details). In a future release, the default value for `weights_only` will be flipped to `True`. This limits the functions that could be executed during unpickling. Arbitrary objects will no longer be allowed to be loaded via this mode unless they are explicitly allowlisted by the user via `torch.serialization.add_safe_globals`. We recommend you start setting `weights_only=True` for any use case where you don't have full control of the loaded file. Please open an issue on GitHub for any issues related to this experimental feature.\n",
            "  checkpoint = torch.load(checkpoint_file, map_location=self.device)\n",
            "Evaluate   : 100%|█████████████████████████████████████████████| 1362/1362 [00:01<00:00, 952.88it/s]\n"
          ]
        },
        {
          "output_type": "stream",
          "name": "stdout",
          "text": [
            "\n",
            "Evaluation results for BPR on Research Question 1:\n",
            "{'best_valid_score': 0.0007, 'valid_score_bigger': True, 'best_valid_result': OrderedDict([('averagepopularity@10', 4.1658), ('giniindex@10', 0.6626), ('shannonentropy@10', 0.003), ('ndcg@10', 0.0016), ('mrr@10', 0.0007)]), 'test_result': OrderedDict([('averagepopularity@10', 4.1314), ('giniindex@10', 0.5315), ('shannonentropy@10', 0.0019), ('ndcg@10', 0.0001), ('mrr@10', 0.0002)])}\n",
            "\n",
            "Training and evaluating model: ItemKNN\n"
          ]
        },
        {
          "output_type": "stream",
          "name": "stderr",
          "text": [
            "WARNING:root:command line args [-f /root/.local/share/jupyter/runtime/kernel-5a6497b6-b52a-408b-b67b-d8aec7110cb2.json] will not be used in RecBole\n",
            "WARNING:root:In inter_feat, line [25779], item_id do not exist, so they will be removed.\n",
            "Train     0:   0%|                                                           | 0/24 [00:00<?, ?it/s]/usr/local/lib/python3.10/dist-packages/recbole/trainer/trainer.py:235: FutureWarning: `torch.cuda.amp.GradScaler(args...)` is deprecated. Please use `torch.amp.GradScaler('cuda', args...)` instead.\n",
            "  scaler = amp.GradScaler(enabled=self.enable_scaler)\n",
            "Train     0: 100%|█████████████████████████████████████████████████| 24/24 [00:00<00:00, 192.44it/s]\n",
            "Evaluate   : 100%|███████████████████████████████████████████████| 441/441 [00:00<00:00, 825.71it/s]\n",
            "/usr/local/lib/python3.10/dist-packages/recbole/trainer/trainer.py:583: FutureWarning: You are using `torch.load` with `weights_only=False` (the current default value), which uses the default pickle module implicitly. It is possible to construct malicious pickle data which will execute arbitrary code during unpickling (See https://github.com/pytorch/pytorch/blob/main/SECURITY.md#untrusted-models for more details). In a future release, the default value for `weights_only` will be flipped to `True`. This limits the functions that could be executed during unpickling. Arbitrary objects will no longer be allowed to be loaded via this mode unless they are explicitly allowlisted by the user via `torch.serialization.add_safe_globals`. We recommend you start setting `weights_only=True` for any use case where you don't have full control of the loaded file. Please open an issue on GitHub for any issues related to this experimental feature.\n",
            "  checkpoint = torch.load(checkpoint_file, map_location=self.device)\n",
            "Evaluate   : 100%|█████████████████████████████████████████████| 1362/1362 [00:01<00:00, 780.20it/s]\n"
          ]
        },
        {
          "output_type": "stream",
          "name": "stdout",
          "text": [
            "\n",
            "Evaluation results for ItemKNN on Research Question 1:\n",
            "{'best_valid_score': 0.0053, 'valid_score_bigger': True, 'best_valid_result': OrderedDict([('averagepopularity@10', 4.0812), ('giniindex@10', 0.9741), ('shannonentropy@10', 0.0081), ('ndcg@10', 0.0074), ('mrr@10', 0.0053)]), 'test_result': OrderedDict([('averagepopularity@10', 5.1952), ('giniindex@10', 0.9822), ('shannonentropy@10', 0.0057), ('ndcg@10', 0.01), ('mrr@10', 0.0074)])}\n",
            "\n",
            "Training and evaluating model: Pop\n"
          ]
        },
        {
          "output_type": "stream",
          "name": "stderr",
          "text": [
            "WARNING:root:command line args [-f /root/.local/share/jupyter/runtime/kernel-5a6497b6-b52a-408b-b67b-d8aec7110cb2.json] will not be used in RecBole\n",
            "WARNING:root:In inter_feat, line [25779], item_id do not exist, so they will be removed.\n",
            "Train     0:   0%|                                                           | 0/24 [00:00<?, ?it/s]/usr/local/lib/python3.10/dist-packages/recbole/trainer/trainer.py:235: FutureWarning: `torch.cuda.amp.GradScaler(args...)` is deprecated. Please use `torch.amp.GradScaler('cuda', args...)` instead.\n",
            "  scaler = amp.GradScaler(enabled=self.enable_scaler)\n",
            "Train     0: 100%|█████████████████████████████████████████████████| 24/24 [00:00<00:00, 368.49it/s]\n",
            "Evaluate   : 100%|██████████████████████████████████████████████| 441/441 [00:00<00:00, 1376.15it/s]\n",
            "/usr/local/lib/python3.10/dist-packages/recbole/trainer/trainer.py:583: FutureWarning: You are using `torch.load` with `weights_only=False` (the current default value), which uses the default pickle module implicitly. It is possible to construct malicious pickle data which will execute arbitrary code during unpickling (See https://github.com/pytorch/pytorch/blob/main/SECURITY.md#untrusted-models for more details). In a future release, the default value for `weights_only` will be flipped to `True`. This limits the functions that could be executed during unpickling. Arbitrary objects will no longer be allowed to be loaded via this mode unless they are explicitly allowlisted by the user via `torch.serialization.add_safe_globals`. We recommend you start setting `weights_only=True` for any use case where you don't have full control of the loaded file. Please open an issue on GitHub for any issues related to this experimental feature.\n",
            "  checkpoint = torch.load(checkpoint_file, map_location=self.device)\n",
            "Evaluate   : 100%|████████████████████████████████████████████| 1362/1362 [00:01<00:00, 1272.74it/s]\n"
          ]
        },
        {
          "output_type": "stream",
          "name": "stdout",
          "text": [
            "\n",
            "Evaluation results for Pop on Research Question 1:\n",
            "{'best_valid_score': 0.0091, 'valid_score_bigger': True, 'best_valid_result': OrderedDict([('averagepopularity@10', 312.6991), ('giniindex@10', 0.9981), ('shannonentropy@10', 0.1937), ('ndcg@10', 0.0121), ('mrr@10', 0.0091)]), 'test_result': OrderedDict([('averagepopularity@10', 312.253), ('giniindex@10', 0.9981), ('shannonentropy@10', 0.1941), ('ndcg@10', 0.0238), ('mrr@10', 0.017)])}\n"
          ]
        }
      ]
    },
    {
      "cell_type": "markdown",
      "source": [
        "##3) Results\n",
        "\n",
        "This evaluation answers the research question by showing how diversity metrics like GiniIndex and ShannonEntropy influence popularity bias (measured by AveragePopularity) and accuracy (measured by NDCG).\n",
        "\n",
        "**BPR**:\n",
        "\n",
        "- Balances diversity and popularity with moderate GiniIndex and ShannonEntropy scores but has lower accuracy (NDCG).\n",
        "- The popularity of recommended items is relatively low, meaning it provides a more diverse set of recommendations.\n",
        "\n",
        "**ItemKNN**:\n",
        "\n",
        "- Has higher GiniIndex and ShannonEntropy than BPR, but also a higher AveragePopularity, indicating that while it increases diversity, it still leans towards recommending popular items.\n",
        "- Accuracy (NDCG) improves slightly over BPR, showing a better tradeoff between diversity and accuracy.\n",
        "\n",
        "**Pop**:\n",
        "\n",
        "- As expected, it heavily favors popular items (very high AveragePopularity), with minimal diversity (GiniIndex and ShannonEntropy).\n",
        "- This results in the highest accuracy (NDCG), but at the cost of very low diversity in recommendations.\n",
        "\n",
        "In summary, increasing diversity in algorithms like BPR reduces the popularity bias but comes with a tradeoff in accuracy, while ItemKNN offers a middle ground. Pop sacrifices diversity entirely for higher accuracy.\n"
      ],
      "metadata": {
        "id": "z06EXUiXIvvB"
      }
    },
    {
      "cell_type": "markdown",
      "source": [
        "#4) Tradeoff Between Diversity and Accuracy\n",
        "## **Research Question:** Is there a measurable tradeoff between recommending diverse items and maintaining high recommendation accuracy?\n",
        "\n",
        "Testable Metrics: Precision, Recall, NDCG, GiniIndex, ShannonEntropy\n",
        "Approach:\n",
        "Compare the results of models optimized for accuracy (like BPR or ItemKNN) against those optimized for diversity (Pop might naturally show higher diversity due to its simplistic approach).\n",
        "Run your models and evaluate the metrics to see if boosting diversity (high GiniIndex, ShannonEntropy) leads to a drop in accuracy (Precision, Recall, NDCG)."
      ],
      "metadata": {
        "id": "w1j40EJFJq3k"
      }
    },
    {
      "cell_type": "code",
      "source": [
        "# List of models to train and evaluate\n",
        "models = ['BPR', 'ItemKNN', 'Pop']\n",
        "\n",
        "# Metrics to evaluate for each research question\n",
        "metrics_list = [\n",
        "    ['Precision', 'Recall', 'NDCG', 'GiniIndex', 'ShannonEntropy', 'MRR'],  # For diversity and accuracy tradeoff\n",
        "]\n",
        "\n",
        "# Iterate over the models and metrics\n",
        "for i, metrics in enumerate(metrics_list, start=1):\n",
        "    print(f\"\\nResearch Question {i}: Evaluating with metrics: {metrics}\")\n",
        "\n",
        "    for model in models:\n",
        "        print(f\"\\nTraining and evaluating model: {model}\")\n",
        "\n",
        "        config_dict = {\n",
        "            'model': model,\n",
        "            'dataset': dataset_name,\n",
        "            'data_path': 'dataset/',\n",
        "            'epochs': 1,\n",
        "            'topk': 10,\n",
        "            'metrics': metrics,\n",
        "        }\n",
        "\n",
        "        result = run_recbole(config_dict=config_dict)\n",
        "        print(f\"\\nEvaluation results for {model} on Research Question {i}:\")\n",
        "        print(result)"
      ],
      "metadata": {
        "colab": {
          "base_uri": "https://localhost:8080/"
        },
        "id": "3fRMwVx1Jq-k",
        "outputId": "41bdbc7e-f2da-431c-f10c-0fa64e7d1538"
      },
      "execution_count": 8,
      "outputs": [
        {
          "output_type": "stream",
          "name": "stdout",
          "text": [
            "\n",
            "Research Question 1: Evaluating with metrics: ['Precision', 'Recall', 'NDCG', 'GiniIndex', 'ShannonEntropy', 'MRR']\n",
            "\n",
            "Training and evaluating model: BPR\n"
          ]
        },
        {
          "output_type": "stream",
          "name": "stderr",
          "text": [
            "WARNING:root:command line args [-f /root/.local/share/jupyter/runtime/kernel-5a6497b6-b52a-408b-b67b-d8aec7110cb2.json] will not be used in RecBole\n",
            "WARNING:root:In inter_feat, line [25779], item_id do not exist, so they will be removed.\n",
            "Train     0:   0%|                                                           | 0/12 [00:00<?, ?it/s]/usr/local/lib/python3.10/dist-packages/recbole/trainer/trainer.py:235: FutureWarning: `torch.cuda.amp.GradScaler(args...)` is deprecated. Please use `torch.amp.GradScaler('cuda', args...)` instead.\n",
            "  scaler = amp.GradScaler(enabled=self.enable_scaler)\n",
            "Train     0: 100%|██████████████████████████████████████████████████| 12/12 [00:00<00:00, 25.34it/s]\n",
            "Evaluate   : 100%|██████████████████████████████████████████████| 441/441 [00:00<00:00, 1082.15it/s]\n",
            "/usr/local/lib/python3.10/dist-packages/recbole/trainer/trainer.py:583: FutureWarning: You are using `torch.load` with `weights_only=False` (the current default value), which uses the default pickle module implicitly. It is possible to construct malicious pickle data which will execute arbitrary code during unpickling (See https://github.com/pytorch/pytorch/blob/main/SECURITY.md#untrusted-models for more details). In a future release, the default value for `weights_only` will be flipped to `True`. This limits the functions that could be executed during unpickling. Arbitrary objects will no longer be allowed to be loaded via this mode unless they are explicitly allowlisted by the user via `torch.serialization.add_safe_globals`. We recommend you start setting `weights_only=True` for any use case where you don't have full control of the loaded file. Please open an issue on GitHub for any issues related to this experimental feature.\n",
            "  checkpoint = torch.load(checkpoint_file, map_location=self.device)\n",
            "Evaluate   : 100%|█████████████████████████████████████████████| 1362/1362 [00:01<00:00, 945.70it/s]\n"
          ]
        },
        {
          "output_type": "stream",
          "name": "stdout",
          "text": [
            "\n",
            "Evaluation results for BPR on Research Question 1:\n",
            "{'best_valid_score': 0.0007, 'valid_score_bigger': True, 'best_valid_result': OrderedDict([('precision@10', 0.0005), ('recall@10', 0.0045), ('ndcg@10', 0.0016), ('giniindex@10', 0.6626), ('shannonentropy@10', 0.003), ('mrr@10', 0.0007)]), 'test_result': OrderedDict([('precision@10', 0.0001), ('recall@10', 0.0001), ('ndcg@10', 0.0001), ('giniindex@10', 0.5315), ('shannonentropy@10', 0.0019), ('mrr@10', 0.0002)])}\n",
            "\n",
            "Training and evaluating model: ItemKNN\n"
          ]
        },
        {
          "output_type": "stream",
          "name": "stderr",
          "text": [
            "WARNING:root:command line args [-f /root/.local/share/jupyter/runtime/kernel-5a6497b6-b52a-408b-b67b-d8aec7110cb2.json] will not be used in RecBole\n",
            "WARNING:root:In inter_feat, line [25779], item_id do not exist, so they will be removed.\n",
            "Train     0:   0%|                                                           | 0/24 [00:00<?, ?it/s]/usr/local/lib/python3.10/dist-packages/recbole/trainer/trainer.py:235: FutureWarning: `torch.cuda.amp.GradScaler(args...)` is deprecated. Please use `torch.amp.GradScaler('cuda', args...)` instead.\n",
            "  scaler = amp.GradScaler(enabled=self.enable_scaler)\n",
            "Train     0: 100%|█████████████████████████████████████████████████| 24/24 [00:00<00:00, 168.51it/s]\n",
            "Evaluate   : 100%|███████████████████████████████████████████████| 441/441 [00:00<00:00, 703.74it/s]\n",
            "/usr/local/lib/python3.10/dist-packages/recbole/trainer/trainer.py:583: FutureWarning: You are using `torch.load` with `weights_only=False` (the current default value), which uses the default pickle module implicitly. It is possible to construct malicious pickle data which will execute arbitrary code during unpickling (See https://github.com/pytorch/pytorch/blob/main/SECURITY.md#untrusted-models for more details). In a future release, the default value for `weights_only` will be flipped to `True`. This limits the functions that could be executed during unpickling. Arbitrary objects will no longer be allowed to be loaded via this mode unless they are explicitly allowlisted by the user via `torch.serialization.add_safe_globals`. We recommend you start setting `weights_only=True` for any use case where you don't have full control of the loaded file. Please open an issue on GitHub for any issues related to this experimental feature.\n",
            "  checkpoint = torch.load(checkpoint_file, map_location=self.device)\n",
            "Evaluate   : 100%|█████████████████████████████████████████████| 1362/1362 [00:01<00:00, 722.03it/s]\n"
          ]
        },
        {
          "output_type": "stream",
          "name": "stdout",
          "text": [
            "\n",
            "Evaluation results for ItemKNN on Research Question 1:\n",
            "{'best_valid_score': 0.0053, 'valid_score_bigger': True, 'best_valid_result': OrderedDict([('precision@10', 0.0016), ('recall@10', 0.0147), ('ndcg@10', 0.0074), ('giniindex@10', 0.9741), ('shannonentropy@10', 0.0081), ('mrr@10', 0.0053)]), 'test_result': OrderedDict([('precision@10', 0.002), ('recall@10', 0.0188), ('ndcg@10', 0.01), ('giniindex@10', 0.9822), ('shannonentropy@10', 0.0057), ('mrr@10', 0.0074)])}\n",
            "\n",
            "Training and evaluating model: Pop\n"
          ]
        },
        {
          "output_type": "stream",
          "name": "stderr",
          "text": [
            "WARNING:root:command line args [-f /root/.local/share/jupyter/runtime/kernel-5a6497b6-b52a-408b-b67b-d8aec7110cb2.json] will not be used in RecBole\n",
            "WARNING:root:In inter_feat, line [25779], item_id do not exist, so they will be removed.\n",
            "Train     0:   0%|                                                           | 0/24 [00:00<?, ?it/s]/usr/local/lib/python3.10/dist-packages/recbole/trainer/trainer.py:235: FutureWarning: `torch.cuda.amp.GradScaler(args...)` is deprecated. Please use `torch.amp.GradScaler('cuda', args...)` instead.\n",
            "  scaler = amp.GradScaler(enabled=self.enable_scaler)\n",
            "Train     0: 100%|█████████████████████████████████████████████████| 24/24 [00:00<00:00, 377.44it/s]\n",
            "Evaluate   : 100%|██████████████████████████████████████████████| 441/441 [00:00<00:00, 1384.08it/s]\n",
            "/usr/local/lib/python3.10/dist-packages/recbole/trainer/trainer.py:583: FutureWarning: You are using `torch.load` with `weights_only=False` (the current default value), which uses the default pickle module implicitly. It is possible to construct malicious pickle data which will execute arbitrary code during unpickling (See https://github.com/pytorch/pytorch/blob/main/SECURITY.md#untrusted-models for more details). In a future release, the default value for `weights_only` will be flipped to `True`. This limits the functions that could be executed during unpickling. Arbitrary objects will no longer be allowed to be loaded via this mode unless they are explicitly allowlisted by the user via `torch.serialization.add_safe_globals`. We recommend you start setting `weights_only=True` for any use case where you don't have full control of the loaded file. Please open an issue on GitHub for any issues related to this experimental feature.\n",
            "  checkpoint = torch.load(checkpoint_file, map_location=self.device)\n",
            "Evaluate   : 100%|████████████████████████████████████████████| 1362/1362 [00:01<00:00, 1143.13it/s]\n"
          ]
        },
        {
          "output_type": "stream",
          "name": "stdout",
          "text": [
            "\n",
            "Evaluation results for Pop on Research Question 1:\n",
            "{'best_valid_score': 0.0091, 'valid_score_bigger': True, 'best_valid_result': OrderedDict([('precision@10', 0.0023), ('recall@10', 0.0227), ('ndcg@10', 0.0121), ('giniindex@10', 0.9981), ('shannonentropy@10', 0.1937), ('mrr@10', 0.0091)]), 'test_result': OrderedDict([('precision@10', 0.0048), ('recall@10', 0.0477), ('ndcg@10', 0.0238), ('giniindex@10', 0.9981), ('shannonentropy@10', 0.1941), ('mrr@10', 0.017)])}\n"
          ]
        }
      ]
    },
    {
      "cell_type": "markdown",
      "source": [
        "##4) Results\n",
        "\n",
        "This evaluation answers the research question by highlighting the tradeoff between recommending diverse items and maintaining high accuracy.\n",
        "\n",
        "**BPR**:\n",
        "- Shows moderate diversity (GiniIndex, ShannonEntropy) but lower accuracy (Precision, Recall, NDCG).\n",
        "- Its balanced approach toward diversity affects its ability to maintain high recommendation accuracy.\n",
        "\n",
        "**ItemKNN**:\n",
        "- Achieves higher diversity than BPR, with strong GiniIndex and ShannonEntropy values.\n",
        "- Although diversity is improved, the accuracy metrics (Precision, Recall, NDCG) remain reasonable, showing a balanced tradeoff.\n",
        "\n",
        "**Pop**:\n",
        "- Maximizes diversity (extremely high GiniIndex and ShannonEntropy), but at the cost of accuracy.\n",
        "- Its simplistic approach results in higher Precision, Recall, and NDCG values, but its focus on popular items results in limited diversity.\n",
        "\n",
        "Overall, the tradeoff is evident: models like Pop can achieve higher accuracy by focusing on popular items, while BPR and ItemKNN improve diversity at the expense of some accuracy.\n"
      ],
      "metadata": {
        "id": "_gQjKH7BKvbN"
      }
    },
    {
      "cell_type": "markdown",
      "source": [
        "#5) Long-Tail Recommendations\n",
        "##**Research Question:** How well do traditional recommendation algorithms perform in recommending items from the long tail of the distribution?\n",
        "\n",
        "Testable Metrics: TailPercentage, ItemCoverage, NDCG\n",
        "\n",
        "Approach:\n",
        "Train models like BPR, ItemKNN, and Pop on your dataset.\n",
        "Use the specified metrics to measure how well each model can recommend long-tail items (TailPercentage, ItemCoverage) and how this affects overall accuracy (NDCG).\n"
      ],
      "metadata": {
        "id": "V27HhkPTKekk"
      }
    },
    {
      "cell_type": "code",
      "source": [
        "# List of models to train and evaluate\n",
        "models = ['BPR', 'ItemKNN', 'Pop']\n",
        "\n",
        "# Metrics to evaluate for each research question\n",
        "metrics_list = [\n",
        "    ['TailPercentage', 'ItemCoverage', 'NDCG', 'MRR'] # For long-tail recommendations\n",
        "]\n",
        "\n",
        "# Iterate over the models and metrics\n",
        "for i, metrics in enumerate(metrics_list, start=1):\n",
        "    print(f\"\\nResearch Question {i}: Evaluating with metrics: {metrics}\")\n",
        "\n",
        "    for model in models:\n",
        "        print(f\"\\nTraining and evaluating model: {model}\")\n",
        "\n",
        "        config_dict = {\n",
        "            'model': model,\n",
        "            'dataset': dataset_name,\n",
        "            'data_path': 'dataset/',\n",
        "            'epochs': 1,\n",
        "            'topk': 10,\n",
        "            'metrics': metrics,\n",
        "        }\n",
        "\n",
        "        result = run_recbole(config_dict=config_dict)\n",
        "        print(f\"\\nEvaluation results for {model} on Research Question {i}:\")\n",
        "        print(result)"
      ],
      "metadata": {
        "colab": {
          "base_uri": "https://localhost:8080/"
        },
        "id": "kp1bZribK6H8",
        "outputId": "59cbb3b8-defc-4ec8-b0b0-58693cafe38f"
      },
      "execution_count": 9,
      "outputs": [
        {
          "output_type": "stream",
          "name": "stdout",
          "text": [
            "\n",
            "Research Question 1: Evaluating with metrics: ['TailPercentage', 'ItemCoverage', 'NDCG', 'MRR']\n",
            "\n",
            "Training and evaluating model: BPR\n"
          ]
        },
        {
          "output_type": "stream",
          "name": "stderr",
          "text": [
            "WARNING:root:command line args [-f /root/.local/share/jupyter/runtime/kernel-5a6497b6-b52a-408b-b67b-d8aec7110cb2.json] will not be used in RecBole\n",
            "WARNING:root:In inter_feat, line [25779], item_id do not exist, so they will be removed.\n",
            "Train     0:   0%|                                                           | 0/12 [00:00<?, ?it/s]/usr/local/lib/python3.10/dist-packages/recbole/trainer/trainer.py:235: FutureWarning: `torch.cuda.amp.GradScaler(args...)` is deprecated. Please use `torch.amp.GradScaler('cuda', args...)` instead.\n",
            "  scaler = amp.GradScaler(enabled=self.enable_scaler)\n",
            "Train     0: 100%|██████████████████████████████████████████████████| 12/12 [00:00<00:00, 26.10it/s]\n",
            "Evaluate   : 100%|███████████████████████████████████████████████| 441/441 [00:00<00:00, 932.16it/s]\n",
            "/usr/local/lib/python3.10/dist-packages/recbole/trainer/trainer.py:583: FutureWarning: You are using `torch.load` with `weights_only=False` (the current default value), which uses the default pickle module implicitly. It is possible to construct malicious pickle data which will execute arbitrary code during unpickling (See https://github.com/pytorch/pytorch/blob/main/SECURITY.md#untrusted-models for more details). In a future release, the default value for `weights_only` will be flipped to `True`. This limits the functions that could be executed during unpickling. Arbitrary objects will no longer be allowed to be loaded via this mode unless they are explicitly allowlisted by the user via `torch.serialization.add_safe_globals`. We recommend you start setting `weights_only=True` for any use case where you don't have full control of the loaded file. Please open an issue on GitHub for any issues related to this experimental feature.\n",
            "  checkpoint = torch.load(checkpoint_file, map_location=self.device)\n",
            "Evaluate   : 100%|█████████████████████████████████████████████| 1362/1362 [00:01<00:00, 928.14it/s]\n"
          ]
        },
        {
          "output_type": "stream",
          "name": "stdout",
          "text": [
            "\n",
            "Evaluation results for BPR on Research Question 1:\n",
            "{'best_valid_score': 0.0007, 'valid_score_bigger': True, 'best_valid_result': OrderedDict([('tailpercentage@10', 0.0946), ('itemcoverage@10', 0.476), ('ndcg@10', 0.0016), ('mrr@10', 0.0007)]), 'test_result': OrderedDict([('tailpercentage@10', 0.0925), ('itemcoverage@10', 0.7765), ('ndcg@10', 0.0001), ('mrr@10', 0.0002)])}\n",
            "\n",
            "Training and evaluating model: ItemKNN\n"
          ]
        },
        {
          "output_type": "stream",
          "name": "stderr",
          "text": [
            "WARNING:root:command line args [-f /root/.local/share/jupyter/runtime/kernel-5a6497b6-b52a-408b-b67b-d8aec7110cb2.json] will not be used in RecBole\n",
            "WARNING:root:In inter_feat, line [25779], item_id do not exist, so they will be removed.\n",
            "Train     0:   0%|                                                           | 0/24 [00:00<?, ?it/s]/usr/local/lib/python3.10/dist-packages/recbole/trainer/trainer.py:235: FutureWarning: `torch.cuda.amp.GradScaler(args...)` is deprecated. Please use `torch.amp.GradScaler('cuda', args...)` instead.\n",
            "  scaler = amp.GradScaler(enabled=self.enable_scaler)\n",
            "Train     0: 100%|█████████████████████████████████████████████████| 24/24 [00:00<00:00, 377.29it/s]\n",
            "Evaluate   : 100%|██████████████████████████████████████████████| 441/441 [00:00<00:00, 1068.03it/s]\n",
            "/usr/local/lib/python3.10/dist-packages/recbole/trainer/trainer.py:583: FutureWarning: You are using `torch.load` with `weights_only=False` (the current default value), which uses the default pickle module implicitly. It is possible to construct malicious pickle data which will execute arbitrary code during unpickling (See https://github.com/pytorch/pytorch/blob/main/SECURITY.md#untrusted-models for more details). In a future release, the default value for `weights_only` will be flipped to `True`. This limits the functions that could be executed during unpickling. Arbitrary objects will no longer be allowed to be loaded via this mode unless they are explicitly allowlisted by the user via `torch.serialization.add_safe_globals`. We recommend you start setting `weights_only=True` for any use case where you don't have full control of the loaded file. Please open an issue on GitHub for any issues related to this experimental feature.\n",
            "  checkpoint = torch.load(checkpoint_file, map_location=self.device)\n",
            "Evaluate   : 100%|█████████████████████████████████████████████| 1362/1362 [00:01<00:00, 984.30it/s]\n"
          ]
        },
        {
          "output_type": "stream",
          "name": "stdout",
          "text": [
            "\n",
            "Evaluation results for ItemKNN on Research Question 1:\n",
            "{'best_valid_score': 0.0053, 'valid_score_bigger': True, 'best_valid_result': OrderedDict([('tailpercentage@10', 0.488), ('itemcoverage@10', 0.1042), ('ndcg@10', 0.0074), ('mrr@10', 0.0053)]), 'test_result': OrderedDict([('tailpercentage@10', 0.5518), ('itemcoverage@10', 0.1287), ('ndcg@10', 0.01), ('mrr@10', 0.0074)])}\n",
            "\n",
            "Training and evaluating model: Pop\n"
          ]
        },
        {
          "output_type": "stream",
          "name": "stderr",
          "text": [
            "WARNING:root:command line args [-f /root/.local/share/jupyter/runtime/kernel-5a6497b6-b52a-408b-b67b-d8aec7110cb2.json] will not be used in RecBole\n",
            "WARNING:root:In inter_feat, line [25779], item_id do not exist, so they will be removed.\n",
            "Train     0:   0%|                                                           | 0/24 [00:00<?, ?it/s]/usr/local/lib/python3.10/dist-packages/recbole/trainer/trainer.py:235: FutureWarning: `torch.cuda.amp.GradScaler(args...)` is deprecated. Please use `torch.amp.GradScaler('cuda', args...)` instead.\n",
            "  scaler = amp.GradScaler(enabled=self.enable_scaler)\n",
            "Train     0: 100%|█████████████████████████████████████████████████| 24/24 [00:00<00:00, 356.49it/s]\n",
            "Evaluate   : 100%|██████████████████████████████████████████████| 441/441 [00:00<00:00, 1338.75it/s]\n",
            "/usr/local/lib/python3.10/dist-packages/recbole/trainer/trainer.py:583: FutureWarning: You are using `torch.load` with `weights_only=False` (the current default value), which uses the default pickle module implicitly. It is possible to construct malicious pickle data which will execute arbitrary code during unpickling (See https://github.com/pytorch/pytorch/blob/main/SECURITY.md#untrusted-models for more details). In a future release, the default value for `weights_only` will be flipped to `True`. This limits the functions that could be executed during unpickling. Arbitrary objects will no longer be allowed to be loaded via this mode unless they are explicitly allowlisted by the user via `torch.serialization.add_safe_globals`. We recommend you start setting `weights_only=True` for any use case where you don't have full control of the loaded file. Please open an issue on GitHub for any issues related to this experimental feature.\n",
            "  checkpoint = torch.load(checkpoint_file, map_location=self.device)\n",
            "Evaluate   : 100%|████████████████████████████████████████████| 1362/1362 [00:01<00:00, 1156.94it/s]\n"
          ]
        },
        {
          "output_type": "stream",
          "name": "stdout",
          "text": [
            "\n",
            "Evaluation results for Pop on Research Question 1:\n",
            "{'best_valid_score': 0.0091, 'valid_score_bigger': True, 'best_valid_result': OrderedDict([('tailpercentage@10', 0.0), ('itemcoverage@10', 0.0022), ('ndcg@10', 0.0121), ('mrr@10', 0.0091)]), 'test_result': OrderedDict([('tailpercentage@10', 0.0), ('itemcoverage@10', 0.0022), ('ndcg@10', 0.0238), ('mrr@10', 0.017)])}\n"
          ]
        }
      ]
    },
    {
      "cell_type": "markdown",
      "source": [
        "##5) Results\n",
        "\n",
        "This evaluation answers the research question by showing how well each algorithm performs in recommending long-tail items and how it impacts overall accuracy.\n",
        "\n",
        "**BPR**:\n",
        "- Moderate performance in recommending long-tail items with decent TailPercentage and ItemCoverage.\n",
        "- However, the accuracy (NDCG) remains relatively low, indicating that while it covers more items, it sacrifices accuracy.\n",
        "\n",
        "**ItemKNN**:\n",
        "- Performs well in recommending long-tail items with higher TailPercentage but lower ItemCoverage compared to BPR.\n",
        "- Its accuracy is better than BPR (higher NDCG), showing a more balanced performance between covering long-tail items and maintaining accuracy.\n",
        "\n",
        "**Pop**:\n",
        "- Struggles to recommend long-tail items, as shown by the very low TailPercentage and ItemCoverage.\n",
        "- This focus on popular items results in higher accuracy (NDCG), but at the cost of almost completely ignoring the long-tail.\n",
        "\n",
        "In summary, BPR and ItemKNN are better suited for long-tail recommendations, while Pop focuses on popular items at the expense of long-tail coverage.\n"
      ],
      "metadata": {
        "id": "g95dzocFMCDm"
      }
    }
  ]
}