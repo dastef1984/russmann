{
 "cells": [
  {
   "cell_type": "markdown",
   "metadata": {},
   "source": [
    "### Summary of Testing Drug Review Dataset (Kaggle)\n",
    "\n",
    "The objective of this testing was to preprocess a drug review dataset and use it to train a recommendation model with Recbole. The process began by loading and combining the train and test datasets into a single DataFrame. Unique identifiers for users and items were assigned using `LabelEncoder`, and the date strings were converted to timestamps. Interaction, user, and item files were created and verified for correctness.\n",
    "\n",
    "The configuration for Recbole was defined, specifying fields to load, batch sizes, epochs, and evaluation metrics. The BPR (Bayesian Personalized Ranking) model was initialized and trained using the prepared datasets. Training progress was displayed for each epoch.\n",
    "\n",
    "Despite completing the training process, the results indicated that the best validation score was `-inf`, with no valid results for validation and testing. This suggests a problem in the model training or data preparation process, potentially due to incorrect data formatting, inappropriate configuration settings, or issues within the Recbole library.\n",
    "\n",
    "Further investigation is needed to verify data preprocessing steps, review configuration settings, and check for potential bugs in Recbole. Additional diagnostics or tests may help pinpoint the cause and refine the approach."
   ]
  },
  {
   "cell_type": "code",
   "execution_count": 7,
   "metadata": {
    "colab": {
     "base_uri": "https://localhost:8080/"
    },
    "id": "GicRv1IRV1pG",
    "outputId": "10c90e26-9180-4463-f9df-268bf0409878"
   },
   "outputs": [
    {
     "name": "stderr",
     "output_type": "stream",
     "text": [
      "/usr/lib/python3/dist-packages/scipy/__init__.py:146: UserWarning: A NumPy version >=1.17.3 and <1.25.0 is required for this version of SciPy (detected version 1.26.2\n",
      "  warnings.warn(f\"A NumPy version >={np_minversion} and <{np_maxversion}\"\n"
     ]
    },
    {
     "name": "stdout",
     "output_type": "stream",
     "text": [
      "Interaction File Sample:\n",
      "   user_id  item_id  rating     timestamp\n",
      "0   191228     3425       9  1.337472e+09\n",
      "1    88331     1539       8  1.272326e+09\n",
      "2    85964     1986       5  1.260749e+09\n",
      "3   127958     2450       8  1.446509e+09\n",
      "4    33057      554       9  1.480205e+09\n",
      "\n",
      "User File Sample:\n",
      "   user_id\n",
      "0   191228\n",
      "1    88331\n",
      "2    85964\n",
      "3   127958\n",
      "4    33057\n",
      "\n",
      "Item File Sample:\n",
      "   item_id                  drugName                     condition\n",
      "0     3425                 Valsartan  Left Ventricular Dysfunction\n",
      "1     1539                Guanfacine                          ADHD\n",
      "2     1986                    Lybrel                 Birth Control\n",
      "3     2450                Ortho Evra                 Birth Control\n",
      "4      554  Buprenorphine / naloxone             Opiate Dependence\n"
     ]
    }
   ],
   "source": [
    "import pandas as pd\n",
    "from sklearn.preprocessing import LabelEncoder\n",
    "\n",
    "# Load the datasets\n",
    "train_df = pd.read_csv('drugsComTrain_raw.csv')\n",
    "test_df = pd.read_csv('drugsComTest_raw.csv')\n",
    "\n",
    "# Combine train and test datasets\n",
    "df = pd.concat([train_df, test_df])\n",
    "\n",
    "# Assign unique identifiers\n",
    "user_encoder = LabelEncoder()\n",
    "item_encoder = LabelEncoder()\n",
    "\n",
    "df['user_id'] = user_encoder.fit_transform(df['uniqueID'])\n",
    "df['item_id'] = item_encoder.fit_transform(df['drugName'])\n",
    "\n",
    "# Convert date to timestamp\n",
    "df['timestamp'] = pd.to_datetime(df['date'], format='%d-%b-%y').astype(int) / 10**9\n",
    "\n",
    "# Create the interaction file\n",
    "interaction_df = df[['user_id', 'item_id', 'rating', 'timestamp']]\n",
    "interaction_df.to_csv('custom.inter', sep='\\t', index=False)\n",
    "\n",
    "# Create the user file\n",
    "user_df = df[['user_id']].drop_duplicates()\n",
    "user_df.to_csv('custom.user', sep='\\t', index=False)\n",
    "\n",
    "# Create the item file\n",
    "item_df = df[['item_id', 'drugName', 'condition']].drop_duplicates()\n",
    "item_df.to_csv('custom.item', sep='\\t', index=False)\n",
    "\n",
    "# Verify the files\n",
    "print(\"Interaction File Sample:\")\n",
    "print(interaction_df.head())\n",
    "\n",
    "print(\"\\nUser File Sample:\")\n",
    "print(user_df.head())\n",
    "\n",
    "print(\"\\nItem File Sample:\")\n",
    "print(item_df.head())"
   ]
  },
  {
   "cell_type": "code",
   "execution_count": 14,
   "metadata": {
    "colab": {
     "base_uri": "https://localhost:8080/"
    },
    "id": "NQbjeSj2fRxK",
    "outputId": "ff822e41-db89-4466-ae53-c9db358156be"
   },
   "outputs": [
    {
     "name": "stderr",
     "output_type": "stream",
     "text": [
      "WARNING:root:command line args [-f /root/.local/share/jupyter/runtime/kernel-629bc6a5-3067-4491-82d2-470b13a526fc.json] will not be used in RecBole\n",
      "WARNING:root:command line args [-f /root/.local/share/jupyter/runtime/kernel-629bc6a5-3067-4491-82d2-470b13a526fc.json] will not be used in RecBole\n",
      "Train     0: 100%|██████████████████████████████████████████████████| 53/53 [00:14<00:00,  3.59it/s]\n",
      "Train     1: 100%|██████████████████████████████████████████████████| 53/53 [00:12<00:00,  4.20it/s]\n",
      "Train     2: 100%|██████████████████████████████████████████████████| 53/53 [00:12<00:00,  4.26it/s]\n",
      "Train     3: 100%|██████████████████████████████████████████████████| 53/53 [00:11<00:00,  4.43it/s]\n",
      "Train     4: 100%|██████████████████████████████████████████████████| 53/53 [00:11<00:00,  4.52it/s]\n",
      "Train     5: 100%|██████████████████████████████████████████████████| 53/53 [00:11<00:00,  4.64it/s]\n",
      "Train     6: 100%|██████████████████████████████████████████████████| 53/53 [00:11<00:00,  4.42it/s]\n",
      "Train     7: 100%|██████████████████████████████████████████████████| 53/53 [00:13<00:00,  4.02it/s]\n",
      "Train     8: 100%|██████████████████████████████████████████████████| 53/53 [00:12<00:00,  4.09it/s]\n",
      "Train     9: 100%|██████████████████████████████████████████████████| 53/53 [00:12<00:00,  4.27it/s]\n"
     ]
    },
    {
     "data": {
      "text/plain": [
       "{'best_valid_score': -inf,\n",
       " 'valid_score_bigger': True,\n",
       " 'best_valid_result': None,\n",
       " 'test_result': None}"
      ]
     },
     "execution_count": 14,
     "metadata": {},
     "output_type": "execute_result"
    }
   ],
   "source": [
    "from recbole.quick_start import run_recbole\n",
    "from recbole.config import Config\n",
    "from recbole.utils import init_seed\n",
    "from recbole.data.utils import create_dataset, data_preparation\n",
    "\n",
    "# Define the configuration dictionary directly in code\n",
    "config_dict = {\n",
    "    'USER_ID_FIELD': 'user_id',\n",
    "    'ITEM_ID_FIELD': 'item_id',\n",
    "    'RATING_FIELD': 'rating',\n",
    "    'TIME_FIELD': 'timestamp',\n",
    "    'load_col': {\n",
    "        'inter': ['user_id', 'item_id', 'rating', 'timestamp'],\n",
    "        'item': ['item_id', 'drugName', 'condition'],\n",
    "        'user': ['user_id']\n",
    "    },\n",
    "    'train_batch_size': 4096,\n",
    "    'eval_batch_size': 4096,\n",
    "    'epochs': 10,\n",
    "    'show_progress': True,\n",
    "    'metrics': ['Recall', 'MRR', 'NDCG', 'Hit', 'Precision'],\n",
    "    'valid_metric': 'MRR@10',\n",
    "}\n",
    "\n",
    "# Initialize configuration and dataset\n",
    "config = Config(model='BPR', dataset='custom', config_dict=config_dict)\n",
    "init_seed(config['seed'], config['reproducibility'])\n",
    "dataset = create_dataset(config)\n",
    "\n",
    "# Prepare data\n",
    "train_data, valid_data, test_data = data_preparation(config, dataset)\n",
    "\n",
    "# Run the model\n",
    "run_recbole(model='BPR', dataset='custom', config_dict=config_dict)"
   ]
  },
  {
   "cell_type": "code",
   "execution_count": null,
   "metadata": {},
   "outputs": [],
   "source": []
  }
 ],
 "metadata": {
  "colab": {
   "provenance": []
  },
  "kernelspec": {
   "display_name": "Python 3 (ipykernel)",
   "language": "python",
   "name": "python3"
  },
  "language_info": {
   "codemirror_mode": {
    "name": "ipython",
    "version": 3
   },
   "file_extension": ".py",
   "mimetype": "text/x-python",
   "name": "python",
   "nbconvert_exporter": "python",
   "pygments_lexer": "ipython3",
   "version": "3.10.6"
  }
 },
 "nbformat": 4,
 "nbformat_minor": 1
}
